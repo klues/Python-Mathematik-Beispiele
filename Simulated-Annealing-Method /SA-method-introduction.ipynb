{
 "cells": [
  {
   "cell_type": "markdown",
   "metadata": {},
   "source": [
    "## Agenda\n",
    "\n",
    "1. History\n",
    "2. Connection to physics\n",
    "3. TSP a classic example\n",
    "4. Regression usecases\n",
    "5. Quantum annealing to quantum computing"
   ]
  },
  {
   "cell_type": "markdown",
   "metadata": {},
   "source": [
    "## SA contributions \n",
    "\n",
    "* [1953](http://aip.scitation.org/doi/abs/10.1063/1.1699114) Metropolis, N., Rosenbluth, A. W., Rosenbluth, M. N., Teller, A. H., & Teller, E. (1953). Equation of state calculations by fast computing machines. The journal of chemical physics, 21(6), 1087-1092.\n",
    "\n",
    "    - A modified Monte Carlo method\n",
    "    - configurations with a probability $\\exp(- E / k T)$ are choosen\n",
    "\n",
    "\n",
    "* [1983](http://science.sciencemag.org/content/220/4598/671) Kirkpatrick, S., Gelatt, C. D., & Vecchi, M. P. (1983). Optimization by simulated annealing. science, 220(4598), 671-680.\n",
    "\n",
    "    - problems in the field of design of computers\n",
    "    - subject of combinatorial optimization \n",
    "    - The traveling salesman belongs to the large class of NP-complete\n",
    "    - heuristic methods are problem-specific\n",
    "    - Statistical mechanics is the central dis- cipline of condensed matter physics\n",
    "    - Because the number of atoms is of order $1O^{23}$ cubic centimeter, only the most probable behavior of the system in thermal equilibrium at a given temperature is observed in experiments.\n",
    "    - set of atomic positions ${r_j}$ of the system is weighted by its Boltzmann probability factor.\n",
    "    - TD question: what happens at Temperature close to 0 -> no dynamics and the Boltzmann distribution collapses into the lowest energy state or states.\n",
    "    - Spin Model\n",
    "    - Interaction between each adjacent pair of spins contributes +-J  to the total energy of the chain\n",
    "    - For an N-spin chain, if all configurations are equally likely the interaction energy has a binomial distribution, with the maximum and minimum energies given by +- N J \n",
    "    - the most probable state having zero energy.\n",
    "    -  effective temperature for optimization, \n",
    "    \n",
    "\n",
    "\n",
    "* [1985](http://link.springer.com/article/10.1007%2FBF00940812?LI=true) Černý, V. (1985). Thermodynamical approach to the traveling salesman problem: An efficient simulation algorithm. Journal of optimization theory and applications, 45(1), 41-51.\n",
    "\n",
    "    - statistical system (cities and distances)\n",
    "    - study of different configurations (e.g. cities in a circle)\n",
    "    - get quite close to the optimal solution of the traveling salesman problem.\n",
    "    - In thermodynamics, it is well known that the equilibrium state is a state with maximum entropy In this sense, the transition to an equilibrium is an optimization problem: the search for the maximum of the entropy. \n",
    "\n",
    "\n"
   ]
  },
  {
   "cell_type": "markdown",
   "metadata": {},
   "source": [
    "### The Metropolis Procedure (Maximize)\n",
    "\n",
    "The method starts with a point $x_i$ which can choose at random or with some prejudice. We now wish to generate the next point $x_j$.\n",
    "\n",
    "* Choose $x_t$ uniformly in a neighborhood of $x_i$ , i.e., $-\\Delta x + x_i < x_t < \\Delta x + x_i $.\n",
    "\n",
    "* Then examine $f(x_i)$ and $f(x_t)$\n",
    "\n",
    "* if $f(x_t)$ > $f(x_i)$, accept $x_t$ and put $x_{i+1}=x_t$ \n",
    "\n",
    "* if $f(x_t)$ < $f(x_i)$, generate a new random number $r$ uniformly in $[0,1]$.\n",
    "\n",
    "    * if $r<f(x_t)/f(x_i)$, set $x_{i+1}=x_t$ \n",
    "    * if $r>f(x_t)/f(x_i)$, set $x_{i+1}=x_i$ \n",
    "\n",
    "$x_{i+1}$ is next random point (note it may be identical to $x_i$). Eventually, this produces a set of points distributed ``according to $f(x)$''. \n",
    "\n",
    "\n",
    "[Web Link](http://www.new-npac.org/projects/cdroms/cewes-1998-05/foilsets/cps615ni95/node54.html)"
   ]
  },
  {
   "cell_type": "markdown",
   "metadata": {},
   "source": [
    "## Basic principals of statistical thermodynamics\n",
    "\n",
    "1-dim spin lattice  (up/down) (Ising-Model)\n",
    "\n",
    "$\\uparrow - \\downarrow - \\uparrow - \\uparrow - \\downarrow - \\uparrow - \\uparrow - \\downarrow - \\uparrow $ \n",
    "\n",
    "\n",
    "N spins $\\to$ $2^N$ configurations\n",
    "\n",
    "\n",
    "The system has a defined energy\n",
    "\n",
    "$ E = \\sum \\uparrow - \\sum \\downarrow$\n",
    "\n",
    "\n",
    "In equilibrium, the system randomly changes its state4 from one \n",
    "possible configuration to another \n",
    "\n",
    "\n",
    "the probability of finding the system in a particular configuration is given by the Boltzmann- Gibbs distribution\n",
    "\n",
    "$$ P(conf) = C \\exp (- E_{conf} / T) $$\n",
    "\n",
    "The equilibrium is then\n",
    "\n",
    "$$\\bar{E} = \\frac{\n",
    "\\sum_{conf} E_{conf} \\exp(-E_{conf}/T)\n",
    "}{\n",
    "\\sum_{conf}\\exp(-E_{conf}/T)\n",
    "}$$\n"
   ]
  },
  {
   "cell_type": "markdown",
   "metadata": {},
   "source": [
    "### 1-dim Ising Model\n",
    "\n",
    "$\\uparrow - \\downarrow - \\uparrow - \\uparrow - \\downarrow - \\uparrow - \\uparrow - \\downarrow - \\uparrow $ \n",
    "\n",
    "configuration $\\sigma = (\\sigma_1, \\sigma_2, \\cdots , \\sigma_N)$\n",
    "\n",
    "Energy Function (Hamiltonian)\n",
    "\n",
    "$H(\\sigma) = - \\sum_{<i,j>}E \\sigma_i \\sigma_j - \\sum_i J \\sigma_i$\n",
    "\n",
    "E is the coupling parameter between neighbours\n",
    "\n",
    "\n",
    "J is the coupling to an external field\n",
    "\n",
    "\n",
    "[Link](http://www.math.ubc.ca/~marcus/Math601D_2015/cipra_ising.pdf)\n"
   ]
  },
  {
   "cell_type": "markdown",
   "metadata": {},
   "source": [
    "## The Ising model could give an answer to the spontanous magnetization of feromagnets\n",
    "\n",
    "\n",
    "![](fig/spontmag.png)\n",
    "\n"
   ]
  },
  {
   "cell_type": "code",
   "execution_count": null,
   "metadata": {
    "collapsed": true
   },
   "outputs": [],
   "source": []
  },
  {
   "cell_type": "code",
   "execution_count": null,
   "metadata": {
    "collapsed": true
   },
   "outputs": [],
   "source": []
  },
  {
   "cell_type": "code",
   "execution_count": null,
   "metadata": {
    "collapsed": true
   },
   "outputs": [],
   "source": []
  },
  {
   "cell_type": "code",
   "execution_count": null,
   "metadata": {
    "collapsed": true
   },
   "outputs": [],
   "source": []
  },
  {
   "cell_type": "code",
   "execution_count": null,
   "metadata": {
    "collapsed": true
   },
   "outputs": [],
   "source": []
  },
  {
   "cell_type": "code",
   "execution_count": null,
   "metadata": {
    "collapsed": true
   },
   "outputs": [],
   "source": []
  },
  {
   "cell_type": "code",
   "execution_count": null,
   "metadata": {
    "collapsed": true
   },
   "outputs": [],
   "source": []
  },
  {
   "cell_type": "code",
   "execution_count": null,
   "metadata": {
    "collapsed": true
   },
   "outputs": [],
   "source": []
  },
  {
   "cell_type": "code",
   "execution_count": null,
   "metadata": {
    "collapsed": true
   },
   "outputs": [],
   "source": []
  }
 ],
 "metadata": {
  "kernelspec": {
   "display_name": "Python 3",
   "language": "python",
   "name": "python3"
  },
  "language_info": {
   "codemirror_mode": {
    "name": "ipython",
    "version": 3
   },
   "file_extension": ".py",
   "mimetype": "text/x-python",
   "name": "python",
   "nbconvert_exporter": "python",
   "pygments_lexer": "ipython3",
   "version": "3.6.0"
  }
 },
 "nbformat": 4,
 "nbformat_minor": 2
}
