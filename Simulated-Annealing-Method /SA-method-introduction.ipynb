{
 "cells": [
  {
   "cell_type": "markdown",
   "metadata": {},
   "source": [
    "## Agenda\n",
    "\n",
    "1. History\n",
    "2. Connection to physics\n",
    "3. TSP a classic example\n",
    "4. Regression usecases\n",
    "5. Quantum annealing to quantum computing"
   ]
  },
  {
   "cell_type": "markdown",
   "metadata": {},
   "source": [
    "## SA contributions \n",
    "\n",
    "* [1953](http://aip.scitation.org/doi/abs/10.1063/1.1699114) Metropolis, N., Rosenbluth, A. W., Rosenbluth, M. N., Teller, A. H., & Teller, E. (1953). Equation of state calculations by fast computing machines. The journal of chemical physics, 21(6), 1087-1092.\n",
    "\n",
    "    - A modified Monte Carlo method\n",
    "    - configurations with a probability $\\exp(- E / k T)$ are choosen\n",
    "\n",
    "\n",
    "* [1983](http://science.sciencemag.org/content/220/4598/671) Kirkpatrick, S., Gelatt, C. D., & Vecchi, M. P. (1983). Optimization by simulated annealing. science, 220(4598), 671-680.\n",
    "\n",
    "    - problems in the field of design of computers\n",
    "    - subject of combinatorial optimization \n",
    "    - The traveling salesman belongs to the large class of NP-complete\n",
    "    - heuristic methods are problem-specific\n",
    "    - Statistical mechanics is the central dis- cipline of condensed matter physics\n",
    "    - Because the number of atoms is of order $1O^{23}$ cubic centimeter, only the most probable behavior of the system in thermal equilibrium at a given temperature is observed in experiments.\n",
    "    - set of atomic positions ${r_j}$ of the system is weighted by its Boltzmann probability factor.\n",
    "    - TD question: what happens at Temperature close to 0 -> no dynamics and the Boltzmann distribution collapses into the lowest energy state or states.\n",
    "    - Spin Model\n",
    "    - Interaction between each adjacent pair of spins contributes +-J  to the total energy of the chain\n",
    "    - For an N-spin chain, if all configurations are equally likely the interaction energy has a binomial distribution, with the maximum and minimum energies given by +- N J \n",
    "    - the most probable state having zero energy.\n",
    "    -  effective temperature for optimization, \n",
    "    \n",
    "\n",
    "\n",
    "* [1985](http://link.springer.com/article/10.1007%2FBF00940812?LI=true) Černý, V. (1985). Thermodynamical approach to the traveling salesman problem: An efficient simulation algorithm. Journal of optimization theory and applications, 45(1), 41-51.\n",
    "\n",
    "    - statistical system (cities and distances)\n",
    "    - study of different configurations (e.g. cities in a circle)\n",
    "    - get quite close to the optimal solution of the traveling salesman problem.\n",
    "    - In thermodynamics, it is well known that the equilibrium state is a state with maximum entropy In this sense, the transition to an equilibrium is an optimization problem: the search for the maximum of the entropy. \n",
    "\n",
    "\n",
    "* [1987](https://www.researchgate.net/profile/Angelo_Corana/publication/220492522_Minimizing_Multimodal_Functions_Of_Continuous-Variables_with_Simulated_Annealing_Algorithm/links/00b7d5163cb37c30f9000000/Minimizing-Multimodal-Functions-Of-Continuous-Variables-with-Simulated-Annealing-Algorithm.pdf) Corana, A., Marchesi, M., Martini, C., & Ridella, S. (1987). Minimizing multimodal functions of continuous variables with the “simulated annealing” algorithm Corrigenda for this article is available here. ACM Transactions on Mathematical Software (TOMS), 13(3), 262-280.\n",
    "    - apply on continious domain\n",
    "    - difficulties: the choice of the starting temperature $T_0$\n",
    "    - monitoring the function behavior as SA proceeds\n",
    "    \n",
    "    \n",
    "* [2013](https://journal.r-project.org/archive/2013-1/xiang-gubian-suomela-etal.pdf) Xiang, Y., Gubian, S., Suomela, B., & Hoeng, J. (2013). Generalized simulated annealing for global optimization: the GenSA Package. The R Journal, 5(1), 13-29.\n",
    "    - R Package GenSA\n",
    "    - generalized simulated annealing algorithm\n",
    "    \n",
    "    \n",
    "    \n",
    "* [2016](https://www.ncbi.nlm.nih.gov/pmc/articles/PMC4912009/) Strobl, M. A., & Barker, D. (2016). On simulated annealing phase transitions in phylogeny reconstruction. Molecular phylogenetics and evolution, 101, 46-55.\n",
    "    "
   ]
  },
  {
   "cell_type": "markdown",
   "metadata": {},
   "source": [
    "### The Metropolis Procedure (Maximize)\n",
    "\n",
    "The method starts with a point $x_i$ which can choose at random or with some prejudice. We now wish to generate the next point $x_j$.\n",
    "\n",
    "* Choose $x_t$ uniformly in a neighborhood of $x_i$ , i.e., $-\\Delta x + x_i < x_t < \\Delta x + x_i $.\n",
    "\n",
    "* Then examine $f(x_i)$ and $f(x_t)$\n",
    "\n",
    "* if $f(x_t)$ > $f(x_i)$, accept $x_t$ and put $x_{i+1}=x_t$ \n",
    "\n",
    "* if $f(x_t)$ < $f(x_i)$, generate a new random number $r$ uniformly in $[0,1]$.\n",
    "\n",
    "    * if $r<f(x_t)/f(x_i)$, set $x_{i+1}=x_t$ \n",
    "    * if $r>f(x_t)/f(x_i)$, set $x_{i+1}=x_i$ \n",
    "\n",
    "$x_{i+1}$ is next random point (note it may be identical to $x_i$). Eventually, this produces a set of points distributed ``according to $f(x)$''. \n",
    "\n",
    "\n",
    "[Web Link](http://www.new-npac.org/projects/cdroms/cewes-1998-05/foilsets/cps615ni95/node54.html)"
   ]
  },
  {
   "cell_type": "markdown",
   "metadata": {},
   "source": [
    "## Basic principals of statistical thermodynamics\n",
    "\n",
    "1-dim spin lattice  (up/down) (Ising-Model)\n",
    "\n",
    "$\\uparrow - \\downarrow - \\uparrow - \\uparrow - \\downarrow - \\uparrow - \\uparrow - \\downarrow - \\uparrow $ \n",
    "\n",
    "\n",
    "N spins $\\to$ $2^N$ configurations\n",
    "\n",
    "\n",
    "The system has a defined energy\n",
    "\n",
    "$ E = \\sum \\uparrow - \\sum \\downarrow$\n",
    "\n",
    "\n",
    "In equilibrium, the system randomly changes its state4 from one \n",
    "possible configuration to another \n",
    "\n",
    "\n",
    "the probability of finding the system in a particular configuration is given by the Boltzmann- Gibbs distribution\n",
    "\n",
    "$$ P(conf) = C \\exp (- E_{conf} / T) $$\n",
    "\n",
    "The equilibrium is then\n",
    "\n",
    "$$\\bar{E} = \\frac{\n",
    "\\sum_{conf} E_{conf} \\exp(-E_{conf}/T)\n",
    "}{\n",
    "\\sum_{conf}\\exp(-E_{conf}/T)\n",
    "}$$\n"
   ]
  },
  {
   "cell_type": "markdown",
   "metadata": {},
   "source": [
    "### 1-dim Ising Model\n",
    "\n",
    "$\\uparrow - \\downarrow - \\uparrow - \\uparrow - \\downarrow - \\uparrow - \\uparrow - \\downarrow - \\uparrow $ \n",
    "\n",
    "configuration $\\sigma = (\\sigma_1, \\sigma_2, \\cdots , \\sigma_N)$\n",
    "\n",
    "Energy Function (Hamiltonian)\n",
    "\n",
    "$H(\\sigma) = - \\sum_{<i,j>}E \\sigma_i \\sigma_j - \\sum_i J \\sigma_i$\n",
    "\n",
    "E is the coupling parameter between neighbours\n",
    "\n",
    "\n",
    "J is the coupling to an external field\n",
    "\n",
    "\n",
    "[Link](http://www.math.ubc.ca/~marcus/Math601D_2015/cipra_ising.pdf)\n"
   ]
  },
  {
   "cell_type": "markdown",
   "metadata": {},
   "source": [
    "## The Ising model could give an answer to the spontanous magnetization of feromagnets\n",
    "\n",
    "\n",
    "![](fig/spontmag.png)\n",
    "\n"
   ]
  },
  {
   "cell_type": "markdown",
   "metadata": {
    "collapsed": true
   },
   "source": [
    "## Source Code\n",
    "\n",
    "- [simanneal on GitHub for TSP](https://github.com/perrygeo/simanneal)\n",
    "\n",
    "- [SimulatedAnnealing](https://github.com/skylergrammer/SimulatedAnnealing)"
   ]
  },
  {
   "cell_type": "markdown",
   "metadata": {
    "collapsed": true
   },
   "source": [
    "Finding global minima \n",
    "\n",
    "on multimodal Function\n",
    "\n",
    "higher dimension"
   ]
  },
  {
   "cell_type": "code",
   "execution_count": 10,
   "metadata": {},
   "outputs": [
    {
     "data": {
      "text/plain": [
       "[<matplotlib.lines.Line2D at 0x11ab2b668>]"
      ]
     },
     "execution_count": 10,
     "metadata": {},
     "output_type": "execute_result"
    },
    {
     "data": {
      "image/png": "[encoded data removed]",
      "text/plain": [
       "<matplotlib.figure.Figure at 0x11aa23d30>"
      ]
     },
     "metadata": {},
     "output_type": "display_data"
    }
   ],
   "source": [
    "from math import sin,cos,pi\n",
    "import matplotlib.pyplot as plt\n",
    "import numpy as np\n",
    "\n",
    "%matplotlib inline \n",
    "\n",
    "f = lambda x: 3*np.sin(x*4*pi)+x*x\n",
    "\n",
    "x = np.arange(-4, 5, 0.01);\n",
    "y = f(x)\n",
    "plt.plot(x, y)"
   ]
  },
  {
   "cell_type": "code",
   "execution_count": 15,
   "metadata": {},
   "outputs": [
    {
     "data": {
      "text/plain": [
       "[8.9999999999999964,\n",
       " 8.9999999999999964,\n",
       " 8.9999999999999964,\n",
       " 8.9999999999999964]"
      ]
     },
     "execution_count": 15,
     "metadata": {},
     "output_type": "execute_result"
    }
   ],
   "source": [
    "# Step 0 \n",
    "\n",
    "N = 4\n",
    "\n",
    "x0 = 3\n",
    "v0 = 0.1\n",
    "T0 = 10E9\n",
    "epsilon = 1E-3\n",
    "\n",
    "f0 = f(x0)\n",
    "\n",
    "xopt = x0\n",
    "fopt = f0\n",
    "\n",
    "## int nu to zero\n",
    "nu = [0] * N\n",
    "\n",
    "fs = [f0] * N\n",
    "\n",
    "\n"
   ]
  },
  {
   "cell_type": "code",
   "execution_count": null,
   "metadata": {
    "collapsed": true
   },
   "outputs": [],
   "source": []
  },
  {
   "cell_type": "markdown",
   "metadata": {
    "collapsed": true
   },
   "source": [
    "least mean square regression \n",
    "\n",
    "as opimiziation problem"
   ]
  },
  {
   "cell_type": "code",
   "execution_count": null,
   "metadata": {
    "collapsed": true
   },
   "outputs": [],
   "source": []
  },
  {
   "cell_type": "code",
   "execution_count": null,
   "metadata": {
    "collapsed": true
   },
   "outputs": [],
   "source": []
  },
  {
   "cell_type": "code",
   "execution_count": null,
   "metadata": {
    "collapsed": true
   },
   "outputs": [],
   "source": []
  },
  {
   "cell_type": "code",
   "execution_count": null,
   "metadata": {
    "collapsed": true
   },
   "outputs": [],
   "source": []
  }
 ],
 "metadata": {
  "kernelspec": {
   "display_name": "Python 3",
   "language": "python",
   "name": "python3"
  },
  "language_info": {
   "codemirror_mode": {
    "name": "ipython",
    "version": 3
   },
   "file_extension": ".py",
   "mimetype": "text/x-python",
   "name": "python",
   "nbconvert_exporter": "python",
   "pygments_lexer": "ipython3",
   "version": "3.6.1"
  }
 },
 "nbformat": 4,
 "nbformat_minor": 2
}
