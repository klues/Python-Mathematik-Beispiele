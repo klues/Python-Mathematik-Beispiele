{
 "cells": [
  {
   "cell_type": "markdown",
   "metadata": {
    "slideshow": {
     "slide_type": "slide"
    }
   },
   "source": [
    "![](fig/fhnw_fhnw_logo_en.png)\n",
    "\n",
    "\n",
    "## Simulated Annealing Method\n",
    "\n",
    "### Introduction & possible applicatitions\n",
    "\n",
    "\n",
    "\n",
    "Dr. Martin Guggisberg  \n",
    "University of Applied Sciences and Arts   \n",
    "Northwestern Switzerland FHNW  \n",
    "Basel, Switzerland\n",
    "\n",
    "martin.guggisberg@fhnw.ch\n"
   ]
  },
  {
   "cell_type": "markdown",
   "metadata": {
    "slideshow": {
     "slide_type": "slide"
    }
   },
   "source": [
    "\n",
    "## Simulated Annealing Method\n",
    "\n",
    "### Agenda\n",
    "\n",
    "1. Introduction and connections to Condensed Matter Physics\n",
    "1. Important SA contributions\n",
    "1. TSP a classic example\n",
    "1. SA for Regression \n",
    "1. Outlook: Quantum annealing "
   ]
  },
  {
   "cell_type": "markdown",
   "metadata": {
    "slideshow": {
     "slide_type": "slide"
    }
   },
   "source": [
    "## Simulated annealing (SA) \n",
    "\n",
    "### is a probabilistic technique for approximating the global optimum of a given function. \n",
    "### special for higher dimensions\n",
    "![](fig/gmin.png)"
   ]
  },
  {
   "cell_type": "markdown",
   "metadata": {
    "slideshow": {
     "slide_type": "slide"
    }
   },
   "source": [
    "##  Annealing process from a physics perspective"
   ]
  },
  {
   "cell_type": "markdown",
   "metadata": {
    "slideshow": {
     "slide_type": "slide"
    }
   },
   "source": [
    "\n",
    "\n",
    "\n",
    "## States of matter\n",
    "\n",
    "![](fig/maxresdefault.jpg)\n",
    "\n",
    "[YouTube States of Matter - solids, liquids and gases](https://www.youtube.com/watch?v=21CR01rlmv4)"
   ]
  },
  {
   "cell_type": "markdown",
   "metadata": {
    "slideshow": {
     "slide_type": "slide"
    }
   },
   "source": [
    "### Thermodynamic equilibrium\n",
    "\n",
    "![](fig/Termo_equi.jpg)\n",
    "\n"
   ]
  },
  {
   "cell_type": "markdown",
   "metadata": {},
   "source": [
    "\n",
    "### Annealing technics in Material Sciences\n",
    "\n",
    "#### stainless steel production\n",
    "\n",
    "![](fig/steel.png)\n",
    "\n",
    "\n",
    "Hardness and tensile strength of the steel is related to the amount of carbon\n",
    "\n",
    "Exact anneling method / heating temperature vs. time graph is an industry secret\n",
    "\n",
    "\n",
    "\n",
    "\n"
   ]
  },
  {
   "cell_type": "markdown",
   "metadata": {
    "slideshow": {
     "slide_type": "slide"
    }
   },
   "source": [
    "## Annealing Method in condensed matter physics\n",
    "\n",
    "* Annealing occurs by the diffusion of atoms within a solid material, so that the material progresses towards its equilibrium state. \n",
    "\n",
    "* Heat increases the rate of diffusion by providing the energy needed to break bonds. \n",
    "\n",
    "* The movement of atoms has the effect of redistributing and eradicating the dislocations in metals and in ceramics.\n",
    "\n",
    "![](fig/vac_dis.png)\n"
   ]
  },
  {
   "cell_type": "markdown",
   "metadata": {
    "slideshow": {
     "slide_type": "slide"
    }
   },
   "source": [
    "## Annealing process in Surface Sciences\n",
    "\n",
    "## Si(111) 7x7 surface\n",
    "\n",
    "![](fig/si7x7.png)\n",
    "\n",
    "**Takayanagi, K., Tanishiro, Y., Takahashi, M., & Takahashi, S. (1985). Structural analysis of Si (111)‐7× 7 by UHV‐transmission electron diffraction and microscopy. Journal of Vacuum Science & Technology A: Vacuum, Surfaces, and Films, 3(3), 1502-1506.**\n",
    "\n",
    "\n",
    "\n"
   ]
  },
  {
   "attachments": {},
   "cell_type": "markdown",
   "metadata": {
    "slideshow": {
     "slide_type": "slide"
    }
   },
   "source": [
    "Preparing Si(111) 7x7 surface trough a controlled annealing procedure\n",
    "\n",
    "- First heating the Si crystal for 90 seconds up to ~ $1200^\\circ$ C\n",
    "\n",
    "- Slowly decrease temperature starting from $900^\\circ$ with a gradient of $0.05^\\circ$ C/sec \n",
    "\n",
    "\n",
    "![](fig/si-afm.png)\n",
    "\n",
    "**Guggisberg, M., Pfeiffer, O., Schär, S., Barwich, V., Bammerlin, M., Loppacher, C. & Meyer, E. (2001). Contrast inversion in nc-AFM on Si (111) 7× 7 due to short-range electrostatic interactions. Applied Physics A: Materials Science & Processing, 72(7), S19-S22.**"
   ]
  },
  {
   "cell_type": "markdown",
   "metadata": {
    "slideshow": {
     "slide_type": "slide"
    }
   },
   "source": [
    "### Basic concept of Simulated Annealing \n",
    "\n",
    "* Relaxation into minmal state\n",
    "* configurations with a probability $\\propto \\exp(- E / k T)$ are choosen\n",
    "\n",
    "![](fig/sa-prinz.png)\n",
    "\n",
    "**Metropolis, N., Rosenbluth, A. W., Rosenbluth, M. N., Teller, A. H., & Teller, E. (1953). Equation of state calculations by fast computing machines. The journal of chemical physics, 21(6), 1087-1092.**"
   ]
  },
  {
   "cell_type": "markdown",
   "metadata": {
    "collapsed": true,
    "slideshow": {
     "slide_type": "slide"
    }
   },
   "source": [
    "### Successfull applications in the field of combinatorial optimization\n",
    "    \n",
    "- Problems in the field of design of computers\n",
    "- The traveling salesman problem (TSP, NP-complete)     \n",
    "\n",
    "### Example XX Cities in Europe\n",
    "Copyright (c) 2010 Emmanuel Goossaert \n",
    "http://codecapsule.com/2010/04/06/simulated-annealing-traveling-salesman/\n"
   ]
  },
  {
   "cell_type": "code",
   "execution_count": null,
   "metadata": {
    "collapsed": true,
    "slideshow": {
     "slide_type": "slide"
    }
   },
   "outputs": [],
   "source": []
  },
  {
   "cell_type": "code",
   "execution_count": null,
   "metadata": {
    "collapsed": true,
    "slideshow": {
     "slide_type": "slide"
    }
   },
   "outputs": [],
   "source": []
  },
  {
   "cell_type": "code",
   "execution_count": null,
   "metadata": {
    "collapsed": true,
    "slideshow": {
     "slide_type": "slide"
    }
   },
   "outputs": [],
   "source": []
  },
  {
   "cell_type": "markdown",
   "metadata": {
    "slideshow": {
     "slide_type": "notes"
    }
   },
   "source": [
    "### Important contributions \n",
    "\n",
    "* [1953](http://aip.scitation.org/doi/abs/10.1063/1.1699114) Metropolis, N., Rosenbluth, A. W., Rosenbluth, M. N., Teller, A. H., & Teller, E. (1953). Equation of state calculations by fast computing machines. The journal of chemical physics, 21(6), 1087-1092.\n",
    "\n",
    "    - A modified Monte Carlo method\n",
    "    - configurations with a probability $\\exp(- E / k T)$ are choosen\n",
    "\n",
    "\n",
    "* [1983](http://science.sciencemag.org/content/220/4598/671) Kirkpatrick, S., Gelatt, C. D., & Vecchi, M. P. (1983). Optimization by simulated annealing. science, 220(4598), 671-680.\n",
    "\n",
    "    - problems in the field of design of computers\n",
    "    - subject of combinatorial optimization \n",
    "    - The traveling salesman belongs to the large class of NP-complete\n",
    "    - heuristic methods are problem-specific\n",
    "    - Statistical mechanics is the central dis- cipline of condensed matter physics\n",
    "    - Because the number of atoms is of order $1O^{23}$ cubic centimeter, only the most probable behavior of the system in thermal equilibrium at a given temperature is observed in experiments.\n",
    "    - set of atomic positions ${r_j}$ of the system is weighted by its Boltzmann probability factor.\n",
    "    - TD question: what happens at Temperature close to 0 -> no dynamics and the Boltzmann distribution collapses into the lowest energy state or states.\n",
    "    - Spin Model\n",
    "    - Interaction between each adjacent pair of spins contributes +-J  to the total energy of the chain\n",
    "    - For an N-spin chain, if all configurations are equally likely the interaction energy has a binomial distribution, with the maximum and minimum energies given by +- N J \n",
    "    - the most probable state having zero energy.\n",
    "    -  effective temperature for optimization, \n",
    "    \n",
    "\n",
    "\n",
    "* [1985](http://link.springer.com/article/10.1007%2FBF00940812?LI=true) Černý, V. (1985). Thermodynamical approach to the traveling salesman problem: An efficient simulation algorithm. Journal of optimization theory and applications, 45(1), 41-51.\n",
    "\n",
    "    - statistical system (cities and distances)\n",
    "    - study of different configurations (e.g. cities in a circle)\n",
    "    - get quite close to the optimal solution of the traveling salesman problem.\n",
    "    - In thermodynamics, it is well known that the equilibrium state is a state with maximum entropy In this sense, the transition to an equilibrium is an optimization problem: the search for the maximum of the entropy. \n",
    "\n",
    "\n",
    "* [1987](https://www.researchgate.net/profile/Angelo_Corana/publication/220492522_Minimizing_Multimodal_Functions_Of_Continuous-Variables_with_Simulated_Annealing_Algorithm/links/00b7d5163cb37c30f9000000/Minimizing-Multimodal-Functions-Of-Continuous-Variables-with-Simulated-Annealing-Algorithm.pdf) Corana, A., Marchesi, M., Martini, C., & Ridella, S. (1987). Minimizing multimodal functions of continuous variables with the “simulated annealing” algorithm Corrigenda for this article is available here. ACM Transactions on Mathematical Software (TOMS), 13(3), 262-280.\n",
    "    - apply on continious domain\n",
    "    - difficulties: the choice of the starting temperature $T_0$\n",
    "    - monitoring the function behavior as SA proceeds\n",
    "    \n",
    "    \n",
    "* [2013](https://journal.r-project.org/archive/2013-1/xiang-gubian-suomela-etal.pdf) Xiang, Y., Gubian, S., Suomela, B., & Hoeng, J. (2013). Generalized simulated annealing for global optimization: the GenSA Package. The R Journal, 5(1), 13-29.\n",
    "    - R Package GenSA\n",
    "    - generalized simulated annealing algorithm\n",
    "    \n",
    "    \n",
    "    \n",
    "* [2016](https://www.ncbi.nlm.nih.gov/pmc/articles/PMC4912009/) Strobl, M. A., & Barker, D. (2016). On simulated annealing phase transitions in phylogeny reconstruction. Molecular phylogenetics and evolution, 101, 46-55.\n",
    "\n",
    "    * Phylogeny reconstruction with global criteria is  NP-hard\n",
    "    * how phase transition can help advance our understanding of the functioning of simulated annealing.\n",
    "    \n",
    "    \n",
    "    \n",
    "    \n",
    "* [Patent](https://www.google.ch/patents/US20030014225) Thermodynamic simulated annealing schedule for combinatorial optimization problems"
   ]
  },
  {
   "cell_type": "code",
   "execution_count": null,
   "metadata": {
    "collapsed": true
   },
   "outputs": [],
   "source": []
  },
  {
   "cell_type": "markdown",
   "metadata": {},
   "source": [
    "### The Metropolis Procedure (Maximize)\n",
    "\n",
    "The method starts with a point $x_i$ which can choose at random or with some prejudice. We now wish to generate the next point $x_j$.\n",
    "\n",
    "* Choose $x_t$ uniformly in a neighborhood of $x_i$ , i.e., $-\\Delta x + x_i < x_t < \\Delta x + x_i $.\n",
    "\n",
    "* Then examine $f(x_i)$ and $f(x_t)$\n",
    "\n",
    "* if $f(x_t)$ > $f(x_i)$, accept $x_t$ and put $x_{i+1}=x_t$ \n",
    "\n",
    "* if $f(x_t)$ < $f(x_i)$, generate a new random number $r$ uniformly in $[0,1]$.\n",
    "\n",
    "    * if $r<f(x_t)/f(x_i)$, set $x_{i+1}=x_t$ \n",
    "    * if $r>f(x_t)/f(x_i)$, set $x_{i+1}=x_i$ \n",
    "\n",
    "$x_{i+1}$ is next random point (note it may be identical to $x_i$). Eventually, this produces a set of points distributed ``according to $f(x)$''. \n",
    "\n",
    "\n",
    "[Web Link](http://www.new-npac.org/projects/cdroms/cewes-1998-05/foilsets/cps615ni95/node54.html)"
   ]
  },
  {
   "cell_type": "markdown",
   "metadata": {
    "slideshow": {
     "slide_type": "slide"
    }
   },
   "source": [
    "The simulated annealing algorithm was independently devel- oped by Kirkpatrick et al. (1983) and Cerny (1985). It is inspired by the processes which occur during the cooling of physical systems and is a simple but powerful optimisation technique. If a liquid is cooled slowly, the atoms anneal to form a crystal structure that minimises their energy. Since the particles in the liquid are in continuous motion at each instance they go through a plethora of positions and arrangements, some of which will be energetically more favourable than others. When cooling is applied and the sys- tem is given sufficient time at each temperature, the distribution of states visited will shift towards – and finally become – the very low energy crystalline state (van Laarhoven and Aarts, 1988).\n",
    "\n",
    "\n",
    "Simulated annealing mimics this process: in the same way that the physical system seeks the state of minimal energy, it seeks the solution of minimal cost. The algorithm will start with an initial, often randomly generated solution X and perturb it according to some neighbourhood function N, to propose an updated solution X0. Similarly to how particles will always adopt a state that is an improvement over the current one, the algorithm will always move to X0 if it has lower cost. However, also if X0 has higher cost, in accordance with the physical analogy it will be occasionally accepted with probability:\n",
    "\n",
    "\n",
    "$$P_{acc} =  \\exp(-\\Delta H / T)$$\n",
    "\n",
    "\n",
    "T is decreased according to a decrement rule known as the cooling schedule. The cooling schedule is often chosen as a geometric law of the form:\n",
    "\n",
    "$$T_{n+1} =\\alpha T_n\\mbox{, } 0<\\alpha<1$$\n",
    "\n",
    "If a certain number of temperature decrements fails to bring about further improvements, the system is considered frozen and the search is terminated. \n",
    "\n",
    "In the original paper on the simulated annealing algorithm (Kirkpatrick et al., 1983), two peaks were reported in the specific heat, during runs on a chip placement problem. \n",
    "\n",
    "Strobl, M. A., & Barker, D. (2016)."
   ]
  },
  {
   "cell_type": "markdown",
   "metadata": {
    "slideshow": {
     "slide_type": "slide"
    }
   },
   "source": [
    "## Basic principals of statistical thermodynamics\n",
    "\n",
    "1-dim spin lattice  (up/down) (Ising-Model)\n",
    "\n",
    "$\\uparrow - \\downarrow - \\uparrow - \\uparrow - \\downarrow - \\uparrow - \\uparrow - \\downarrow - \\uparrow $ \n",
    "\n",
    "\n",
    "N spins $\\to$ $2^N$ configurations\n",
    "\n",
    "\n",
    "The system has a defined energy\n",
    "\n",
    "$ E = \\sum \\uparrow - \\sum \\downarrow$\n",
    "\n",
    "\n",
    "In equilibrium, the system randomly changes its state4 from one \n",
    "possible configuration to another \n",
    "\n",
    "\n",
    "the probability of finding the system in a particular configuration is given by the Boltzmann- Gibbs distribution\n",
    "\n",
    "$$ P(conf) = C \\exp (- E_{conf} / T) $$\n",
    "\n",
    "The equilibrium is then\n",
    "\n",
    "$$\\bar{E} = \\frac{\n",
    "\\sum_{conf} E_{conf} \\exp(-E_{conf}/T)\n",
    "}{\n",
    "\\sum_{conf}\\exp(-E_{conf}/T)\n",
    "}$$\n"
   ]
  },
  {
   "cell_type": "markdown",
   "metadata": {
    "slideshow": {
     "slide_type": "slide"
    }
   },
   "source": [
    "### 1-dim Ising Model\n",
    "\n",
    "$\\uparrow - \\downarrow - \\uparrow - \\uparrow - \\downarrow - \\uparrow - \\uparrow - \\downarrow - \\uparrow $ \n",
    "\n",
    "configuration $\\sigma = (\\sigma_1, \\sigma_2, \\cdots , \\sigma_N)$\n",
    "\n",
    "Energy Function (Hamiltonian)\n",
    "\n",
    "$H(\\sigma) = - \\sum_{<i,j>}E \\sigma_i \\sigma_j - \\sum_i J \\sigma_i$\n",
    "\n",
    "E is the coupling parameter between neighbours\n",
    "\n",
    "\n",
    "J is the coupling to an external field\n",
    "\n",
    "\n",
    "[Link](http://www.math.ubc.ca/~marcus/Math601D_2015/cipra_ising.pdf)\n"
   ]
  },
  {
   "cell_type": "markdown",
   "metadata": {
    "slideshow": {
     "slide_type": "slide"
    }
   },
   "source": [
    "## The Ising model could give an answer to the spontanous magnetization of feromagnets\n",
    "\n",
    "\n",
    "![](fig/spontmag.png)\n",
    "\n"
   ]
  },
  {
   "cell_type": "markdown",
   "metadata": {
    "collapsed": true,
    "slideshow": {
     "slide_type": "slide"
    }
   },
   "source": [
    "## Source Code\n",
    "\n",
    "- [simanneal on GitHub for TSP](https://github.com/perrygeo/simanneal)\n",
    "\n",
    "- [SimulatedAnnealing](https://github.com/skylergrammer/SimulatedAnnealing)"
   ]
  },
  {
   "cell_type": "markdown",
   "metadata": {
    "collapsed": true,
    "slideshow": {
     "slide_type": "slide"
    }
   },
   "source": [
    "Finding global minima \n",
    "\n",
    "on multimodal Function\n",
    "\n",
    "higher dimension"
   ]
  },
  {
   "cell_type": "code",
   "execution_count": 19,
   "metadata": {
    "slideshow": {
     "slide_type": "notes"
    }
   },
   "outputs": [
    {
     "data": {
      "image/png": "[encoded data removed]",
      "text/plain": [
       "<matplotlib.figure.Figure at 0x1122b1cc0>"
      ]
     },
     "metadata": {},
     "output_type": "display_data"
    }
   ],
   "source": [
    "from math import sin,cos,pi\n",
    "import matplotlib.pyplot as plt\n",
    "import numpy as np\n",
    "\n",
    "%matplotlib inline \n",
    "\n",
    "f = lambda x: 3*np.sin(x*2*pi)+0.4*x*x\n",
    "\n",
    "x = np.arange(-4, 5, 0.01);\n",
    "y = f(x)\n",
    "\n",
    "i = np.argmin(y)\n",
    "x0 = x[i]\n",
    "y0 = y[i]\n",
    "\n",
    "plt.figure(figsize=(12,8))\n",
    "plt.plot([x0],[y0],'ro')\n",
    "plt.plot(x, y)\n",
    "plt.savefig('fig/gmin.png', format='png')"
   ]
  },
  {
   "cell_type": "code",
   "execution_count": 11,
   "metadata": {},
   "outputs": [
    {
     "data": {
      "text/plain": [
       "375"
      ]
     },
     "execution_count": 11,
     "metadata": {},
     "output_type": "execute_result"
    }
   ],
   "source": [
    "np.argmin(y)"
   ]
  },
  {
   "cell_type": "code",
   "execution_count": null,
   "metadata": {
    "collapsed": true
   },
   "outputs": [],
   "source": []
  },
  {
   "cell_type": "code",
   "execution_count": 15,
   "metadata": {
    "slideshow": {
     "slide_type": "slide"
    }
   },
   "outputs": [
    {
     "data": {
      "text/plain": [
       "[8.9999999999999964,\n",
       " 8.9999999999999964,\n",
       " 8.9999999999999964,\n",
       " 8.9999999999999964]"
      ]
     },
     "execution_count": 15,
     "metadata": {},
     "output_type": "execute_result"
    }
   ],
   "source": [
    "# Step 0 \n",
    "\n",
    "N = 4\n",
    "\n",
    "x0 = 3\n",
    "v0 = 0.1\n",
    "T0 = 10E9\n",
    "epsilon = 1E-3\n",
    "\n",
    "f0 = f(x0)\n",
    "\n",
    "xopt = x0\n",
    "fopt = f0\n",
    "\n",
    "## int nu to zero\n",
    "nu = [0] * N\n",
    "\n",
    "fs = [f0] * N\n",
    "\n",
    "\n"
   ]
  },
  {
   "cell_type": "code",
   "execution_count": null,
   "metadata": {
    "collapsed": true
   },
   "outputs": [],
   "source": []
  },
  {
   "cell_type": "markdown",
   "metadata": {
    "collapsed": true
   },
   "source": [
    "least mean square regression \n",
    "\n",
    "as opimiziation problem"
   ]
  },
  {
   "cell_type": "code",
   "execution_count": null,
   "metadata": {
    "collapsed": true
   },
   "outputs": [],
   "source": []
  },
  {
   "cell_type": "code",
   "execution_count": null,
   "metadata": {
    "collapsed": true
   },
   "outputs": [],
   "source": []
  },
  {
   "cell_type": "code",
   "execution_count": null,
   "metadata": {
    "collapsed": true
   },
   "outputs": [],
   "source": []
  },
  {
   "cell_type": "code",
   "execution_count": null,
   "metadata": {
    "collapsed": true
   },
   "outputs": [],
   "source": []
  }
 ],
 "metadata": {
  "celltoolbar": "Slideshow",
  "kernelspec": {
   "display_name": "Python 3",
   "language": "python",
   "name": "python3"
  },
  "language_info": {
   "codemirror_mode": {
    "name": "ipython",
    "version": 3
   },
   "file_extension": ".py",
   "mimetype": "text/x-python",
   "name": "python",
   "nbconvert_exporter": "python",
   "pygments_lexer": "ipython3",
   "version": "3.6.1"
  }
 },
 "nbformat": 4,
 "nbformat_minor": 2
}
