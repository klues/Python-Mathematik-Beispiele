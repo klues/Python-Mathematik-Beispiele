{
 "cells": [
  {
   "cell_type": "code",
   "execution_count": 1,
   "metadata": {
    "collapsed": true
   },
   "outputs": [],
   "source": [
    "# Imports and setting up\n",
    "import numpy as np\n",
    "\n",
    "num_cities = 4\n",
    "length_of_tour = num_cities\n",
    "\n",
    "cities_with_distances = {\n",
    "    1: {2: .1, 3: .1, 4: .1},\n",
    "    2: {1: .1, 3: .1, 4: .1},\n",
    "    3: {1: .1, 2: .1, 4: .1},\n",
    "    4: {1: .1, 2: .1, 3: .1},\n",
    "}\n",
    "\n",
    "num_vars = length_of_tour * num_cities\n",
    "\n",
    "# Define distances-- hardcoded for this example\n",
    "distances = [[ 0., 0.1, 0.1, 0.1],\n",
    "             [0.1, 0. , 0.1, 0.1],\n",
    "             [0.1, 0. , 0.1, 0.1],\n",
    "             [0.1, 0. , 0.1, 0.1]]"
   ]
  },
  {
   "cell_type": "code",
   "execution_count": 3,
   "metadata": {},
   "outputs": [
    {
     "name": "stdout",
     "output_type": "stream",
     "text": [
      "[[0 0 0 0 0 0 0 0 0 0 0 0 0 0 0 0]\n",
      " [0 0 0 0 0 0 0 0 0 0 0 0 0 0 0 0]\n",
      " [0 0 0 0 0 0 0 0 0 0 0 0 0 0 0 0]\n",
      " [0 0 0 0 0 0 0 0 0 0 0 0 0 0 0 0]\n",
      " [0 0 0 0 0 0 0 0 0 0 0 0 0 0 0 0]\n",
      " [0 0 0 0 0 0 0 0 0 0 0 0 0 0 0 0]\n",
      " [0 0 0 0 0 0 0 0 0 0 0 0 0 0 0 0]\n",
      " [0 0 0 0 0 0 0 0 0 0 0 0 0 0 0 0]\n",
      " [0 0 0 0 0 0 0 0 0 0 0 0 0 0 0 0]\n",
      " [0 0 0 0 0 0 0 0 0 0 0 0 0 0 0 0]\n",
      " [0 0 0 0 0 0 0 0 0 0 0 0 0 0 0 0]\n",
      " [0 0 0 0 0 0 0 0 0 0 0 0 0 0 0 0]\n",
      " [0 0 0 0 0 0 0 0 0 0 0 0 0 0 0 0]\n",
      " [0 0 0 0 0 0 0 0 0 0 0 0 0 0 0 0]\n",
      " [0 0 0 0 0 0 0 0 0 0 0 0 0 0 0 0]\n",
      " [0 0 0 0 0 0 0 0 0 0 0 0 0 0 0 0]]\n"
     ]
    }
   ],
   "source": [
    "# Define the initial QUBO\n",
    "Q = [[0 for _ in range(num_vars)] for _ in range(num_vars)]\n",
    "print (np.vstack(Q))"
   ]
  },
  {
   "cell_type": "code",
   "execution_count": 5,
   "metadata": {},
   "outputs": [
    {
     "name": "stdout",
     "output_type": "stream",
     "text": [
      "[[-1  0  0  0  2  0  0  0  2  0  0  0  2  0  0  0]\n",
      " [ 0 -1  0  0  0  2  0  0  0  2  0  0  0  2  0  0]\n",
      " [ 0  0 -1  0  0  0  2  0  0  0  2  0  0  0  2  0]\n",
      " [ 0  0  0 -1  0  0  0  2  0  0  0  2  0  0  0  2]\n",
      " [ 0  0  0  0 -1  0  0  0  2  0  0  0  2  0  0  0]\n",
      " [ 0  0  0  0  0 -1  0  0  0  2  0  0  0  2  0  0]\n",
      " [ 0  0  0  0  0  0 -1  0  0  0  2  0  0  0  2  0]\n",
      " [ 0  0  0  0  0  0  0 -1  0  0  0  2  0  0  0  2]\n",
      " [ 0  0  0  0  0  0  0  0 -1  0  0  0  2  0  0  0]\n",
      " [ 0  0  0  0  0  0  0  0  0 -1  0  0  0  2  0  0]\n",
      " [ 0  0  0  0  0  0  0  0  0  0 -1  0  0  0  2  0]\n",
      " [ 0  0  0  0  0  0  0  0  0  0  0 -1  0  0  0  2]\n",
      " [ 0  0  0  0  0  0  0  0  0  0  0  0 -1  0  0  0]\n",
      " [ 0  0  0  0  0  0  0  0  0  0  0  0  0 -1  0  0]\n",
      " [ 0  0  0  0  0  0  0  0  0  0  0  0  0  0 -1  0]\n",
      " [ 0  0  0  0  0  0  0  0  0  0  0  0  0  0  0 -1]]\n"
     ]
    }
   ],
   "source": [
    "from itertools import combinations\n",
    "\n",
    "#Assert that every city is only visited once\n",
    "for step_i in range(length_of_tour):\n",
    "    # Add linear terms\n",
    "    for city_i in range(num_cities):\n",
    "        i = city_i * num_cities\n",
    "        Q[i + step_i][i + step_i] += -1\n",
    "        \n",
    "    # Add cross-terms\n",
    "    for city_i, city_j in sorted(combinations(range(num_cities), 2)):\n",
    "        i = city_i * num_cities\n",
    "        j = city_j * num_cities\n",
    "        if i < j:\n",
    "            Q[i+step_i][j+step_i] += 2\n",
    "            \n",
    "print (np.vstack(Q))"
   ]
  },
  {
   "cell_type": "code",
   "execution_count": 6,
   "metadata": {},
   "outputs": [
    {
     "name": "stdout",
     "output_type": "stream",
     "text": [
      "[[-2  2  2  2  2  0  0  0  2  0  0  0  2  0  0  0]\n",
      " [ 0 -2  2  2  0  2  0  0  0  2  0  0  0  2  0  0]\n",
      " [ 0  0 -2  2  0  0  2  0  0  0  2  0  0  0  2  0]\n",
      " [ 0  0  0 -2  0  0  0  2  0  0  0  2  0  0  0  2]\n",
      " [ 0  0  0  0 -2  2  2  2  2  0  0  0  2  0  0  0]\n",
      " [ 0  0  0  0  0 -2  2  2  0  2  0  0  0  2  0  0]\n",
      " [ 0  0  0  0  0  0 -2  2  0  0  2  0  0  0  2  0]\n",
      " [ 0  0  0  0  0  0  0 -2  0  0  0  2  0  0  0  2]\n",
      " [ 0  0  0  0  0  0  0  0 -2  2  2  2  2  0  0  0]\n",
      " [ 0  0  0  0  0  0  0  0  0 -2  2  2  0  2  0  0]\n",
      " [ 0  0  0  0  0  0  0  0  0  0 -2  2  0  0  2  0]\n",
      " [ 0  0  0  0  0  0  0  0  0  0  0 -2  0  0  0  2]\n",
      " [ 0  0  0  0  0  0  0  0  0  0  0  0 -2  2  2  2]\n",
      " [ 0  0  0  0  0  0  0  0  0  0  0  0  0 -2  2  2]\n",
      " [ 0  0  0  0  0  0  0  0  0  0  0  0  0  0 -2  2]\n",
      " [ 0  0  0  0  0  0  0  0  0  0  0  0  0  0  0 -2]]\n"
     ]
    }
   ],
   "source": [
    "# Assert every step in the path is visited once for each city\n",
    "for city_i in range(num_cities):\n",
    "    i = city_i * num_cities\n",
    "    # Linear terms\n",
    "    for step_i in range(length_of_tour):\n",
    "        Q[i+step_i][i+step_i] += -1\n",
    "        \n",
    "    # Add cross-terms\n",
    "    for step_i, step_j in sorted(combinations(range(length_of_tour), 2)):\n",
    "        if step_i < step_j:\n",
    "            Q[i+step_i][i+step_j] += 2\n",
    "\n",
    "print (np.vstack(Q))"
   ]
  },
  {
   "cell_type": "code",
   "execution_count": 8,
   "metadata": {},
   "outputs": [
    {
     "name": "stdout",
     "output_type": "stream",
     "text": [
      "[[-2.   2.   2.   2.   2.   0.2  0.   0.   2.   0.2  0.   0.   2.   0.2  0.\n",
      "   0. ]\n",
      " [ 0.  -2.   2.   2.   0.   2.   0.2  0.   0.   2.   0.2  0.   0.   2.   0.2\n",
      "   0. ]\n",
      " [ 0.   0.  -2.   2.   0.   0.   2.   0.2  0.   0.   2.   0.2  0.   0.   2.\n",
      "   0.2]\n",
      " [ 0.   0.   0.  -2.   0.2  0.   0.   2.   0.2  0.   0.   2.   0.2  0.   0.\n",
      "   2. ]\n",
      " [ 0.   0.   0.   0.  -2.   2.   2.   2.   2.   0.2  0.   0.   2.   0.2  0.\n",
      "   0. ]\n",
      " [ 0.   0.   0.   0.   0.  -2.   2.   2.   0.   2.   0.2  0.   0.   2.   0.2\n",
      "   0. ]\n",
      " [ 0.   0.   0.   0.   0.   0.  -2.   2.   0.   0.   2.   0.2  0.   0.   2.\n",
      "   0.2]\n",
      " [ 0.   0.   0.   0.   0.   0.   0.  -2.   0.2  0.   0.   2.   0.2  0.   0.\n",
      "   2. ]\n",
      " [ 0.   0.   0.   0.   0.   0.   0.   0.  -2.   2.   2.   2.   2.   0.2  0.\n",
      "   0. ]\n",
      " [ 0.   0.   0.   0.   0.   0.   0.   0.   0.  -2.   2.   2.   0.   2.   0.2\n",
      "   0. ]\n",
      " [ 0.   0.   0.   0.   0.   0.   0.   0.   0.   0.  -2.   2.   0.   0.   2.\n",
      "   0.2]\n",
      " [ 0.   0.   0.   0.   0.   0.   0.   0.   0.   0.   0.  -2.   0.2  0.   0.\n",
      "   2. ]\n",
      " [ 0.   0.   0.   0.   0.   0.   0.   0.   0.   0.   0.   0.  -2.   2.   2.\n",
      "   2. ]\n",
      " [ 0.   0.   0.   0.   0.   0.   0.   0.   0.   0.   0.   0.   0.  -2.   2.\n",
      "   2. ]\n",
      " [ 0.   0.   0.   0.   0.   0.   0.   0.   0.   0.   0.   0.   0.   0.  -2.\n",
      "   2. ]\n",
      " [ 0.   0.   0.   0.   0.   0.   0.   0.   0.   0.   0.   0.   0.   0.   0.\n",
      "  -2. ]]\n"
     ]
    }
   ],
   "source": [
    "# Add the distances into the QUBO\n",
    "\n",
    "for city_i, city_j in sorted(combinations(range(num_cities), 2)):\n",
    "    if city_i != city_j:\n",
    "        i = city_i * num_cities\n",
    "        j = city_j * num_cities\n",
    "        distance = distances[city_i][city_j]\n",
    "        \n",
    "        # Add distances on the cross-terms\n",
    "        for step_i in range(length_of_tour-1):\n",
    "            Q[i+step_i][j+step_i+1] += distance\n",
    "        # don't forget the last step!\n",
    "        Q[i + num_cities - 1][j] += distance\n",
    "            \n",
    "print (np.vstack(Q))"
   ]
  },
  {
   "cell_type": "code",
   "execution_count": 10,
   "metadata": {},
   "outputs": [
    {
     "name": "stdout",
     "output_type": "stream",
     "text": [
      "Good tour objective:\n",
      "-7.4\n",
      "Bad tour objective:\n",
      "-5.6\n"
     ]
    }
   ],
   "source": [
    "# Check that everything works with one good tour and one bad tour:\n",
    "good_tour = [1, 0, 0, 0,\n",
    "             0, 1, 0, 0, \n",
    "             0, 0, 1, 0, \n",
    "             0, 0, 0, 1]\n",
    "\n",
    "bad_tour = [1, 0, 0, 0,\n",
    "            0, 1, 0, 0, \n",
    "            0, 0, 1, 0, \n",
    "            1, 0, 0, 0]\n",
    "\n",
    "good_tour = np.array(good_tour)\n",
    "bad_tour = np.array(bad_tour)\n",
    "\n",
    "print ('Good tour objective:')\n",
    "print (np.dot(good_tour, Q).dot(good_tour.T))\n",
    "\n",
    "print ('Bad tour objective:')\n",
    "print (np.dot(bad_tour, Q).dot(bad_tour.T))"
   ]
  }
 ],
 "metadata": {
  "kernelspec": {
   "display_name": "Python 3",
   "language": "python",
   "name": "python3"
  },
  "language_info": {
   "codemirror_mode": {
    "name": "ipython",
    "version": 3
   },
   "file_extension": ".py",
   "mimetype": "text/x-python",
   "name": "python",
   "nbconvert_exporter": "python",
   "pygments_lexer": "ipython3",
   "version": "3.6.2"
  }
 },
 "nbformat": 4,
 "nbformat_minor": 1
}
