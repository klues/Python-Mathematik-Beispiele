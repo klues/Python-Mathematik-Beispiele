{
 "cells": [
  {
   "cell_type": "markdown",
   "metadata": {},
   "source": [
    "$\n",
    " 4∗x3+3∗x2−2∗x+10=04∗x3+3∗x2−2∗x+10=0   \n",
    "$\n"
   ]
  },
  {
   "cell_type": "code",
   "execution_count": 6,
   "metadata": {},
   "outputs": [
    {
     "name": "stdout",
     "output_type": "stream",
     "text": [
      "139\n",
      "139\n",
      "[-1.79969318+0.j          0.52484659+1.05530172j  0.52484659-1.05530172j]\n"
     ]
    }
   ],
   "source": [
    "import numpy as np\n",
    "ppar = [4, 3, -2, 10]\n",
    "p = np.poly1d(ppar)\n",
    "\n",
    "print (p(3))\n",
    "\n",
    "print (np.polyval(ppar, 3))\n",
    "\n",
    "print (np.roots(p))\n"
   ]
  },
  {
   "cell_type": "code",
   "execution_count": 102,
   "metadata": {
    "collapsed": true
   },
   "outputs": [],
   "source": [
    "from sympy import *\n",
    "init_printing(use_unicode=False, wrap_line=False, no_global=True)\n",
    "\n"
   ]
  },
  {
   "cell_type": "code",
   "execution_count": 138,
   "metadata": {
    "collapsed": true
   },
   "outputs": [],
   "source": [
    "from sympy import Poly\n",
    "from sympy.abc import x, y,z\n",
    "p = Poly(x**2+3, x)\n"
   ]
  },
  {
   "cell_type": "code",
   "execution_count": 103,
   "metadata": {},
   "outputs": [
    {
     "data": {
      "image/png": "[encoded data removed]",
      "text/latex": [
       "$$\\left [ - \\sqrt{3} i, \\quad \\sqrt{3} i\\right ]$$"
      ],
      "text/plain": [
       "    ___      ___   \n",
       "[-\\/ 3 *I, \\/ 3 *I]"
      ]
     },
     "execution_count": 103,
     "metadata": {},
     "output_type": "execute_result"
    }
   ],
   "source": [
    "p.all_roots()"
   ]
  },
  {
   "cell_type": "code",
   "execution_count": 104,
   "metadata": {},
   "outputs": [
    {
     "name": "stdout",
     "output_type": "stream",
     "text": [
      "Poly(x**3 - 6*x**2 + 11*x - 6, x, domain='ZZ')\n"
     ]
    }
   ],
   "source": [
    "a1 = 1\n",
    "a2 = 2\n",
    "a3 = 3\n",
    "\n",
    "\n",
    "p1 = Poly(x-a1,x)\n",
    "p2 = Poly(x-a2,x)\n",
    "p3 = Poly(x-a3,x)\n",
    "\n",
    "mp = p1*p2*p3\n",
    "print(mp)"
   ]
  },
  {
   "cell_type": "code",
   "execution_count": 105,
   "metadata": {},
   "outputs": [
    {
     "data": {
      "image/png": "[encoded data removed]",
      "text/latex": [
       "$$\\left [ 1, \\quad 2, \\quad 3\\right ]$$"
      ],
      "text/plain": [
       "[1, 2, 3]"
      ]
     },
     "execution_count": 105,
     "metadata": {},
     "output_type": "execute_result"
    }
   ],
   "source": [
    "mp.all_roots()"
   ]
  },
  {
   "cell_type": "code",
   "execution_count": 18,
   "metadata": {
    "collapsed": true
   },
   "outputs": [],
   "source": [
    "p_ir = Poly(x**17-1)"
   ]
  },
  {
   "cell_type": "code",
   "execution_count": null,
   "metadata": {
    "collapsed": true
   },
   "outputs": [],
   "source": []
  },
  {
   "cell_type": "code",
   "execution_count": null,
   "metadata": {
    "collapsed": true
   },
   "outputs": [],
   "source": []
  },
  {
   "cell_type": "code",
   "execution_count": 107,
   "metadata": {
    "collapsed": true
   },
   "outputs": [],
   "source": [
    "p_17 = Poly(x**17-1)"
   ]
  },
  {
   "cell_type": "code",
   "execution_count": 108,
   "metadata": {},
   "outputs": [
    {
     "data": {
      "image/png": "[encoded data removed]",
      "text/latex": [
       "$$\\operatorname{Poly}{\\left( x^{17} - 1, x, domain=\\mathbb{Z} \\right)}$$"
      ],
      "text/plain": [
       "Poly(x**17 - 1, x, domain='ZZ')"
      ]
     },
     "execution_count": 108,
     "metadata": {},
     "output_type": "execute_result"
    }
   ],
   "source": [
    "p_17.evalf()"
   ]
  },
  {
   "cell_type": "code",
   "execution_count": 109,
   "metadata": {},
   "outputs": [
    {
     "data": {
      "image/png": "[encoded data removed]",
      "text/latex": [
       "$$\\left [ 1.0, \\quad -0.982973099683902 - 0.18374951781657 i, \\quad -0.982973099683902 + 0.18374951781657 i, \\quad -0.850217135729614 - 0.526432162877356 i, \\quad -0.850217135729614 + 0.526432162877356 i, \\quad -0.602634636379256 - 0.798017227280239 i, \\quad -0.602634636379256 + 0.798017227280239 i, \\quad -0.273662990072083 - 0.961825643172819 i, \\quad -0.273662990072083 + 0.961825643172819 i, \\quad 0.092268359463302 - 0.995734176295034 i, \\quad 0.092268359463302 + 0.995734176295034 i, \\quad 0.445738355776538 - 0.895163291355062 i, \\quad 0.445738355776538 + 0.895163291355062 i, \\quad 0.739008917220659 - 0.673695643646557 i, \\quad 0.739008917220659 + 0.673695643646557 i, \\quad 0.932472229404356 - 0.361241666187153 i, \\quad 0.932472229404356 + 0.361241666187153 i\\right ]$$"
      ],
      "text/plain": [
       "[1.0, -0.982973099683902 - 0.18374951781657*I, -0.982973099683902 + 0.18374951781657*I, -0.850217135729614 - 0.526432162877356*I, -0.850217135729614 + 0.526432162877356*I, -0.602634636379256 - 0.798017227280239*I, -0.602634636379256 + 0.798017227280239*I, -0.273662990072083 - 0.961825643172819*I, -0.273662990072083 + 0.961825643172819*I, 0.092268359463302 - 0.995734176295034*I, 0.092268359463302 + 0.995734176295034*I, 0.445738355776538 - 0.895163291355062*I, 0.445738355776538 + 0.895163291355062*I, 0.739008917220659 - 0.673695643646557*I, 0.739008917220659 + 0.673695643646557*I, 0.932472229404356 - 0.361241666187153*I, 0.932472229404356 + 0.361241666187153*I]"
      ]
     },
     "execution_count": 109,
     "metadata": {},
     "output_type": "execute_result"
    }
   ],
   "source": [
    "[r.evalf()  for r in p_17.all_roots() ]\n"
   ]
  },
  {
   "cell_type": "code",
   "execution_count": 110,
   "metadata": {},
   "outputs": [
    {
     "data": {
      "image/png": "[encoded data removed]",
      "text/latex": [
       "$$\\left [ \\operatorname{CRootOf} {\\left(x^{4} + x^{3} + x^{2} + x + 1, 0\\right)}, \\quad \\operatorname{CRootOf} {\\left(x^{4} + x^{3} + x^{2} + x + 1, 1\\right)}, \\quad \\operatorname{CRootOf} {\\left(x^{4} + x^{3} + x^{2} + x + 1, 2\\right)}, \\quad \\operatorname{CRootOf} {\\left(x^{4} + x^{3} + x^{2} + x + 1, 3\\right)}\\right ]$$"
      ],
      "text/plain": [
       "        / 4    3    2           \\         / 4    3    2           \\         / 4    3    2           \\         / 4    3    2           \\ \n",
       "[CRootOf\\x  + x  + x  + x + 1, 0/, CRootOf\\x  + x  + x  + x + 1, 1/, CRootOf\\x  + x  + x  + x + 1, 2/, CRootOf\\x  + x  + x  + x + 1, 3/]"
      ]
     },
     "execution_count": 110,
     "metadata": {},
     "output_type": "execute_result"
    }
   ],
   "source": [
    "p4 = Poly(x**4 + x**3 + x**2 + x + 1, x,domain=\"RR\")\n",
    "p4.all_roots()"
   ]
  },
  {
   "cell_type": "code",
   "execution_count": 111,
   "metadata": {},
   "outputs": [
    {
     "data": {
      "image/png": "[encoded data removed]",
      "text/latex": [
       "$$\\operatorname{Poly}{\\left( 1.0 x^{4} + 1.0 x^{3} + 1.0 x^{2} + 1.0 x + 1.0, x, domain=\\mathbb{R} \\right)}$$"
      ],
      "text/plain": [
       "Poly(1.0*x**4 + 1.0*x**3 + 1.0*x**2 + 1.0*x + 1.0, x, domain='RR')"
      ]
     },
     "execution_count": 111,
     "metadata": {},
     "output_type": "execute_result"
    }
   ],
   "source": [
    "p4"
   ]
  },
  {
   "cell_type": "code",
   "execution_count": 112,
   "metadata": {},
   "outputs": [
    {
     "data": {
      "image/png": "[encoded data removed]",
      "text/latex": [
       "$$\\left(x - 1\\right) \\left(x^{16} + x^{15} + x^{14} + x^{13} + x^{12} + x^{11} + x^{10} + x^{9} + x^{8} + x^{7} + x^{6} + x^{5} + x^{4} + x^{3} + x^{2} + x + 1\\right)$$"
      ],
      "text/plain": [
       "        / 16    15    14    13    12    11    10    9    8    7    6    5    4    3    2        \\\n",
       "(x - 1)*\\x   + x   + x   + x   + x   + x   + x   + x  + x  + x  + x  + x  + x  + x  + x  + x + 1/"
      ]
     },
     "execution_count": 112,
     "metadata": {},
     "output_type": "execute_result"
    }
   ],
   "source": [
    "p_17.factor()"
   ]
  },
  {
   "cell_type": "code",
   "execution_count": 113,
   "metadata": {
    "collapsed": true
   },
   "outputs": [],
   "source": [
    "p5 = Poly( x**4 + x**3 + x**2 + x + 1)\n"
   ]
  },
  {
   "cell_type": "code",
   "execution_count": 114,
   "metadata": {},
   "outputs": [
    {
     "data": {
      "image/png": "[encoded data removed]",
      "text/latex": [
       "$$x^{4} + x^{3} + x^{2} + x + 1$$"
      ],
      "text/plain": [
       " 4    3    2        \n",
       "x  + x  + x  + x + 1"
      ]
     },
     "execution_count": 114,
     "metadata": {},
     "output_type": "execute_result"
    }
   ],
   "source": [
    "p5.factor()"
   ]
  },
  {
   "cell_type": "code",
   "execution_count": 116,
   "metadata": {},
   "outputs": [],
   "source": [
    "f = Poly( x**5+x**4+x**3+x**2+x+1,x)\n",
    "\n",
    "g = Poly(2*x**3+2*x**2+4*x,x)\n"
   ]
  },
  {
   "cell_type": "code",
   "execution_count": 117,
   "metadata": {},
   "outputs": [],
   "source": [
    "m = f / g"
   ]
  },
  {
   "cell_type": "code",
   "execution_count": 118,
   "metadata": {},
   "outputs": [
    {
     "data": {
      "image/png": "[encoded data removed]",
      "text/latex": [
       "$$\\frac{x^{5} + x^{4} + x^{3} + x^{2} + x + 1}{2 x^{3} + 2 x^{2} + 4 x}$$"
      ],
      "text/plain": [
       " 5    4    3    2        \n",
       "x  + x  + x  + x  + x + 1\n",
       "-------------------------\n",
       "       3      2          \n",
       "    2*x  + 2*x  + 4*x    "
      ]
     },
     "execution_count": 118,
     "metadata": {},
     "output_type": "execute_result"
    }
   ],
   "source": [
    "m"
   ]
  },
  {
   "cell_type": "code",
   "execution_count": 119,
   "metadata": {},
   "outputs": [
    {
     "data": {
      "image/png": "[encoded data removed]",
      "text/latex": [
       "$$\\left ( 1, \\quad \\operatorname{Poly}{\\left( x^{5} + x^{4} + x^{3} + x^{2} + x + 1, x, domain=\\mathbb{Z} \\right)}\\right )$$"
      ],
      "text/plain": [
       "(1, Poly(x**5 + x**4 + x**3 + x**2 + x + 1, x, domain='ZZ'))"
      ]
     },
     "execution_count": 119,
     "metadata": {},
     "output_type": "execute_result"
    }
   ],
   "source": [
    "f.as_content_primitive()"
   ]
  },
  {
   "cell_type": "code",
   "execution_count": 120,
   "metadata": {},
   "outputs": [
    {
     "data": {
      "image/png": "[encoded data removed]",
      "text/latex": [
       "$$\\left\\{1, 2, 3, 4, 5, x\\right\\}$$"
      ],
      "text/plain": [
       "set([1, 2, 3, 4, 5, x])"
      ]
     },
     "execution_count": 120,
     "metadata": {},
     "output_type": "execute_result"
    }
   ],
   "source": [
    "f.atoms()"
   ]
  },
  {
   "cell_type": "code",
   "execution_count": 121,
   "metadata": {},
   "outputs": [
    {
     "data": {
      "image/png": "[encoded data removed]",
      "text/latex": [
       "$$1296$$"
      ],
      "text/plain": [
       "1296"
      ]
     },
     "execution_count": 121,
     "metadata": {},
     "output_type": "execute_result"
    }
   ],
   "source": [
    "f.discriminant()"
   ]
  },
  {
   "cell_type": "code",
   "execution_count": 122,
   "metadata": {},
   "outputs": [
    {
     "data": {
      "image/png": "[encoded data removed]",
      "text/latex": [
       "$$\\left ( \\operatorname{Poly}{\\left( \\frac{x^{2}}{2} - \\frac{1}{2}, x, domain=\\mathbb{Q} \\right)}, \\quad \\operatorname{Poly}{\\left( 2 x^{2} + 3 x + 1, x, domain=\\mathbb{Q} \\right)}\\right )$$"
      ],
      "text/plain": [
       "(Poly(1/2*x**2 - 1/2, x, domain='QQ'), Poly(2*x**2 + 3*x + 1, x, domain='QQ'))"
      ]
     },
     "execution_count": 122,
     "metadata": {},
     "output_type": "execute_result"
    }
   ],
   "source": [
    "f.div(g)"
   ]
  },
  {
   "cell_type": "code",
   "execution_count": 123,
   "metadata": {},
   "outputs": [],
   "source": [
    "p1 = Poly(x**3-3*x**2+3*x-1)\n",
    "p2 = Poly(x**2-2*x+1)"
   ]
  },
  {
   "cell_type": "code",
   "execution_count": 124,
   "metadata": {},
   "outputs": [],
   "source": [
    "a = p1/p2"
   ]
  },
  {
   "cell_type": "code",
   "execution_count": 125,
   "metadata": {},
   "outputs": [
    {
     "data": {
      "image/png": "[encoded data removed]",
      "text/latex": [
       "$$\\left ( \\operatorname{Poly}{\\left( x - 1, x, domain=\\mathbb{Z} \\right)}, \\quad \\operatorname{Poly}{\\left( 0, x, domain=\\mathbb{Z} \\right)}\\right )$$"
      ],
      "text/plain": [
       "(Poly(x - 1, x, domain='ZZ'), Poly(0, x, domain='ZZ'))"
      ]
     },
     "execution_count": 125,
     "metadata": {},
     "output_type": "execute_result"
    }
   ],
   "source": [
    "b = p1.div(p2)\n",
    "b"
   ]
  },
  {
   "cell_type": "code",
   "execution_count": 126,
   "metadata": {
    "collapsed": true
   },
   "outputs": [],
   "source": [
    "f1 = Poly(x**3-2*x**2+x-2)\n",
    "f2 = Poly(-2*x**3 +6*x**2 - 4*x + 3)"
   ]
  },
  {
   "cell_type": "code",
   "execution_count": 127,
   "metadata": {},
   "outputs": [
    {
     "data": {
      "image/png": "[encoded data removed]",
      "text/latex": [
       "$$\\left [ 2, \\quad - i, \\quad i\\right ]$$"
      ],
      "text/plain": [
       "[2, -I, I]"
      ]
     },
     "execution_count": 127,
     "metadata": {},
     "output_type": "execute_result"
    }
   ],
   "source": [
    "f2.all_roots()\n",
    "f1.all_roots()"
   ]
  },
  {
   "cell_type": "code",
   "execution_count": 128,
   "metadata": {},
   "outputs": [
    {
     "data": {
      "image/png": "[encoded data removed]",
      "text/latex": [
       "$$\\left [ -1 - \\frac{\\sqrt{51} i}{3}, \\quad -1 + \\frac{\\sqrt{51} i}{3}\\right ]$$"
      ],
      "text/plain": [
       "        ____           ____   \n",
       "      \\/ 51 *I       \\/ 51 *I \n",
       "[-1 - --------, -1 + --------]\n",
       "         3              3     "
      ]
     },
     "execution_count": 128,
     "metadata": {},
     "output_type": "execute_result"
    }
   ],
   "source": [
    "p4 = Poly(3*x**2+6*x+20,x,domain='Q')\n",
    "p4.all_roots()"
   ]
  },
  {
   "cell_type": "code",
   "execution_count": null,
   "metadata": {
    "scrolled": true
   },
   "outputs": [],
   "source": []
  },
  {
   "cell_type": "code",
   "execution_count": 129,
   "metadata": {
    "collapsed": true
   },
   "outputs": [],
   "source": [
    "f = 5*x**2 + 10*x + 3\n",
    "g = 2*x + 2\n",
    "\n",
    "q, r = div(f, g, domain='QQ')"
   ]
  },
  {
   "cell_type": "code",
   "execution_count": 130,
   "metadata": {},
   "outputs": [
    {
     "data": {
      "image/png": "[encoded data removed]",
      "text/latex": [
       "$$\\frac{5 x}{2} + \\frac{5}{2}$$"
      ],
      "text/plain": [
       "5*x   5\n",
       "--- + -\n",
       " 2    2"
      ]
     },
     "execution_count": 130,
     "metadata": {},
     "output_type": "execute_result"
    }
   ],
   "source": [
    "q"
   ]
  },
  {
   "cell_type": "code",
   "execution_count": 131,
   "metadata": {},
   "outputs": [
    {
     "data": {
      "image/png": "[encoded data removed]",
      "text/latex": [
       "$$-2$$"
      ],
      "text/plain": [
       "-2"
      ]
     },
     "execution_count": 131,
     "metadata": {},
     "output_type": "execute_result"
    }
   ],
   "source": [
    "r"
   ]
  },
  {
   "cell_type": "code",
   "execution_count": 132,
   "metadata": {
    "collapsed": true
   },
   "outputs": [],
   "source": [
    "q, r = div(f, g, domain='ZZ')"
   ]
  },
  {
   "cell_type": "code",
   "execution_count": 133,
   "metadata": {},
   "outputs": [
    {
     "name": "stdout",
     "output_type": "stream",
     "text": [
      "0\n",
      "5*x**2 + 10*x + 3\n"
     ]
    }
   ],
   "source": [
    "print(q)\n",
    "print(r)\n"
   ]
  },
  {
   "cell_type": "code",
   "execution_count": 134,
   "metadata": {},
   "outputs": [
    {
     "data": {
      "image/png": "[encoded data removed]",
      "text/latex": [
       "$$\\left ( 1, \\quad \\left [ \\left ( x + 2, \\quad 1\\right ), \\quad \\left ( x, \\quad 2\\right ), \\quad \\left ( x + 1, \\quad 2\\right )\\right ]\\right )$$"
      ],
      "text/plain": [
       "(1, [(x + 2, 1), (x, 2), (x + 1, 2)])"
      ]
     },
     "execution_count": 134,
     "metadata": {},
     "output_type": "execute_result"
    }
   ],
   "source": [
    "f = 2*x**2 + 5*x**3 + 4*x**4 + x**5\n",
    "\n",
    "sqf_list(f)"
   ]
  },
  {
   "cell_type": "code",
   "execution_count": 135,
   "metadata": {},
   "outputs": [
    {
     "data": {
      "image/png": "[encoded data removed]",
      "text/latex": [
       "$$x^{2} \\left(x + 1\\right)^{2} \\left(x + 2\\right)$$"
      ],
      "text/plain": [
       " 2        2        \n",
       "x *(x + 1) *(x + 2)"
      ]
     },
     "execution_count": 135,
     "metadata": {},
     "output_type": "execute_result"
    }
   ],
   "source": [
    "sqf(f)"
   ]
  },
  {
   "cell_type": "code",
   "execution_count": 136,
   "metadata": {},
   "outputs": [
    {
     "data": {
      "image/png": "[encoded data removed]",
      "text/latex": [
       "$$GroebnerBasis([x**2 + 1, y**4 - 1], x, y, domain='ZZ', order='lex')$$"
      ],
      "text/plain": [
       "             /[ 2       4    ]                            \\\n",
       "GroebnerBasis\\[x  + 1, y  - 1], x, y, domain=ZZ, order=lex/"
      ]
     },
     "execution_count": 136,
     "metadata": {},
     "output_type": "execute_result"
    }
   ],
   "source": [
    "groebner([x**2 + 1, y**4*x + x**3], x, y, order='lex')"
   ]
  },
  {
   "cell_type": "code",
   "execution_count": 139,
   "metadata": {},
   "outputs": [
    {
     "data": {
      "image/png": "[encoded data removed]",
      "text/latex": [
       "$$GroebnerBasis([y**4 - 1, z**3, x**2 + 1], x, y, z, domain='ZZ', order='grevlex')$$"
      ],
      "text/plain": [
       "             /[ 4       3   2    ]                                   \\\n",
       "GroebnerBasis\\[y  - 1, z , x  + 1], x, y, z, domain=ZZ, order=grevlex/"
      ]
     },
     "execution_count": 139,
     "metadata": {},
     "output_type": "execute_result"
    }
   ],
   "source": [
    "groebner([x**2 + 1, y**4*x + x**3, x*y*z**3], x, y, z, order='grevlex')"
   ]
  },
  {
   "cell_type": "code",
   "execution_count": 141,
   "metadata": {},
   "outputs": [
    {
     "data": {
      "image/png": "[encoded data removed]",
      "text/latex": [
       "$$\\left [ \\frac{1}{4} - \\frac{1}{2} \\sqrt{\\frac{1}{4} + \\frac{7}{3 \\sqrt[3]{\\frac{7}{16} + \\frac{7 i}{144} \\sqrt{591}}} + 2 \\sqrt[3]{\\frac{7}{16} + \\frac{7 i}{144} \\sqrt{591}}} - \\frac{1}{2} \\sqrt{\\frac{1}{2} - 2 \\sqrt[3]{\\frac{7}{16} + \\frac{7 i}{144} \\sqrt{591}} + \\frac{15}{4 \\sqrt{\\frac{1}{4} + \\frac{7}{3 \\sqrt[3]{\\frac{7}{16} + \\frac{7 i}{144} \\sqrt{591}}} + 2 \\sqrt[3]{\\frac{7}{16} + \\frac{7 i}{144} \\sqrt{591}}}} - \\frac{7}{3 \\sqrt[3]{\\frac{7}{16} + \\frac{7 i}{144} \\sqrt{591}}}}, \\quad \\frac{1}{4} + \\frac{1}{2} \\sqrt{\\frac{1}{4} + \\frac{7}{3 \\sqrt[3]{\\frac{7}{16} + \\frac{7 i}{144} \\sqrt{591}}} + 2 \\sqrt[3]{\\frac{7}{16} + \\frac{7 i}{144} \\sqrt{591}}} - \\frac{1}{2} \\sqrt{\\frac{1}{2} - 2 \\sqrt[3]{\\frac{7}{16} + \\frac{7 i}{144} \\sqrt{591}} - \\frac{15}{4 \\sqrt{\\frac{1}{4} + \\frac{7}{3 \\sqrt[3]{\\frac{7}{16} + \\frac{7 i}{144} \\sqrt{591}}} + 2 \\sqrt[3]{\\frac{7}{16} + \\frac{7 i}{144} \\sqrt{591}}}} - \\frac{7}{3 \\sqrt[3]{\\frac{7}{16} + \\frac{7 i}{144} \\sqrt{591}}}}, \\quad \\frac{1}{4} + \\frac{1}{2} \\sqrt{\\frac{1}{2} - 2 \\sqrt[3]{\\frac{7}{16} + \\frac{7 i}{144} \\sqrt{591}} - \\frac{15}{4 \\sqrt{\\frac{1}{4} + \\frac{7}{3 \\sqrt[3]{\\frac{7}{16} + \\frac{7 i}{144} \\sqrt{591}}} + 2 \\sqrt[3]{\\frac{7}{16} + \\frac{7 i}{144} \\sqrt{591}}}} - \\frac{7}{3 \\sqrt[3]{\\frac{7}{16} + \\frac{7 i}{144} \\sqrt{591}}}} + \\frac{1}{2} \\sqrt{\\frac{1}{4} + \\frac{7}{3 \\sqrt[3]{\\frac{7}{16} + \\frac{7 i}{144} \\sqrt{591}}} + 2 \\sqrt[3]{\\frac{7}{16} + \\frac{7 i}{144} \\sqrt{591}}}, \\quad \\frac{1}{4} + \\frac{1}{2} \\sqrt{\\frac{1}{2} - 2 \\sqrt[3]{\\frac{7}{16} + \\frac{7 i}{144} \\sqrt{591}} + \\frac{15}{4 \\sqrt{\\frac{1}{4} + \\frac{7}{3 \\sqrt[3]{\\frac{7}{16} + \\frac{7 i}{144} \\sqrt{591}}} + 2 \\sqrt[3]{\\frac{7}{16} + \\frac{7 i}{144} \\sqrt{591}}}} - \\frac{7}{3 \\sqrt[3]{\\frac{7}{16} + \\frac{7 i}{144} \\sqrt{591}}}} - \\frac{1}{2} \\sqrt{\\frac{1}{4} + \\frac{7}{3 \\sqrt[3]{\\frac{7}{16} + \\frac{7 i}{144} \\sqrt{591}}} + 2 \\sqrt[3]{\\frac{7}{16} + \\frac{7 i}{144} \\sqrt{591}}}\\right ]$$"
      ],
      "text/plain": [
       "                                                                                            _____________________________________________________________________________________________________________________________________                                                                                             _____________________________________________________________________________________________________________________________________                     _____________________________________________________________________________________________________________________________________                                                                                             _____________________________________________________________________________________________________________________________________                                                                         \n",
       "                                                                                           /            __________________                                                                                                                                                                                                   /            __________________                                                                                                                           /            __________________                                                                                                                                                                                                   /            __________________                                                                                                                                                                                \n",
       "                                                                                          /            /          _____                                                                                                                                                                                                     /            /          _____                                                                                                                             /            /          _____                                                                                                                                                                                                     /            /          _____                                                                                                                                                                                   \n",
       "                                                                                         /   1        /  7    7*\\/ 591 *I                                       15                                                 7                                                                                                       /   1        /  7    7*\\/ 591 *I                                       15                                                 7                               /   1        /  7    7*\\/ 591 *I                                       15                                                 7                                                                                                       /   1        /  7    7*\\/ 591 *I                                       15                                                 7                                                                                      \n",
       "                                                                                        /    - - 2*3 /   -- + -----------  + ----------------------------------------------------------------------- - -------------------------                                                                                          /    - - 2*3 /   -- + -----------  - ----------------------------------------------------------------------- - -------------------------                  /    - - 2*3 /   -- + -----------  - ----------------------------------------------------------------------- - -------------------------                                                                                          /    - - 2*3 /   -- + -----------  + ----------------------------------------------------------------------- - -------------------------                                                                          \n",
       "               ___________________________________________________________             /     2     \\/    16       144                    ___________________________________________________________          __________________                 ___________________________________________________________             /     2     \\/    16       144                    ___________________________________________________________          __________________                 /     2     \\/    16       144                    ___________________________________________________________          __________________              ___________________________________________________________                /     2     \\/    16       144                    ___________________________________________________________          __________________              ___________________________________________________________ \n",
       "              /                                        __________________             /                                                 /                                        __________________          /          _____                   /                                        __________________             /                                                 /                                        __________________          /          _____                   /                                                 /                                        __________________          /          _____                /                                        __________________                /                                                 /                                        __________________          /          _____                /                                        __________________  \n",
       "             /                                        /          _____               /                                                 /                                        /          _____            /  7    7*\\/ 591 *I                /                                        /          _____               /                                                 /                                        /          _____            /  7    7*\\/ 591 *I                /                                                 /                                        /          _____            /  7    7*\\/ 591 *I             /                                        /          _____                  /                                                 /                                        /          _____            /  7    7*\\/ 591 *I             /                                        /          _____     \n",
       "            /   1               7                    /  7    7*\\/ 591 *I            /                                                 /   1               7                    /  7    7*\\/ 591 *I     3*3 /   -- + -----------               /   1               7                    /  7    7*\\/ 591 *I            /                                                 /   1               7                    /  7    7*\\/ 591 *I     3*3 /   -- + -----------               /                                                 /   1               7                    /  7    7*\\/ 591 *I     3*3 /   -- + -----------            /   1               7                    /  7    7*\\/ 591 *I               /                                                 /   1               7                    /  7    7*\\/ 591 *I     3*3 /   -- + -----------            /   1               7                    /  7    7*\\/ 591 *I   \n",
       "           /    - + ------------------------- + 2*3 /   -- + -----------           /                                         4*      /    - + ------------------------- + 2*3 /   -- + -----------       \\/    16       144                  /    - + ------------------------- + 2*3 /   -- + -----------           /                                         4*      /    - + ------------------------- + 2*3 /   -- + -----------       \\/    16       144                  /                                         4*      /    - + ------------------------- + 2*3 /   -- + -----------       \\/    16       144               /    - + ------------------------- + 2*3 /   -- + -----------              /                                         4*      /    - + ------------------------- + 2*3 /   -- + -----------       \\/    16       144               /    - + ------------------------- + 2*3 /   -- + -----------   \n",
       "          /     4          __________________     \\/    16       144              /                                                 /     4          __________________     \\/    16       144                                              /     4          __________________     \\/    16       144              /                                                 /     4          __________________     \\/    16       144                                              /                                                 /     4          __________________     \\/    16       144                                           /     4          __________________     \\/    16       144                 /                                                 /     4          __________________     \\/    16       144                                           /     4          __________________     \\/    16       144       \n",
       "         /                /          _____                                       /                                                 /                /          _____                                                                       /                /          _____                                       /                                                 /                /          _____                                                                       /                                                 /                /          _____                                                                    /                /          _____                                          /                                                 /                /          _____                                                                    /                /          _____                                 \n",
       "        /                /  7    7*\\/ 591 *I                                    /                                                 /                /  7    7*\\/ 591 *I                                                                    /                /  7    7*\\/ 591 *I                                    /                                                 /                /  7    7*\\/ 591 *I                                                                    /                                                 /                /  7    7*\\/ 591 *I                                                                 /                /  7    7*\\/ 591 *I                                       /                                                 /                /  7    7*\\/ 591 *I                                                                 /                /  7    7*\\/ 591 *I                               \n",
       "       /            3*3 /   -- + -----------                                   /                                                 /            3*3 /   -- + -----------                                                                   /            3*3 /   -- + -----------                                   /                                                 /            3*3 /   -- + -----------                                                                   /                                                 /            3*3 /   -- + -----------                                                                /            3*3 /   -- + -----------                                      /                                                 /            3*3 /   -- + -----------                                                                /            3*3 /   -- + -----------                               \n",
       " 1   \\/               \\/    16       144                                     \\/                                                \\/               \\/    16       144                                                                 1   \\/               \\/    16       144                                     \\/                                                \\/               \\/    16       144                                                                 1   \\/                                                \\/               \\/    16       144                                                                  \\/               \\/    16       144                                    1   \\/                                                \\/               \\/    16       144                                                                  \\/               \\/    16       144                                   \n",
       "[- - --------------------------------------------------------------------- - ----------------------------------------------------------------------------------------------------------------------------------------------------, - + --------------------------------------------------------------------- - ----------------------------------------------------------------------------------------------------------------------------------------------------, - + ---------------------------------------------------------------------------------------------------------------------------------------------------- + ---------------------------------------------------------------------, - + ---------------------------------------------------------------------------------------------------------------------------------------------------- - ---------------------------------------------------------------------]\n",
       " 4                                     2                                                                                                              2                                                                            4                                     2                                                                                                              2                                                                            4                                                                            2                                                                                                               2                                    4                                                                            2                                                                                                               2                                   "
      ]
     },
     "execution_count": 141,
     "metadata": {},
     "output_type": "execute_result"
    }
   ],
   "source": [
    "solve(x**4-x**3 + 2*x + 3, x)"
   ]
  },
  {
   "cell_type": "code",
   "execution_count": 156,
   "metadata": {},
   "outputs": [
    {
     "data": {
      "image/png": "[encoded data removed]",
      "text/latex": [
       "$$\\left [ 1, \\quad - \\frac{1}{4} + \\frac{\\sqrt{5}}{4} - i \\sqrt{\\frac{\\sqrt{5}}{8} + \\frac{5}{8}}, \\quad - \\frac{1}{4} + \\frac{\\sqrt{5}}{4} + i \\sqrt{\\frac{\\sqrt{5}}{8} + \\frac{5}{8}}, \\quad - \\frac{\\sqrt{5}}{4} - \\frac{1}{4} - i \\sqrt{- \\frac{\\sqrt{5}}{8} + \\frac{5}{8}}, \\quad - \\frac{\\sqrt{5}}{4} - \\frac{1}{4} + i \\sqrt{- \\frac{\\sqrt{5}}{8} + \\frac{5}{8}}\\right ]$$"
      ],
      "text/plain": [
       "                         ___________                       ___________                       _____________                       _____________ \n",
       "            ___         /   ___               ___         /   ___           ___             /     ___           ___             /     ___      \n",
       "      1   \\/ 5         /  \\/ 5    5     1   \\/ 5         /  \\/ 5    5     \\/ 5    1        /    \\/ 5    5     \\/ 5    1        /    \\/ 5    5  \n",
       "[1, - - + ----- - I*  /   ----- + - , - - + ----- + I*  /   ----- + - , - ----- - - - I*  /   - ----- + - , - ----- - - + I*  /   - ----- + - ]\n",
       "      4     4       \\/      8     8     4     4       \\/      8     8       4     4     \\/        8     8       4     4     \\/        8     8  "
      ]
     },
     "execution_count": 156,
     "metadata": {},
     "output_type": "execute_result"
    }
   ],
   "source": [
    "solve(x**5-1, x)"
   ]
  },
  {
   "cell_type": "code",
   "execution_count": 157,
   "metadata": {},
   "outputs": [
    {
     "data": {
      "image/png": "[encoded data removed]",
      "text/latex": [
       "$$\\left [ 1, \\quad - \\frac{1}{4} + \\frac{\\sqrt{5}}{4} - i \\sqrt{\\frac{\\sqrt{5}}{8} + \\frac{5}{8}}, \\quad - \\frac{1}{4} + \\frac{\\sqrt{5}}{4} + i \\sqrt{\\frac{\\sqrt{5}}{8} + \\frac{5}{8}}, \\quad - \\frac{\\sqrt{5}}{4} - \\frac{1}{4} - i \\sqrt{- \\frac{\\sqrt{5}}{8} + \\frac{5}{8}}, \\quad - \\frac{\\sqrt{5}}{4} - \\frac{1}{4} + i \\sqrt{- \\frac{\\sqrt{5}}{8} + \\frac{5}{8}}\\right ]$$"
      ],
      "text/plain": [
       "                         ___________                       ___________                       _____________                       _____________ \n",
       "            ___         /   ___               ___         /   ___           ___             /     ___           ___             /     ___      \n",
       "      1   \\/ 5         /  \\/ 5    5     1   \\/ 5         /  \\/ 5    5     \\/ 5    1        /    \\/ 5    5     \\/ 5    1        /    \\/ 5    5  \n",
       "[1, - - + ----- - I*  /   ----- + - , - - + ----- + I*  /   ----- + - , - ----- - - - I*  /   - ----- + - , - ----- - - + I*  /   - ----- + - ]\n",
       "      4     4       \\/      8     8     4     4       \\/      8     8       4     4     \\/        8     8       4     4     \\/        8     8  "
      ]
     },
     "execution_count": 157,
     "metadata": {},
     "output_type": "execute_result"
    }
   ],
   "source": [
    "solve(x**5-1, x)"
   ]
  },
  {
   "cell_type": "code",
   "execution_count": 158,
   "metadata": {},
   "outputs": [
    {
     "data": {
      "image/png": "[encoded data removed]",
      "text/latex": [
       "$$0$$"
      ],
      "text/plain": [
       "0"
      ]
     },
     "execution_count": 158,
     "metadata": {},
     "output_type": "execute_result"
    }
   ],
   "source": [
    "resultant(3*x**4 + 3*x**3 + x**2 - x - 2, x**3 - 3*x**2 + x + 5)"
   ]
  },
  {
   "cell_type": "code",
   "execution_count": 159,
   "metadata": {},
   "outputs": [
    {
     "data": {
      "image/png": "[encoded data removed]",
      "text/latex": [
       "$$\\frac{x - 2}{x + 2}$$"
      ],
      "text/plain": [
       "x - 2\n",
       "-----\n",
       "x + 2"
      ]
     },
     "execution_count": 159,
     "metadata": {},
     "output_type": "execute_result"
    }
   ],
   "source": [
    "cancel((x**2 - 4)/(x**2 + 4*x + 4))\n"
   ]
  },
  {
   "cell_type": "code",
   "execution_count": 160,
   "metadata": {
    "collapsed": true
   },
   "outputs": [],
   "source": [
    "f = expand((x + 1)**20)\n"
   ]
  },
  {
   "cell_type": "code",
   "execution_count": 161,
   "metadata": {},
   "outputs": [
    {
     "data": {
      "image/png": "[encoded data removed]",
      "text/latex": [
       "$$x^{20} + 20 x^{19} + 190 x^{18} + 1140 x^{17} + 4845 x^{16} + 15504 x^{15} + 38760 x^{14} + 77520 x^{13} + 125970 x^{12} + 167960 x^{11} + 184756 x^{10} + 167960 x^{9} + 125970 x^{8} + 77520 x^{7} + 38760 x^{6} + 15504 x^{5} + 4845 x^{4} + 1140 x^{3} + 190 x^{2} + 20 x + 1$$"
      ],
      "text/plain": [
       " 20       19        18         17         16          15          14          13           12           11           10           9           8          7          6          5         4         3        2           \n",
       "x   + 20*x   + 190*x   + 1140*x   + 4845*x   + 15504*x   + 38760*x   + 77520*x   + 125970*x   + 167960*x   + 184756*x   + 167960*x  + 125970*x  + 77520*x  + 38760*x  + 15504*x  + 4845*x  + 1140*x  + 190*x  + 20*x + 1"
      ]
     },
     "execution_count": 161,
     "metadata": {},
     "output_type": "execute_result"
    }
   ],
   "source": [
    "f"
   ]
  },
  {
   "cell_type": "code",
   "execution_count": 162,
   "metadata": {},
   "outputs": [
    {
     "data": {
      "image/png": "[encoded data removed]",
      "text/latex": [
       "$$20 x^{19} + 380 x^{18} + 3420 x^{17} + 19380 x^{16} + 77520 x^{15} + 232560 x^{14} + 542640 x^{13} + 1007760 x^{12} + 1511640 x^{11} + 1847560 x^{10} + 1847560 x^{9} + 1511640 x^{8} + 1007760 x^{7} + 542640 x^{6} + 232560 x^{5} + 77520 x^{4} + 19380 x^{3} + 3420 x^{2} + 380 x + 20$$"
      ],
      "text/plain": [
       "    19        18         17          16          15           14           13            12            11            10            9            8            7           6           5          4          3         2             \n",
       "20*x   + 380*x   + 3420*x   + 19380*x   + 77520*x   + 232560*x   + 542640*x   + 1007760*x   + 1511640*x   + 1847560*x   + 1847560*x  + 1511640*x  + 1007760*x  + 542640*x  + 232560*x  + 77520*x  + 19380*x  + 3420*x  + 380*x + 20"
      ]
     },
     "execution_count": 162,
     "metadata": {},
     "output_type": "execute_result"
    }
   ],
   "source": [
    "g = diff(f, x)\n",
    "g"
   ]
  },
  {
   "cell_type": "code",
   "execution_count": 163,
   "metadata": {},
   "outputs": [
    {
     "data": {
      "image/png": "[encoded data removed]",
      "text/latex": [
       "$$20 \\left(x + 1\\right)^{19}$$"
      ],
      "text/plain": [
       "          19\n",
       "20*(x + 1)  "
      ]
     },
     "execution_count": 163,
     "metadata": {},
     "output_type": "execute_result"
    }
   ],
   "source": [
    "factor(g)"
   ]
  },
  {
   "cell_type": "code",
   "execution_count": 173,
   "metadata": {},
   "outputs": [
    {
     "data": {
      "image/png": "[encoded data removed]",
      "text/latex": [
       "$$\\left(x - 1\\right) \\left(x^{6} + x^{5} + x^{4} + x^{3} + x^{2} + x + 1\\right)$$"
      ],
      "text/plain": [
       "        / 6    5    4    3    2        \\\n",
       "(x - 1)*\\x  + x  + x  + x  + x  + x + 1/"
      ]
     },
     "execution_count": 173,
     "metadata": {},
     "output_type": "execute_result"
    }
   ],
   "source": [
    "factor(x**7-1)"
   ]
  },
  {
   "cell_type": "code",
   "execution_count": 174,
   "metadata": {
    "collapsed": true
   },
   "outputs": [],
   "source": [
    "f = 4*x**4 + 8*x**3 + 77*x**2 + 18*x + 153"
   ]
  },
  {
   "cell_type": "code",
   "execution_count": 178,
   "metadata": {},
   "outputs": [
    {
     "data": {
      "image/png": "[encoded data removed]",
      "text/latex": [
       "$$4 \\left(x - \\frac{3 i}{2}\\right) \\left(x + \\frac{3 i}{2}\\right) \\left(x + 1 - 4 i\\right) \\left(x + 1 + 4 i\\right)$$"
      ],
      "text/plain": [
       "  /    3*I\\ /    3*I\\                            \n",
       "4*|x - ---|*|x + ---|*(x + 1 - 4*I)*(x + 1 + 4*I)\n",
       "  \\     2 / \\     2 /                            "
      ]
     },
     "execution_count": 178,
     "metadata": {},
     "output_type": "execute_result"
    }
   ],
   "source": [
    "factor(f, gaussian=True)"
   ]
  },
  {
   "cell_type": "code",
   "execution_count": 176,
   "metadata": {},
   "outputs": [
    {
     "data": {
      "image/png": "[encoded data removed]",
      "text/latex": [
       "$$\\left(4 x^{2} + 9\\right) \\left(x^{2} + 2 x + 17\\right)$$"
      ],
      "text/plain": [
       "/   2    \\ / 2           \\\n",
       "\\4*x  + 9/*\\x  + 2*x + 17/"
      ]
     },
     "execution_count": 176,
     "metadata": {},
     "output_type": "execute_result"
    }
   ],
   "source": [
    "factor(f)"
   ]
  },
  {
   "cell_type": "code",
   "execution_count": 180,
   "metadata": {},
   "outputs": [
    {
     "data": {
      "image/png": "[encoded data removed]",
      "text/latex": [
       "$$\\left(x - 1\\right) \\left(x^{6} + x^{5} + x^{4} + x^{3} + x^{2} + x + 1\\right)$$"
      ],
      "text/plain": [
       "        / 6    5    4    3    2        \\\n",
       "(x - 1)*\\x  + x  + x  + x  + x  + x + 1/"
      ]
     },
     "execution_count": 180,
     "metadata": {},
     "output_type": "execute_result"
    }
   ],
   "source": [
    "factor(x**7-1, gaussian=True)"
   ]
  },
  {
   "cell_type": "code",
   "execution_count": 181,
   "metadata": {
    "collapsed": true
   },
   "outputs": [],
   "source": [
    "p = x**7-1"
   ]
  },
  {
   "cell_type": "code",
   "execution_count": 184,
   "metadata": {
    "collapsed": true
   },
   "outputs": [],
   "source": [
    "q,r = div(p,x-1)"
   ]
  },
  {
   "cell_type": "code",
   "execution_count": 189,
   "metadata": {},
   "outputs": [
    {
     "data": {
      "image/png": "[encoded data removed]",
      "text/latex": [
       "$$x^{6} + x^{5} + x^{4} + x^{3} + x^{2} + x + 1$$"
      ],
      "text/plain": [
       " 6    5    4    3    2        \n",
       "x  + x  + x  + x  + x  + x + 1"
      ]
     },
     "execution_count": 189,
     "metadata": {},
     "output_type": "execute_result"
    }
   ],
   "source": [
    "factor(q, gaussian=True)"
   ]
  },
  {
   "cell_type": "code",
   "execution_count": 190,
   "metadata": {
    "collapsed": true
   },
   "outputs": [],
   "source": [
    "f = x**3 + (sqrt(2) - 2)*x**2 - (2*sqrt(2) + 3)*x - 3*sqrt(2)"
   ]
  },
  {
   "cell_type": "code",
   "execution_count": 191,
   "metadata": {
    "collapsed": true
   },
   "outputs": [],
   "source": [
    "g = x**2 - 2"
   ]
  },
  {
   "cell_type": "code",
   "execution_count": 192,
   "metadata": {},
   "outputs": [
    {
     "data": {
      "image/png": "[encoded data removed]",
      "text/latex": [
       "$$\\frac{1}{x^{2} - 2} \\left(x^{3} - 2 x^{2} + \\sqrt{2} x^{2} - 3 x - 2 \\sqrt{2} x - 3 \\sqrt{2}\\right)$$"
      ],
      "text/plain": [
       " 3      2     ___  2             ___         ___\n",
       "x  - 2*x  + \\/ 2 *x  - 3*x - 2*\\/ 2 *x - 3*\\/ 2 \n",
       "------------------------------------------------\n",
       "                      2                         \n",
       "                     x  - 2                     "
      ]
     },
     "execution_count": 192,
     "metadata": {},
     "output_type": "execute_result"
    }
   ],
   "source": [
    "cancel(f/g)"
   ]
  },
  {
   "cell_type": "code",
   "execution_count": 193,
   "metadata": {},
   "outputs": [
    {
     "data": {
      "image/png": "[encoded data removed]",
      "text/latex": [
       "$$\\frac{x^{2} - 2 x - 3}{x - \\sqrt{2}}$$"
      ],
      "text/plain": [
       " 2          \n",
       "x  - 2*x - 3\n",
       "------------\n",
       "       ___  \n",
       " x - \\/ 2   "
      ]
     },
     "execution_count": 193,
     "metadata": {},
     "output_type": "execute_result"
    }
   ],
   "source": [
    "cancel(f/g, extension = True)"
   ]
  },
  {
   "cell_type": "code",
   "execution_count": 196,
   "metadata": {
    "collapsed": true
   },
   "outputs": [],
   "source": [
    "f = x**11 + x + 1"
   ]
  },
  {
   "cell_type": "code",
   "execution_count": 197,
   "metadata": {},
   "outputs": [
    {
     "data": {
      "image/png": "[encoded data removed]",
      "text/latex": [
       "$$x^{11} + x + 1$$"
      ],
      "text/plain": [
       " 11        \n",
       "x   + x + 1"
      ]
     },
     "execution_count": 197,
     "metadata": {},
     "output_type": "execute_result"
    }
   ],
   "source": [
    "f"
   ]
  },
  {
   "cell_type": "code",
   "execution_count": 198,
   "metadata": {},
   "outputs": [
    {
     "data": {
      "image/png": "[encoded data removed]",
      "text/latex": [
       "$$\\left(x^{2} + x + 1\\right) \\left(x^{9} - x^{8} + x^{6} - x^{5} + x^{3} - x^{2} + 1\\right)$$"
      ],
      "text/plain": [
       "/ 2        \\ / 9    8    6    5    3    2    \\\n",
       "\\x  + x + 1/*\\x  - x  + x  - x  + x  - x  + 1/"
      ]
     },
     "execution_count": 198,
     "metadata": {},
     "output_type": "execute_result"
    }
   ],
   "source": [
    "factor(f, modulus=65537)"
   ]
  },
  {
   "cell_type": "code",
   "execution_count": 200,
   "metadata": {},
   "outputs": [
    {
     "data": {
      "image/png": "[encoded data removed]",
      "text/latex": [
       "$$\\left(x^{2} + x + 1\\right) \\left(x^{9} - x^{8} + x^{6} - x^{5} + x^{3} - x^{2} + 1\\right)$$"
      ],
      "text/plain": [
       "/ 2        \\ / 9    8    6    5    3    2    \\\n",
       "\\x  + x + 1/*\\x  - x  + x  - x  + x  - x  + 1/"
      ]
     },
     "execution_count": 200,
     "metadata": {},
     "output_type": "execute_result"
    }
   ],
   "source": [
    "factor(f)"
   ]
  },
  {
   "cell_type": "code",
   "execution_count": 201,
   "metadata": {
    "collapsed": true
   },
   "outputs": [],
   "source": [
    " f = x**4 - 3*x**2 + 1"
   ]
  },
  {
   "cell_type": "code",
   "execution_count": 202,
   "metadata": {},
   "outputs": [
    {
     "data": {
      "image/png": "[encoded data removed]",
      "text/latex": [
       "$$\\left(x^{2} - x - 1\\right) \\left(x^{2} + x - 1\\right)$$"
      ],
      "text/plain": [
       "/ 2        \\ / 2        \\\n",
       "\\x  - x - 1/*\\x  + x - 1/"
      ]
     },
     "execution_count": 202,
     "metadata": {},
     "output_type": "execute_result"
    }
   ],
   "source": [
    "factor(f)"
   ]
  },
  {
   "cell_type": "code",
   "execution_count": 203,
   "metadata": {},
   "outputs": [
    {
     "data": {
      "image/png": "[encoded data removed]",
      "text/latex": [
       "$$\\left(x - 2\\right)^{2} \\left(x + 2\\right)^{2}$$"
      ],
      "text/plain": [
       "       2        2\n",
       "(x - 2) *(x + 2) "
      ]
     },
     "execution_count": 203,
     "metadata": {},
     "output_type": "execute_result"
    }
   ],
   "source": [
    "factor(f,modulus=5)"
   ]
  },
  {
   "cell_type": "code",
   "execution_count": null,
   "metadata": {
    "collapsed": true
   },
   "outputs": [],
   "source": []
  },
  {
   "cell_type": "code",
   "execution_count": null,
   "metadata": {
    "collapsed": true
   },
   "outputs": [],
   "source": []
  },
  {
   "cell_type": "code",
   "execution_count": null,
   "metadata": {
    "collapsed": true
   },
   "outputs": [],
   "source": []
  },
  {
   "cell_type": "code",
   "execution_count": null,
   "metadata": {
    "collapsed": true
   },
   "outputs": [],
   "source": []
  },
  {
   "cell_type": "code",
   "execution_count": null,
   "metadata": {
    "collapsed": true
   },
   "outputs": [],
   "source": []
  },
  {
   "cell_type": "code",
   "execution_count": null,
   "metadata": {
    "collapsed": true
   },
   "outputs": [],
   "source": []
  },
  {
   "cell_type": "code",
   "execution_count": null,
   "metadata": {
    "collapsed": true
   },
   "outputs": [],
   "source": []
  },
  {
   "cell_type": "code",
   "execution_count": null,
   "metadata": {
    "collapsed": true
   },
   "outputs": [],
   "source": []
  },
  {
   "cell_type": "code",
   "execution_count": null,
   "metadata": {
    "collapsed": true
   },
   "outputs": [],
   "source": []
  },
  {
   "cell_type": "code",
   "execution_count": null,
   "metadata": {
    "collapsed": true
   },
   "outputs": [],
   "source": []
  },
  {
   "cell_type": "code",
   "execution_count": null,
   "metadata": {
    "collapsed": true
   },
   "outputs": [],
   "source": []
  }
 ],
 "metadata": {
  "kernelspec": {
   "display_name": "Python 3",
   "language": "python",
   "name": "python3"
  },
  "language_info": {
   "codemirror_mode": {
    "name": "ipython",
    "version": 3
   },
   "file_extension": ".py",
   "mimetype": "text/x-python",
   "name": "python",
   "nbconvert_exporter": "python",
   "pygments_lexer": "ipython3",
   "version": "3.6.2"
  }
 },
 "nbformat": 4,
 "nbformat_minor": 2
}
