{
 "cells": [
  {
   "cell_type": "markdown",
   "metadata": {
    "deletable": true,
    "editable": true
   },
   "source": [
    "## Using Simulated Annealing for the backward step in LSM American Option pricing \n",
    "\n",
    "(instead of regression with LSM)"
   ]
  },
  {
   "cell_type": "markdown",
   "metadata": {
    "deletable": true,
    "editable": true
   },
   "source": [
    "## Algorithm\n",
    "\n",
    "```\n",
    "function SimulatedAnnealing(problem)\n",
    "    current = initial state\n",
    "    t = 1\n",
    "    loop\n",
    "        T = coolDown(t) // t -> T\n",
    "        if T < Epsilon then return current\n",
    "        next = random successor of current\n",
    "        dE = next.Value - current.Value\n",
    "        if dE > = then current=next\n",
    "        else current=next with prob e^-dE/T\n",
    "        t = t+1\n",
    "\n",
    "```"
   ]
  },
  {
   "cell_type": "code",
   "execution_count": 13,
   "metadata": {
    "collapsed": true,
    "deletable": true,
    "editable": true
   },
   "outputs": [],
   "source": [
    "import numpy as np\n",
    "import matplotlib.pyplot as plt\n",
    "%matplotlib inline "
   ]
  },
  {
   "cell_type": "code",
   "execution_count": 266,
   "metadata": {
    "collapsed": false,
    "deletable": true,
    "editable": true
   },
   "outputs": [
    {
     "data": {
      "text/plain": [
       "[<matplotlib.lines.Line2D at 0x11c2d70b8>]"
      ]
     },
     "execution_count": 266,
     "metadata": {},
     "output_type": "execute_result"
    },
    {
     "data": {
      "image/png": "[encoded data removed]",
      "text/plain": [
       "<matplotlib.figure.Figure at 0x11c109a58>"
      ]
     },
     "metadata": {},
     "output_type": "display_data"
    }
   ],
   "source": [
    "## Make Test Sample\n",
    "np.random.seed(450000) # seed for Python RNG\n",
    "def f(x):\n",
    "    return 3/4 *x*x + 2/5 * x - 2/7\n",
    "\n",
    "X = 20* np.random.random_sample((90,))\n",
    "\n",
    "Y = f(X)\n",
    "Y = Y  +np.random.random_sample((len(X),))*50\n",
    "\n",
    "plt.plot(X,Y,'*')\n"
   ]
  },
  {
   "cell_type": "code",
   "execution_count": 267,
   "metadata": {
    "collapsed": false,
    "deletable": true,
    "editable": true
   },
   "outputs": [
    {
     "name": "stdout",
     "output_type": "stream",
     "text": [
      "[  0.711479     1.40377747  18.58307927]\n",
      "[ 127.27478856  220.66709287  127.69498266  143.70901843   34.50076391\n",
      "  189.04980366   48.48264277  284.4661612   150.49610528   24.63130808\n",
      "   38.34036545   68.27205873   92.56190228  159.96138628  163.10991258\n",
      "  324.30489034  166.21709356  104.15040802  100.41682419   27.87642168\n",
      "   24.38250304  268.02055391   52.03317598  150.47248271   98.60622567\n",
      "  192.86241309   19.19020721  248.68866766   91.81180036  285.60477199\n",
      "   56.99186426  273.95156804  162.42508002   21.88348295   19.72334321\n",
      "  116.34279738   20.71579004  146.57702889   80.55459964  319.95925576\n",
      "  121.20459557  330.34551615  116.20862259  129.15408295  211.42430782\n",
      "   67.86712345   30.61332808  320.91105191  298.78303037   36.25941316\n",
      "   20.49204568  207.71694611  204.86264333  184.66832926   56.29531319\n",
      "  194.86022328  152.70426351   29.83985141  212.10703166   97.87332913\n",
      "   24.8643776   168.53042259  105.08184267   22.94812434  326.35917837\n",
      "  148.43869493  143.84743081  125.44955713  296.072146     33.06400544\n",
      "  149.48118688   28.3711747   130.55167965  128.24789366  324.24562236\n",
      "  329.90930912   48.15062764   49.70889167   79.35593881   52.03412106\n",
      "  102.63584193  114.03725893   82.27317619   86.70456527   44.99755281\n",
      "   81.96405481   40.3280621    22.78440544  213.44556377   29.37323189]\n"
     ]
    }
   ],
   "source": [
    "reg = np.polyfit(X, Y, 2)\n",
    "ry = np.polyval(reg, X)\n",
    "print(reg)\n",
    "print(ry)"
   ]
  },
  {
   "cell_type": "code",
   "execution_count": 268,
   "metadata": {
    "collapsed": false,
    "deletable": true,
    "editable": true
   },
   "outputs": [
    {
     "data": {
      "text/plain": [
       "[<matplotlib.lines.Line2D at 0x11c307668>]"
      ]
     },
     "execution_count": 268,
     "metadata": {},
     "output_type": "execute_result"
    },
    {
     "data": {
      "image/png": "[encoded data removed]",
      "text/plain": [
       "<matplotlib.figure.Figure at 0x11c307630>"
      ]
     },
     "metadata": {},
     "output_type": "display_data"
    }
   ],
   "source": [
    "X_ = np.arange(0,20,0.05)\n",
    "Y_ = reg[0]*X_*X_+reg[1]*X_+reg[2]\n",
    "plt.plot(X,Y,'*')\n",
    "plt.plot(X_,Y_)"
   ]
  },
  {
   "cell_type": "code",
   "execution_count": 257,
   "metadata": {
    "collapsed": true,
    "deletable": true,
    "editable": true
   },
   "outputs": [],
   "source": [
    "def coolDown(TS,t):\n",
    "    return TS*np.exp(-t/1E4)"
   ]
  },
  {
   "cell_type": "code",
   "execution_count": 264,
   "metadata": {
    "collapsed": true,
    "deletable": true,
    "editable": true
   },
   "outputs": [],
   "source": [
    "def random_successor(c,T):\n",
    "    # Variance of parameter Space\n",
    "    p = np.random.randn(3)*0.4\n",
    "    c = c + c*p\n",
    "    return c"
   ]
  },
  {
   "cell_type": "code",
   "execution_count": 259,
   "metadata": {
    "collapsed": true,
    "deletable": true,
    "editable": true
   },
   "outputs": [],
   "source": [
    "def chi2err(par,X,Y):\n",
    "    N = len(X)\n",
    "    s = 0\n",
    "    for i in range(N):\n",
    "        tmp = par[0]*X[i]*X[i]+par[1]*X[i]+par[2]-Y[i]\n",
    "        s += tmp*tmp\n",
    "    return s/N\n"
   ]
  },
  {
   "cell_type": "code",
   "execution_count": 271,
   "metadata": {
    "collapsed": false,
    "deletable": true,
    "editable": true
   },
   "outputs": [
    {
     "name": "stdout",
     "output_type": "stream",
     "text": [
      "[  9.11676661e-01   4.86503090e-06   3.94684476e-01]\n",
      "506.023393339\n",
      "[  0.82261748   0.88416593  19.68192733]\n",
      "[  0.74109029   1.17124758  28.04964694]\n",
      "[  0.67428934   1.18388449  24.01452189]\n",
      "[ 0.74629953  1.44743538  9.93034348]\n",
      "[ 0.5547011   4.90118814  3.03787885]\n",
      "[  0.79464407   0.21421351  21.89518579]\n",
      "[  0.78140689   0.32743398  18.66420448]\n",
      "[  7.86912780e-01  -6.04673331e-07   2.39077095e+01]\n",
      "[  7.89152326e-01  -1.38138842e-09   2.30699609e+01]\n",
      "[  7.88528427e-01  -1.84387198e-09   2.32688291e+01]\n",
      "[  7.65197430e-01   1.31278412e-14   2.51432426e+01]\n",
      "[  7.80755706e-01   2.48350218e-17   2.30461176e+01]\n",
      "[  7.80624661e-01   8.46860341e-19   2.34367054e+01]\n",
      "[  7.77655040e-01  -1.22588013e-25   2.43397413e+01]\n",
      "[  7.76512187e-01  -1.21153344e-27   2.45380425e+01]\n",
      "[  7.73829629e-01  -1.10902648e-28   2.42471497e+01]\n",
      "[  7.74681605e-01  -2.70005909e-42   2.42975958e+01]\n",
      "[  7.74874387e-01   6.88824586e-49   2.43076297e+01]\n",
      "[  7.74874387e-01   6.88824586e-49   2.43076297e+01]\n",
      "212.890111095\n"
     ]
    },
    {
     "data": {
      "text/plain": [
       "[<matplotlib.lines.Line2D at 0x11c587ba8>]"
      ]
     },
     "execution_count": 271,
     "metadata": {},
     "output_type": "execute_result"
    },
    {
     "data": {
      "image/png": "[encoded data removed]",
      "text/plain": [
       "<matplotlib.figure.Figure at 0x11bea9c50>"
      ]
     },
     "metadata": {},
     "output_type": "display_data"
    }
   ],
   "source": [
    "## SA start with regression parameters\n",
    "T_Start = 1E2\n",
    "epsilon = 1E-5\n",
    "start = np.polyfit(X, Y, 2)\n",
    "qual = chi2err(current,X,Y)\n",
    "print(current)\n",
    "print(chi2err(current,X,Y))\n",
    "\n",
    "def siman(T_S,epsilon,current,qual):\n",
    "    t = 1\n",
    "    dE =1000\n",
    "    while(True):\n",
    "        T = coolDown(T_S,t)\n",
    "        if (T < epsilon):\n",
    "            return current,dE\n",
    "        \n",
    "        nextV = random_successor(current,T)\n",
    "        #print(nextV)\n",
    "        dE = qual-chi2err(nextV,X,Y)\n",
    "        #print(dE)\n",
    "        if dE > 0:\n",
    "            current = nextV\n",
    "            qual = chi2err(current,X,Y)\n",
    "            print(current)\n",
    "        else:\n",
    "            if np.exp(dE/T) > np.random.rand():\n",
    "                current = nextV      \n",
    "        t = t + 1\n",
    "    \n",
    "current,dE = siman(T_Start,epsilon,start,qual)    \n",
    "print(current)\n",
    "print(chi2err(current,X,Y))\n",
    "\n",
    "X_sim = np.arange(1,20,0.2)\n",
    "Y_sim = current[0] * X_sim * X_sim + current[1] * X_sim + current[2]\n",
    "plt.plot(X,Y,\"*\")\n",
    "plt.plot(X_sim,Y_sim)\n"
   ]
  },
  {
   "cell_type": "code",
   "execution_count": 73,
   "metadata": {
    "collapsed": false,
    "deletable": true,
    "editable": true
   },
   "outputs": [
    {
     "data": {
      "text/plain": [
       "[<matplotlib.lines.Line2D at 0x114a1f358>]"
      ]
     },
     "execution_count": 73,
     "metadata": {},
     "output_type": "execute_result"
    },
    {
     "data": {
      "image/png": "[encoded data removed]",
      "text/plain": [
       "<matplotlib.figure.Figure at 0x114926080>"
      ]
     },
     "metadata": {},
     "output_type": "display_data"
    }
   ],
   "source": [
    "X_ = np.arange(1,1000,10)\n",
    "Y_ = coolDown(X_)\n",
    "plt.plot(X_,Y_)\n"
   ]
  },
  {
   "cell_type": "code",
   "execution_count": 78,
   "metadata": {
    "collapsed": false,
    "deletable": true,
    "editable": true
   },
   "outputs": [
    {
     "data": {
      "text/plain": [
       "array([ 0.17867878, -0.53369271, -0.13634506])"
      ]
     },
     "execution_count": 78,
     "metadata": {},
     "output_type": "execute_result"
    }
   ],
   "source": [
    "p = np.random.randn(3)*0.2\n",
    "X_"
   ]
  },
  {
   "cell_type": "code",
   "execution_count": 48,
   "metadata": {
    "collapsed": false,
    "deletable": true,
    "editable": true
   },
   "outputs": [
    {
     "data": {
      "text/plain": [
       "0.99990000499983334"
      ]
     },
     "execution_count": 48,
     "metadata": {},
     "output_type": "execute_result"
    }
   ],
   "source": []
  },
  {
   "cell_type": "code",
   "execution_count": null,
   "metadata": {
    "collapsed": true,
    "deletable": true,
    "editable": true
   },
   "outputs": [],
   "source": []
  },
  {
   "cell_type": "code",
   "execution_count": null,
   "metadata": {
    "collapsed": true,
    "deletable": true,
    "editable": true
   },
   "outputs": [],
   "source": []
  }
 ],
 "metadata": {
  "anaconda-cloud": {},
  "kernelspec": {
   "display_name": "Python [conda root]",
   "language": "python",
   "name": "conda-root-py"
  },
  "language_info": {
   "codemirror_mode": {
    "name": "ipython",
    "version": 3
   },
   "file_extension": ".py",
   "mimetype": "text/x-python",
   "name": "python",
   "nbconvert_exporter": "python",
   "pygments_lexer": "ipython3",
   "version": "3.5.3"
  }
 },
 "nbformat": 4,
 "nbformat_minor": 2
}
