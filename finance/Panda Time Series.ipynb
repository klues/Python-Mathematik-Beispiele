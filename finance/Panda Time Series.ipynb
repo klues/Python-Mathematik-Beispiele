{
 "cells": [
  {
   "cell_type": "code",
   "execution_count": 54,
   "metadata": {
    "collapsed": false,
    "deletable": true,
    "editable": true
   },
   "outputs": [],
   "source": [
    "import pandas as pd\n",
    "import numpy as np\n",
    "import matplotlib.pyplot as plt\n",
    "%matplotlib inline \n",
    "\n"
   ]
  },
  {
   "cell_type": "code",
   "execution_count": 25,
   "metadata": {
    "collapsed": false,
    "deletable": true,
    "editable": true
   },
   "outputs": [
    {
     "data": {
      "text/plain": [
       "DatetimeIndex(['2011-01-01 00:00:00', '2011-01-01 00:15:00',\n",
       "               '2011-01-01 00:30:00', '2011-01-01 00:45:00',\n",
       "               '2011-01-01 01:00:00', '2011-01-01 01:15:00',\n",
       "               '2011-01-01 01:30:00', '2011-01-01 01:45:00',\n",
       "               '2011-01-01 02:00:00', '2011-01-01 02:15:00',\n",
       "               '2011-01-01 02:30:00', '2011-01-01 02:45:00',\n",
       "               '2011-01-01 03:00:00', '2011-01-01 03:15:00',\n",
       "               '2011-01-01 03:30:00', '2011-01-01 03:45:00',\n",
       "               '2011-01-01 04:00:00', '2011-01-01 04:15:00',\n",
       "               '2011-01-01 04:30:00', '2011-01-01 04:45:00',\n",
       "               '2011-01-01 05:00:00', '2011-01-01 05:15:00',\n",
       "               '2011-01-01 05:30:00', '2011-01-01 05:45:00'],\n",
       "              dtype='datetime64[ns]', freq='15T')"
      ]
     },
     "execution_count": 25,
     "metadata": {},
     "output_type": "execute_result"
    }
   ],
   "source": [
    "rng = pd.date_range('1/1/2011', periods=24, freq='15min')\n",
    "rng"
   ]
  },
  {
   "cell_type": "code",
   "execution_count": 190,
   "metadata": {
    "collapsed": false,
    "deletable": true,
    "editable": true
   },
   "outputs": [
    {
     "data": {
      "text/plain": [
       "Timestamp('2016-02-01 00:45:00', freq='15T')"
      ]
     },
     "execution_count": 190,
     "metadata": {},
     "output_type": "execute_result"
    }
   ],
   "source": [
    "rng[3]"
   ]
  },
  {
   "cell_type": "markdown",
   "metadata": {
    "deletable": true,
    "editable": true
   },
   "source": [
    "### Generate Random Time Vector\n",
    "\n"
   ]
  },
  {
   "cell_type": "code",
   "execution_count": 39,
   "metadata": {
    "collapsed": false,
    "deletable": true,
    "editable": true
   },
   "outputs": [
    {
     "name": "stdout",
     "output_type": "stream",
     "text": [
      "0   2011-01-01 02:00:00\n",
      "1   2011-01-01 04:30:00\n",
      "2   2011-01-01 01:15:00\n",
      "3   2011-01-01 03:15:00\n",
      "4   2011-01-01 02:15:00\n",
      "5   2011-01-01 00:15:00\n",
      "6   2011-01-01 03:30:00\n",
      "7   2011-01-01 01:00:00\n",
      "8   2011-01-01 01:30:00\n",
      "9   2011-01-01 01:15:00\n",
      "dtype: datetime64[ns]\n"
     ]
    }
   ],
   "source": [
    "import random\n",
    "N = 20\n",
    "rng = pd.date_range('1/1/2011', periods=N, freq='15min')\n",
    "\n",
    "tmp = []\n",
    "for i in range(round(N/2)):\n",
    "    k = random.randint(0,N-1)\n",
    "    tmp.append(rng[k])\n",
    "\n",
    "X = pd.Series(tmp)\n",
    "print(X)"
   ]
  },
  {
   "cell_type": "code",
   "execution_count": 41,
   "metadata": {
    "collapsed": false,
    "deletable": true,
    "editable": true
   },
   "outputs": [
    {
     "data": {
      "text/plain": [
       "array([ 0.,  0.,  0.,  0.,  0.,  0.,  0.,  0.,  0.,  0.])"
      ]
     },
     "execution_count": 41,
     "metadata": {},
     "output_type": "execute_result"
    }
   ],
   "source": [
    "M = len(X)\n",
    "Y = np.zeros(M)\n",
    "Y"
   ]
  },
  {
   "cell_type": "code",
   "execution_count": 76,
   "metadata": {
    "collapsed": false,
    "deletable": true,
    "editable": true
   },
   "outputs": [
    {
     "data": {
      "text/plain": [
       "DatetimeIndex(['2011-01-01 00:15:00', '2011-01-01 01:00:00',\n",
       "               '2011-01-01 01:15:00', '2011-01-01 01:15:00',\n",
       "               '2011-01-01 01:30:00', '2011-01-01 02:00:00',\n",
       "               '2011-01-01 02:15:00', '2011-01-01 03:15:00',\n",
       "               '2011-01-01 03:30:00', '2011-01-01 04:30:00'],\n",
       "              dtype='datetime64[ns]', freq=None)"
      ]
     },
     "execution_count": 76,
     "metadata": {},
     "output_type": "execute_result"
    }
   ],
   "source": [
    "\n",
    "X_=X.sort_values()\n",
    "ind=pd.DatetimeIndex(X_.values)\n",
    "ind"
   ]
  },
  {
   "cell_type": "code",
   "execution_count": 122,
   "metadata": {
    "collapsed": false,
    "deletable": true,
    "editable": true
   },
   "outputs": [
    {
     "data": {
      "text/plain": [
       "2011-01-01 00:15:00    0\n",
       "2011-01-01 01:00:00    0\n",
       "2011-01-01 01:15:00    0\n",
       "2011-01-01 01:15:00    0\n",
       "2011-01-01 01:30:00    0\n",
       "2011-01-01 02:00:00    0\n",
       "2011-01-01 02:15:00    0\n",
       "2011-01-01 03:15:00    0\n",
       "2011-01-01 03:30:00    0\n",
       "2011-01-01 04:30:00    0\n",
       "dtype: int64"
      ]
     },
     "execution_count": 122,
     "metadata": {},
     "output_type": "execute_result"
    }
   ],
   "source": [
    "car1 = pd.Series(0, index=ind)\n",
    "car1"
   ]
  },
  {
   "cell_type": "markdown",
   "metadata": {
    "deletable": true,
    "editable": true
   },
   "source": [
    "### Merge two time Series"
   ]
  },
  {
   "cell_type": "code",
   "execution_count": 98,
   "metadata": {
    "collapsed": false,
    "deletable": true,
    "editable": true
   },
   "outputs": [
    {
     "data": {
      "text/plain": [
       "2011-01-01 00:00:00    1\n",
       "2011-01-01 00:15:00    1\n",
       "2011-01-01 00:30:00    1\n",
       "2011-01-01 00:45:00    1\n",
       "2011-01-01 01:00:00    1\n",
       "2011-01-01 01:15:00    1\n",
       "2011-01-01 01:30:00    1\n",
       "2011-01-01 01:45:00    1\n",
       "2011-01-01 02:00:00    1\n",
       "2011-01-01 02:15:00    1\n",
       "2011-01-01 02:30:00    1\n",
       "2011-01-01 02:45:00    1\n",
       "2011-01-01 03:00:00    1\n",
       "2011-01-01 03:15:00    1\n",
       "2011-01-01 03:30:00    1\n",
       "2011-01-01 03:45:00    1\n",
       "2011-01-01 04:00:00    1\n",
       "2011-01-01 04:15:00    1\n",
       "2011-01-01 04:30:00    1\n",
       "2011-01-01 04:45:00    1\n",
       "2011-01-01 05:00:00    1\n",
       "2011-01-01 05:15:00    1\n",
       "2011-01-01 05:30:00    1\n",
       "2011-01-01 05:45:00    1\n",
       "Freq: 15T, dtype: int64"
      ]
     },
     "execution_count": 98,
     "metadata": {},
     "output_type": "execute_result"
    }
   ],
   "source": [
    "rng = pd.date_range('1/1/2011', periods=24, freq='15min')\n",
    "rng\n",
    "runvalue = pd.Series(1, index=rng)\n",
    "runvalue"
   ]
  },
  {
   "cell_type": "code",
   "execution_count": 137,
   "metadata": {
    "collapsed": false,
    "deletable": true,
    "editable": true
   },
   "outputs": [
    {
     "data": {
      "text/plain": [
       "array([False, False, False,  True, False, False, False, False, False, False], dtype=bool)"
      ]
     },
     "execution_count": 137,
     "metadata": {},
     "output_type": "execute_result"
    }
   ],
   "source": [
    "#check dublicated index\n",
    "\n",
    "\n",
    "car1.index.duplicated()"
   ]
  },
  {
   "cell_type": "code",
   "execution_count": 140,
   "metadata": {
    "collapsed": false
   },
   "outputs": [
    {
     "data": {
      "text/plain": [
       "2011-01-01 00:15:00    0\n",
       "2011-01-01 01:00:00    0\n",
       "2011-01-01 01:15:00    0\n",
       "2011-01-01 01:30:00    0\n",
       "2011-01-01 02:00:00    0\n",
       "2011-01-01 02:15:00    0\n",
       "2011-01-01 03:15:00    0\n",
       "2011-01-01 03:30:00    0\n",
       "2011-01-01 04:30:00    0\n",
       "dtype: int64"
      ]
     },
     "execution_count": 140,
     "metadata": {},
     "output_type": "execute_result"
    }
   ],
   "source": [
    "### Remove dublicated\n",
    "\n",
    "car1_corr =  car1[~car1.index.duplicated()]\n",
    "car1_corr"
   ]
  },
  {
   "cell_type": "code",
   "execution_count": 142,
   "metadata": {
    "collapsed": false
   },
   "outputs": [
    {
     "data": {
      "text/plain": [
       "2011-01-01 00:00:00    NaN\n",
       "2011-01-01 00:15:00    0.0\n",
       "2011-01-01 00:30:00    NaN\n",
       "2011-01-01 00:45:00    NaN\n",
       "2011-01-01 01:00:00    0.0\n",
       "2011-01-01 01:15:00    0.0\n",
       "2011-01-01 01:30:00    0.0\n",
       "2011-01-01 01:45:00    NaN\n",
       "2011-01-01 02:00:00    0.0\n",
       "2011-01-01 02:15:00    0.0\n",
       "2011-01-01 02:30:00    NaN\n",
       "2011-01-01 02:45:00    NaN\n",
       "2011-01-01 03:00:00    NaN\n",
       "2011-01-01 03:15:00    0.0\n",
       "2011-01-01 03:30:00    0.0\n",
       "2011-01-01 03:45:00    NaN\n",
       "2011-01-01 04:00:00    NaN\n",
       "2011-01-01 04:15:00    NaN\n",
       "2011-01-01 04:30:00    0.0\n",
       "2011-01-01 04:45:00    NaN\n",
       "2011-01-01 05:00:00    NaN\n",
       "2011-01-01 05:15:00    NaN\n",
       "2011-01-01 05:30:00    NaN\n",
       "2011-01-01 05:45:00    NaN\n",
       "Freq: 15T, dtype: float64"
      ]
     },
     "execution_count": 142,
     "metadata": {},
     "output_type": "execute_result"
    }
   ],
   "source": [
    "car1_corr.reindex(rng)"
   ]
  },
  {
   "cell_type": "code",
   "execution_count": 138,
   "metadata": {
    "collapsed": false
   },
   "outputs": [
    {
     "data": {
      "text/plain": [
       "2011-01-01 00:15:00    0\n",
       "2011-01-01 01:00:00    0\n",
       "2011-01-01 01:15:00    0\n",
       "2011-01-01 01:30:00    0\n",
       "2011-01-01 02:00:00    0\n",
       "2011-01-01 02:15:00    0\n",
       "2011-01-01 03:15:00    0\n",
       "2011-01-01 03:30:00    0\n",
       "2011-01-01 04:30:00    0\n",
       "dtype: int64"
      ]
     },
     "execution_count": 138,
     "metadata": {},
     "output_type": "execute_result"
    }
   ],
   "source": [
    "# give NaN a new value 1"
   ]
  },
  {
   "cell_type": "code",
   "execution_count": 143,
   "metadata": {
    "collapsed": false,
    "deletable": true,
    "editable": true
   },
   "outputs": [],
   "source": [
    "# measure length of 1"
   ]
  },
  {
   "cell_type": "markdown",
   "metadata": {
    "deletable": true,
    "editable": true
   },
   "source": [
    "## Working with DataFrame"
   ]
  },
  {
   "cell_type": "code",
   "execution_count": 49,
   "metadata": {
    "collapsed": false,
    "deletable": true,
    "editable": true
   },
   "outputs": [
    {
     "data": {
      "text/html": [
       "<div>\n",
       "<table border=\"1\" class=\"dataframe\">\n",
       "  <thead>\n",
       "    <tr style=\"text-align: right;\">\n",
       "      <th></th>\n",
       "      <th>time</th>\n",
       "      <th>val</th>\n",
       "    </tr>\n",
       "  </thead>\n",
       "  <tbody>\n",
       "    <tr>\n",
       "      <th>0</th>\n",
       "      <td>2011-01-01 02:00:00</td>\n",
       "      <td>0.0</td>\n",
       "    </tr>\n",
       "    <tr>\n",
       "      <th>1</th>\n",
       "      <td>2011-01-01 04:30:00</td>\n",
       "      <td>0.0</td>\n",
       "    </tr>\n",
       "    <tr>\n",
       "      <th>2</th>\n",
       "      <td>2011-01-01 01:15:00</td>\n",
       "      <td>0.0</td>\n",
       "    </tr>\n",
       "    <tr>\n",
       "      <th>3</th>\n",
       "      <td>2011-01-01 03:15:00</td>\n",
       "      <td>0.0</td>\n",
       "    </tr>\n",
       "    <tr>\n",
       "      <th>4</th>\n",
       "      <td>2011-01-01 02:15:00</td>\n",
       "      <td>0.0</td>\n",
       "    </tr>\n",
       "    <tr>\n",
       "      <th>5</th>\n",
       "      <td>2011-01-01 00:15:00</td>\n",
       "      <td>0.0</td>\n",
       "    </tr>\n",
       "    <tr>\n",
       "      <th>6</th>\n",
       "      <td>2011-01-01 03:30:00</td>\n",
       "      <td>0.0</td>\n",
       "    </tr>\n",
       "    <tr>\n",
       "      <th>7</th>\n",
       "      <td>2011-01-01 01:00:00</td>\n",
       "      <td>0.0</td>\n",
       "    </tr>\n",
       "    <tr>\n",
       "      <th>8</th>\n",
       "      <td>2011-01-01 01:30:00</td>\n",
       "      <td>0.0</td>\n",
       "    </tr>\n",
       "    <tr>\n",
       "      <th>9</th>\n",
       "      <td>2011-01-01 01:15:00</td>\n",
       "      <td>0.0</td>\n",
       "    </tr>\n",
       "  </tbody>\n",
       "</table>\n",
       "</div>"
      ],
      "text/plain": [
       "                 time  val\n",
       "0 2011-01-01 02:00:00  0.0\n",
       "1 2011-01-01 04:30:00  0.0\n",
       "2 2011-01-01 01:15:00  0.0\n",
       "3 2011-01-01 03:15:00  0.0\n",
       "4 2011-01-01 02:15:00  0.0\n",
       "5 2011-01-01 00:15:00  0.0\n",
       "6 2011-01-01 03:30:00  0.0\n",
       "7 2011-01-01 01:00:00  0.0\n",
       "8 2011-01-01 01:30:00  0.0\n",
       "9 2011-01-01 01:15:00  0.0"
      ]
     },
     "execution_count": 49,
     "metadata": {},
     "output_type": "execute_result"
    }
   ],
   "source": [
    "df=pd.DataFrame({\"time\":X,\"val\":Y})\n",
    "df"
   ]
  },
  {
   "cell_type": "markdown",
   "metadata": {
    "deletable": true,
    "editable": true
   },
   "source": [
    "## Dataset with time and a constant Value"
   ]
  },
  {
   "cell_type": "code",
   "execution_count": 51,
   "metadata": {
    "collapsed": false,
    "deletable": true,
    "editable": true
   },
   "outputs": [
    {
     "data": {
      "text/html": [
       "<div>\n",
       "<table border=\"1\" class=\"dataframe\">\n",
       "  <thead>\n",
       "    <tr style=\"text-align: right;\">\n",
       "      <th></th>\n",
       "      <th>time</th>\n",
       "      <th>val</th>\n",
       "      <th>date_int</th>\n",
       "    </tr>\n",
       "  </thead>\n",
       "  <tbody>\n",
       "    <tr>\n",
       "      <th>0</th>\n",
       "      <td>2011-01-01 02:00:00</td>\n",
       "      <td>0.0</td>\n",
       "      <td>1293847200000000000</td>\n",
       "    </tr>\n",
       "    <tr>\n",
       "      <th>1</th>\n",
       "      <td>2011-01-01 04:30:00</td>\n",
       "      <td>0.0</td>\n",
       "      <td>1293856200000000000</td>\n",
       "    </tr>\n",
       "    <tr>\n",
       "      <th>2</th>\n",
       "      <td>2011-01-01 01:15:00</td>\n",
       "      <td>0.0</td>\n",
       "      <td>1293844500000000000</td>\n",
       "    </tr>\n",
       "    <tr>\n",
       "      <th>3</th>\n",
       "      <td>2011-01-01 03:15:00</td>\n",
       "      <td>0.0</td>\n",
       "      <td>1293851700000000000</td>\n",
       "    </tr>\n",
       "    <tr>\n",
       "      <th>4</th>\n",
       "      <td>2011-01-01 02:15:00</td>\n",
       "      <td>0.0</td>\n",
       "      <td>1293848100000000000</td>\n",
       "    </tr>\n",
       "    <tr>\n",
       "      <th>5</th>\n",
       "      <td>2011-01-01 00:15:00</td>\n",
       "      <td>0.0</td>\n",
       "      <td>1293840900000000000</td>\n",
       "    </tr>\n",
       "    <tr>\n",
       "      <th>6</th>\n",
       "      <td>2011-01-01 03:30:00</td>\n",
       "      <td>0.0</td>\n",
       "      <td>1293852600000000000</td>\n",
       "    </tr>\n",
       "    <tr>\n",
       "      <th>7</th>\n",
       "      <td>2011-01-01 01:00:00</td>\n",
       "      <td>0.0</td>\n",
       "      <td>1293843600000000000</td>\n",
       "    </tr>\n",
       "    <tr>\n",
       "      <th>8</th>\n",
       "      <td>2011-01-01 01:30:00</td>\n",
       "      <td>0.0</td>\n",
       "      <td>1293845400000000000</td>\n",
       "    </tr>\n",
       "    <tr>\n",
       "      <th>9</th>\n",
       "      <td>2011-01-01 01:15:00</td>\n",
       "      <td>0.0</td>\n",
       "      <td>1293844500000000000</td>\n",
       "    </tr>\n",
       "  </tbody>\n",
       "</table>\n",
       "</div>"
      ],
      "text/plain": [
       "                 time  val             date_int\n",
       "0 2011-01-01 02:00:00  0.0  1293847200000000000\n",
       "1 2011-01-01 04:30:00  0.0  1293856200000000000\n",
       "2 2011-01-01 01:15:00  0.0  1293844500000000000\n",
       "3 2011-01-01 03:15:00  0.0  1293851700000000000\n",
       "4 2011-01-01 02:15:00  0.0  1293848100000000000\n",
       "5 2011-01-01 00:15:00  0.0  1293840900000000000\n",
       "6 2011-01-01 03:30:00  0.0  1293852600000000000\n",
       "7 2011-01-01 01:00:00  0.0  1293843600000000000\n",
       "8 2011-01-01 01:30:00  0.0  1293845400000000000\n",
       "9 2011-01-01 01:15:00  0.0  1293844500000000000"
      ]
     },
     "execution_count": 51,
     "metadata": {},
     "output_type": "execute_result"
    }
   ],
   "source": [
    "df['date_int'] = df.time.astype(np.int64)\n",
    "df"
   ]
  },
  {
   "cell_type": "code",
   "execution_count": 57,
   "metadata": {
    "collapsed": false,
    "deletable": true,
    "editable": true
   },
   "outputs": [
    {
     "data": {
      "text/plain": [
       "<matplotlib.axes._subplots.AxesSubplot at 0x11428d940>"
      ]
     },
     "execution_count": 57,
     "metadata": {},
     "output_type": "execute_result"
    },
    {
     "data": {
      "image/png": "[encoded data removed]",
      "text/plain": [
       "<matplotlib.figure.Figure at 0x1142c6d68>"
      ]
     },
     "metadata": {},
     "output_type": "display_data"
    }
   ],
   "source": [
    "df.plot(x='time',y='val',style='o')"
   ]
  },
  {
   "cell_type": "markdown",
   "metadata": {
    "deletable": true,
    "editable": true
   },
   "source": [
    "### Calculate Space between  the data"
   ]
  },
  {
   "cell_type": "code",
   "execution_count": 65,
   "metadata": {
    "collapsed": false,
    "deletable": true,
    "editable": true
   },
   "outputs": [
    {
     "name": "stderr",
     "output_type": "stream",
     "text": [
      "/Users/guggisberg/anaconda3/lib/python3.5/site-packages/ipykernel/__main__.py:3: FutureWarning: sort(columns=....) is deprecated, use sort_values(by=.....)\n",
      "  app.launch_new_instance()\n"
     ]
    },
    {
     "data": {
      "text/html": [
       "<div>\n",
       "<table border=\"1\" class=\"dataframe\">\n",
       "  <thead>\n",
       "    <tr style=\"text-align: right;\">\n",
       "      <th></th>\n",
       "      <th>time</th>\n",
       "      <th>val</th>\n",
       "      <th>date_int</th>\n",
       "    </tr>\n",
       "  </thead>\n",
       "  <tbody>\n",
       "    <tr>\n",
       "      <th>5</th>\n",
       "      <td>2011-01-01 00:15:00</td>\n",
       "      <td>0.0</td>\n",
       "      <td>1293840900000000000</td>\n",
       "    </tr>\n",
       "    <tr>\n",
       "      <th>7</th>\n",
       "      <td>2011-01-01 01:00:00</td>\n",
       "      <td>0.0</td>\n",
       "      <td>1293843600000000000</td>\n",
       "    </tr>\n",
       "    <tr>\n",
       "      <th>2</th>\n",
       "      <td>2011-01-01 01:15:00</td>\n",
       "      <td>0.0</td>\n",
       "      <td>1293844500000000000</td>\n",
       "    </tr>\n",
       "    <tr>\n",
       "      <th>9</th>\n",
       "      <td>2011-01-01 01:15:00</td>\n",
       "      <td>0.0</td>\n",
       "      <td>1293844500000000000</td>\n",
       "    </tr>\n",
       "    <tr>\n",
       "      <th>8</th>\n",
       "      <td>2011-01-01 01:30:00</td>\n",
       "      <td>0.0</td>\n",
       "      <td>1293845400000000000</td>\n",
       "    </tr>\n",
       "    <tr>\n",
       "      <th>0</th>\n",
       "      <td>2011-01-01 02:00:00</td>\n",
       "      <td>0.0</td>\n",
       "      <td>1293847200000000000</td>\n",
       "    </tr>\n",
       "    <tr>\n",
       "      <th>4</th>\n",
       "      <td>2011-01-01 02:15:00</td>\n",
       "      <td>0.0</td>\n",
       "      <td>1293848100000000000</td>\n",
       "    </tr>\n",
       "    <tr>\n",
       "      <th>3</th>\n",
       "      <td>2011-01-01 03:15:00</td>\n",
       "      <td>0.0</td>\n",
       "      <td>1293851700000000000</td>\n",
       "    </tr>\n",
       "    <tr>\n",
       "      <th>6</th>\n",
       "      <td>2011-01-01 03:30:00</td>\n",
       "      <td>0.0</td>\n",
       "      <td>1293852600000000000</td>\n",
       "    </tr>\n",
       "    <tr>\n",
       "      <th>1</th>\n",
       "      <td>2011-01-01 04:30:00</td>\n",
       "      <td>0.0</td>\n",
       "      <td>1293856200000000000</td>\n",
       "    </tr>\n",
       "  </tbody>\n",
       "</table>\n",
       "</div>"
      ],
      "text/plain": [
       "                 time  val             date_int\n",
       "5 2011-01-01 00:15:00  0.0  1293840900000000000\n",
       "7 2011-01-01 01:00:00  0.0  1293843600000000000\n",
       "2 2011-01-01 01:15:00  0.0  1293844500000000000\n",
       "9 2011-01-01 01:15:00  0.0  1293844500000000000\n",
       "8 2011-01-01 01:30:00  0.0  1293845400000000000\n",
       "0 2011-01-01 02:00:00  0.0  1293847200000000000\n",
       "4 2011-01-01 02:15:00  0.0  1293848100000000000\n",
       "3 2011-01-01 03:15:00  0.0  1293851700000000000\n",
       "6 2011-01-01 03:30:00  0.0  1293852600000000000\n",
       "1 2011-01-01 04:30:00  0.0  1293856200000000000"
      ]
     },
     "execution_count": 65,
     "metadata": {},
     "output_type": "execute_result"
    }
   ],
   "source": [
    "#df.sort(columns=['time'])\n",
    "\n",
    "result = df.sort(['time'], ascending=True)\n",
    "result"
   ]
  },
  {
   "cell_type": "markdown",
   "metadata": {},
   "source": [
    "## Playing with the Time \n",
    "- generate a 14 months Series \n",
    "- read in the date monthly in an array\n",
    "- filter and recalibrate the input\n",
    "- store the data in a pandas format  (e.g. netxblabla)\n"
   ]
  },
  {
   "cell_type": "code",
   "execution_count": 1,
   "metadata": {
    "collapsed": true
   },
   "outputs": [],
   "source": [
    "import pandas as pd\n",
    "import numpy as np\n",
    "import matplotlib.pyplot as plt\n",
    "%matplotlib inline "
   ]
  },
  {
   "cell_type": "markdown",
   "metadata": {},
   "source": [
    "## generate Data from 1.2.2016 to 3.4.2017\n"
   ]
  },
  {
   "cell_type": "code",
   "execution_count": 27,
   "metadata": {
    "collapsed": false
   },
   "outputs": [],
   "source": [
    "start = '2/1/2016'\n",
    "end = '2/2/2016'\n",
    "\n",
    "rng = pd.date_range(start,end , freq='15min')\n",
    "#rng"
   ]
  },
  {
   "cell_type": "markdown",
   "metadata": {},
   "source": [
    "## fuzzy the generated time"
   ]
  },
  {
   "cell_type": "code",
   "execution_count": 78,
   "metadata": {
    "collapsed": false
   },
   "outputs": [],
   "source": [
    "tfuzzy = []\n",
    "for ts in rng:\n",
    "    rmin = np.random.randint(0,1)\n",
    "    rmin = 0\n",
    "    rsec = np.random.randint(0,4)\n",
    "    #rsec = 0\n",
    "    tstr = str(rmin)+'m'+str(rsec)+'s'\n",
    "    nt=ts+pd.Timedelta(tstr)\n",
    "    # loose 10%\n",
    "    if np.random.random() < 0.7:\n",
    "        tfuzzy.append(nt)\n",
    "\n",
    "#tfuzzy"
   ]
  },
  {
   "cell_type": "code",
   "execution_count": 79,
   "metadata": {
    "collapsed": false
   },
   "outputs": [],
   "source": [
    "Tseq = pd.Series(1,tfuzzy)\n",
    "#Tseq"
   ]
  },
  {
   "cell_type": "markdown",
   "metadata": {},
   "source": [
    "## bring it together"
   ]
  },
  {
   "cell_type": "code",
   "execution_count": 87,
   "metadata": {
    "collapsed": false
   },
   "outputs": [
    {
     "data": {
      "text/plain": [
       "2016-02-01 00:00:00    NaN\n",
       "2016-02-01 00:15:00    NaN\n",
       "2016-02-01 00:30:00    1.0\n",
       "2016-02-01 00:45:00    1.0\n",
       "2016-02-01 01:00:00    1.0\n",
       "2016-02-01 01:15:00    1.0\n",
       "2016-02-01 01:30:00    1.0\n",
       "2016-02-01 01:45:00    NaN\n",
       "2016-02-01 02:00:00    1.0\n",
       "2016-02-01 02:15:00    NaN\n",
       "2016-02-01 02:30:00    1.0\n",
       "2016-02-01 02:45:00    1.0\n",
       "2016-02-01 03:00:00    1.0\n",
       "2016-02-01 03:15:00    NaN\n",
       "2016-02-01 03:30:00    1.0\n",
       "2016-02-01 03:45:00    1.0\n",
       "2016-02-01 04:00:00    NaN\n",
       "2016-02-01 04:15:00    1.0\n",
       "2016-02-01 04:30:00    1.0\n",
       "2016-02-01 04:45:00    NaN\n",
       "2016-02-01 05:00:00    1.0\n",
       "2016-02-01 05:15:00    1.0\n",
       "2016-02-01 05:30:00    1.0\n",
       "2016-02-01 05:45:00    1.0\n",
       "2016-02-01 06:00:00    NaN\n",
       "2016-02-01 06:15:00    1.0\n",
       "2016-02-01 06:30:00    1.0\n",
       "2016-02-01 06:45:00    1.0\n",
       "2016-02-01 07:00:00    1.0\n",
       "2016-02-01 07:15:00    1.0\n",
       "                      ... \n",
       "2016-02-01 16:45:00    1.0\n",
       "2016-02-01 17:00:00    1.0\n",
       "2016-02-01 17:15:00    1.0\n",
       "2016-02-01 17:30:00    NaN\n",
       "2016-02-01 17:45:00    1.0\n",
       "2016-02-01 18:00:00    1.0\n",
       "2016-02-01 18:15:00    NaN\n",
       "2016-02-01 18:30:00    1.0\n",
       "2016-02-01 18:45:00    1.0\n",
       "2016-02-01 19:00:00    1.0\n",
       "2016-02-01 19:15:00    1.0\n",
       "2016-02-01 19:30:00    NaN\n",
       "2016-02-01 19:45:00    1.0\n",
       "2016-02-01 20:00:00    NaN\n",
       "2016-02-01 20:15:00    1.0\n",
       "2016-02-01 20:30:00    NaN\n",
       "2016-02-01 20:45:00    1.0\n",
       "2016-02-01 21:00:00    1.0\n",
       "2016-02-01 21:15:00    NaN\n",
       "2016-02-01 21:30:00    1.0\n",
       "2016-02-01 21:45:00    1.0\n",
       "2016-02-01 22:00:00    1.0\n",
       "2016-02-01 22:15:00    1.0\n",
       "2016-02-01 22:30:00    NaN\n",
       "2016-02-01 22:45:00    1.0\n",
       "2016-02-01 23:00:00    1.0\n",
       "2016-02-01 23:15:00    1.0\n",
       "2016-02-01 23:30:00    1.0\n",
       "2016-02-01 23:45:00    1.0\n",
       "2016-02-02 00:00:00    1.0\n",
       "Freq: 15T, dtype: float64"
      ]
     },
     "execution_count": 87,
     "metadata": {},
     "output_type": "execute_result"
    }
   ],
   "source": [
    "tol = pd.Timedelta('15m0s')\n",
    "\n",
    "Tseq.reindex(rng,method='ffill',tolerance=tol)"
   ]
  },
  {
   "cell_type": "markdown",
   "metadata": {
    "collapsed": false
   },
   "source": [
    "### Iterative Data Generation\n",
    "1. generate Dataset\n",
    "2. fill spaces in the Sequence with 1"
   ]
  },
  {
   "cell_type": "code",
   "execution_count": 182,
   "metadata": {
    "collapsed": false
   },
   "outputs": [],
   "source": [
    "# generate Dataset\n",
    "start = '2/1/2016'\n",
    "end = '4/2/2016'\n",
    "\n",
    "rng = pd.date_range(start,end , freq='15min')\n",
    "\n",
    "cartime = []\n",
    "for ts in rng:\n",
    "    # Fuziness (noise)\n",
    "    rmin = np.random.randint(0,3)\n",
    "    rsec = np.random.randint(0,30)\n",
    "    #rsec = 0\n",
    "    tstr = str(rmin)+'m'+str(rsec)+'s'\n",
    "    nt=ts+pd.Timedelta(tstr)\n",
    "    # loose 10%\n",
    "    if np.random.random() < 0.6:\n",
    "        cartime.append(nt)"
   ]
  },
  {
   "cell_type": "code",
   "execution_count": 183,
   "metadata": {
    "collapsed": false
   },
   "outputs": [
    {
     "data": {
      "text/plain": [
       "<matplotlib.axes._subplots.AxesSubplot at 0x116f46320>"
      ]
     },
     "execution_count": 183,
     "metadata": {},
     "output_type": "execute_result"
    },
    {
     "data": {
      "image/png": "[encoded data removed]",
      "text/plain": [
       "<matplotlib.figure.Figure at 0x116f04080>"
      ]
     },
     "metadata": {},
     "output_type": "display_data"
    }
   ],
   "source": [
    "cardata = pd.Series(0,cartime)\n",
    "#cardata\n",
    "cardata.plot()"
   ]
  },
  {
   "cell_type": "code",
   "execution_count": 184,
   "metadata": {
    "collapsed": false
   },
   "outputs": [],
   "source": [
    "# Fill entries with regular 15Min time steps\n",
    "\n",
    "start= cardata.index[0]\n",
    "end= cardata.index[-1]\n",
    "accurency = pd.Timedelta(\"2m30s\")\n",
    "\n",
    "newindex = []\n",
    "values = []\n",
    "dt = pd.Timedelta(\"15m\")\n",
    "\n",
    "t = start\n",
    "i = 0\n",
    "while end-t > pd.Timedelta(\"0m\"):\n",
    "    \n",
    "    shift = cardata.index[i]-t\n",
    "    \n",
    "    # Lücke, Wagen ist weg\n",
    "    if shift - accurency > pd.Timedelta(\"0m\"):\n",
    "        values.append(1)\n",
    "        \n",
    "    else:\n",
    "        values.append(0)\n",
    "        t = cardata.index[i]\n",
    "        i = i + 1\n",
    "        \n",
    "    \n",
    "    newindex.append(t) \n",
    "    #print(time)\n",
    "    t = t + dt\n",
    "    #print(i)\n",
    "\n",
    "\n"
   ]
  },
  {
   "cell_type": "code",
   "execution_count": 185,
   "metadata": {
    "collapsed": false
   },
   "outputs": [
    {
     "data": {
      "text/plain": [
       "<matplotlib.axes._subplots.AxesSubplot at 0x1172276d8>"
      ]
     },
     "execution_count": 185,
     "metadata": {},
     "output_type": "execute_result"
    },
    {
     "data": {
      "image/png": "[encoded data removed]",
      "text/plain": [
       "<matplotlib.figure.Figure at 0x1170ca080>"
      ]
     },
     "metadata": {},
     "output_type": "display_data"
    }
   ],
   "source": [
    "cardata2 = pd.Series(values,newindex)\n",
    "cardata2.plot.kde()"
   ]
  },
  {
   "cell_type": "code",
   "execution_count": 186,
   "metadata": {
    "collapsed": false
   },
   "outputs": [
    {
     "data": {
      "text/plain": [
       "<matplotlib.axes._subplots.AxesSubplot at 0x117385208>"
      ]
     },
     "execution_count": 186,
     "metadata": {},
     "output_type": "execute_result"
    },
    {
     "data": {
      "image/png": "[encoded data removed]",
      "text/plain": [
       "<matplotlib.figure.Figure at 0x1170dbc50>"
      ]
     },
     "metadata": {},
     "output_type": "display_data"
    }
   ],
   "source": [
    "cardata2.plot.line()"
   ]
  },
  {
   "cell_type": "code",
   "execution_count": 198,
   "metadata": {
    "collapsed": false
   },
   "outputs": [
    {
     "data": {
      "text/plain": [
       "<matplotlib.axes._subplots.AxesSubplot at 0x117546748>"
      ]
     },
     "execution_count": 198,
     "metadata": {},
     "output_type": "execute_result"
    },
    {
     "data": {
      "image/png": "[encoded data removed]",
      "text/plain": [
       "<matplotlib.figure.Figure at 0x1175f42b0>"
      ]
     },
     "metadata": {},
     "output_type": "display_data"
    }
   ],
   "source": [
    "\n",
    "c3 = cardata2[300:350]\n",
    "c3.plot()\n"
   ]
  },
  {
   "cell_type": "code",
   "execution_count": 175,
   "metadata": {
    "collapsed": false
   },
   "outputs": [],
   "source": [
    "#cardata2"
   ]
  },
  {
   "cell_type": "code",
   "execution_count": 173,
   "metadata": {
    "collapsed": false
   },
   "outputs": [],
   "source": [
    "#newindex"
   ]
  }
 ],
 "metadata": {
  "anaconda-cloud": {},
  "kernelspec": {
   "display_name": "Python 3",
   "language": "python",
   "name": "python3"
  },
  "language_info": {
   "codemirror_mode": {
    "name": "ipython",
    "version": 3
   },
   "file_extension": ".py",
   "mimetype": "text/x-python",
   "name": "python",
   "nbconvert_exporter": "python",
   "pygments_lexer": "ipython3",
   "version": "3.6.0"
  }
 },
 "nbformat": 4,
 "nbformat_minor": 2
}
