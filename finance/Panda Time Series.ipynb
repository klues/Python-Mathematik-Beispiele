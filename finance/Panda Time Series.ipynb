{
 "cells": [
  {
   "cell_type": "code",
   "execution_count": 54,
   "metadata": {
    "collapsed": false,
    "deletable": true,
    "editable": true
   },
   "outputs": [],
   "source": [
    "import pandas as pd\n",
    "import numpy as np\n",
    "import matplotlib.pyplot as plt\n",
    "%matplotlib inline \n",
    "\n"
   ]
  },
  {
   "cell_type": "code",
   "execution_count": 25,
   "metadata": {
    "collapsed": false,
    "deletable": true,
    "editable": true
   },
   "outputs": [
    {
     "data": {
      "text/plain": [
       "DatetimeIndex(['2011-01-01 00:00:00', '2011-01-01 00:15:00',\n",
       "               '2011-01-01 00:30:00', '2011-01-01 00:45:00',\n",
       "               '2011-01-01 01:00:00', '2011-01-01 01:15:00',\n",
       "               '2011-01-01 01:30:00', '2011-01-01 01:45:00',\n",
       "               '2011-01-01 02:00:00', '2011-01-01 02:15:00',\n",
       "               '2011-01-01 02:30:00', '2011-01-01 02:45:00',\n",
       "               '2011-01-01 03:00:00', '2011-01-01 03:15:00',\n",
       "               '2011-01-01 03:30:00', '2011-01-01 03:45:00',\n",
       "               '2011-01-01 04:00:00', '2011-01-01 04:15:00',\n",
       "               '2011-01-01 04:30:00', '2011-01-01 04:45:00',\n",
       "               '2011-01-01 05:00:00', '2011-01-01 05:15:00',\n",
       "               '2011-01-01 05:30:00', '2011-01-01 05:45:00'],\n",
       "              dtype='datetime64[ns]', freq='15T')"
      ]
     },
     "execution_count": 25,
     "metadata": {},
     "output_type": "execute_result"
    }
   ],
   "source": [
    "rng = pd.date_range('1/1/2011', periods=24, freq='15min')\n",
    "rng"
   ]
  },
  {
   "cell_type": "code",
   "execution_count": 17,
   "metadata": {
    "collapsed": false,
    "deletable": true,
    "editable": true
   },
   "outputs": [
    {
     "name": "stdout",
     "output_type": "stream",
     "text": [
      "2011-01-01 03:00:00\n"
     ]
    }
   ],
   "source": [
    "print(rng[3])"
   ]
  },
  {
   "cell_type": "markdown",
   "metadata": {
    "deletable": true,
    "editable": true
   },
   "source": [
    "### Generate Random Time Vector\n",
    "\n"
   ]
  },
  {
   "cell_type": "code",
   "execution_count": 39,
   "metadata": {
    "collapsed": false,
    "deletable": true,
    "editable": true
   },
   "outputs": [
    {
     "name": "stdout",
     "output_type": "stream",
     "text": [
      "0   2011-01-01 02:00:00\n",
      "1   2011-01-01 04:30:00\n",
      "2   2011-01-01 01:15:00\n",
      "3   2011-01-01 03:15:00\n",
      "4   2011-01-01 02:15:00\n",
      "5   2011-01-01 00:15:00\n",
      "6   2011-01-01 03:30:00\n",
      "7   2011-01-01 01:00:00\n",
      "8   2011-01-01 01:30:00\n",
      "9   2011-01-01 01:15:00\n",
      "dtype: datetime64[ns]\n"
     ]
    }
   ],
   "source": [
    "import random\n",
    "N = 20\n",
    "rng = pd.date_range('1/1/2011', periods=N, freq='15min')\n",
    "\n",
    "tmp = []\n",
    "for i in range(round(N/2)):\n",
    "    k = random.randint(0,N-1)\n",
    "    tmp.append(rng[k])\n",
    "\n",
    "X = pd.Series(tmp)\n",
    "print(X)"
   ]
  },
  {
   "cell_type": "code",
   "execution_count": 41,
   "metadata": {
    "collapsed": false,
    "deletable": true,
    "editable": true
   },
   "outputs": [
    {
     "data": {
      "text/plain": [
       "array([ 0.,  0.,  0.,  0.,  0.,  0.,  0.,  0.,  0.,  0.])"
      ]
     },
     "execution_count": 41,
     "metadata": {},
     "output_type": "execute_result"
    }
   ],
   "source": [
    "M = len(X)\n",
    "Y = np.zeros(M)\n",
    "Y"
   ]
  },
  {
   "cell_type": "code",
   "execution_count": 76,
   "metadata": {
    "collapsed": false,
    "deletable": true,
    "editable": true
   },
   "outputs": [
    {
     "data": {
      "text/plain": [
       "DatetimeIndex(['2011-01-01 00:15:00', '2011-01-01 01:00:00',\n",
       "               '2011-01-01 01:15:00', '2011-01-01 01:15:00',\n",
       "               '2011-01-01 01:30:00', '2011-01-01 02:00:00',\n",
       "               '2011-01-01 02:15:00', '2011-01-01 03:15:00',\n",
       "               '2011-01-01 03:30:00', '2011-01-01 04:30:00'],\n",
       "              dtype='datetime64[ns]', freq=None)"
      ]
     },
     "execution_count": 76,
     "metadata": {},
     "output_type": "execute_result"
    }
   ],
   "source": [
    "\n",
    "X_=X.sort_values()\n",
    "ind=pd.DatetimeIndex(X_.values)\n",
    "ind"
   ]
  },
  {
   "cell_type": "code",
   "execution_count": 122,
   "metadata": {
    "collapsed": false,
    "deletable": true,
    "editable": true
   },
   "outputs": [
    {
     "data": {
      "text/plain": [
       "2011-01-01 00:15:00    0\n",
       "2011-01-01 01:00:00    0\n",
       "2011-01-01 01:15:00    0\n",
       "2011-01-01 01:15:00    0\n",
       "2011-01-01 01:30:00    0\n",
       "2011-01-01 02:00:00    0\n",
       "2011-01-01 02:15:00    0\n",
       "2011-01-01 03:15:00    0\n",
       "2011-01-01 03:30:00    0\n",
       "2011-01-01 04:30:00    0\n",
       "dtype: int64"
      ]
     },
     "execution_count": 122,
     "metadata": {},
     "output_type": "execute_result"
    }
   ],
   "source": [
    "car1 = pd.Series(0, index=ind)\n",
    "car1"
   ]
  },
  {
   "cell_type": "markdown",
   "metadata": {
    "deletable": true,
    "editable": true
   },
   "source": [
    "### Merge two time Series"
   ]
  },
  {
   "cell_type": "code",
   "execution_count": 98,
   "metadata": {
    "collapsed": false,
    "deletable": true,
    "editable": true
   },
   "outputs": [
    {
     "data": {
      "text/plain": [
       "2011-01-01 00:00:00    1\n",
       "2011-01-01 00:15:00    1\n",
       "2011-01-01 00:30:00    1\n",
       "2011-01-01 00:45:00    1\n",
       "2011-01-01 01:00:00    1\n",
       "2011-01-01 01:15:00    1\n",
       "2011-01-01 01:30:00    1\n",
       "2011-01-01 01:45:00    1\n",
       "2011-01-01 02:00:00    1\n",
       "2011-01-01 02:15:00    1\n",
       "2011-01-01 02:30:00    1\n",
       "2011-01-01 02:45:00    1\n",
       "2011-01-01 03:00:00    1\n",
       "2011-01-01 03:15:00    1\n",
       "2011-01-01 03:30:00    1\n",
       "2011-01-01 03:45:00    1\n",
       "2011-01-01 04:00:00    1\n",
       "2011-01-01 04:15:00    1\n",
       "2011-01-01 04:30:00    1\n",
       "2011-01-01 04:45:00    1\n",
       "2011-01-01 05:00:00    1\n",
       "2011-01-01 05:15:00    1\n",
       "2011-01-01 05:30:00    1\n",
       "2011-01-01 05:45:00    1\n",
       "Freq: 15T, dtype: int64"
      ]
     },
     "execution_count": 98,
     "metadata": {},
     "output_type": "execute_result"
    }
   ],
   "source": [
    "rng = pd.date_range('1/1/2011', periods=24, freq='15min')\n",
    "rng\n",
    "runvalue = pd.Series(1, index=rng)\n",
    "runvalue"
   ]
  },
  {
   "cell_type": "code",
   "execution_count": 137,
   "metadata": {
    "collapsed": false,
    "deletable": true,
    "editable": true
   },
   "outputs": [
    {
     "data": {
      "text/plain": [
       "array([False, False, False,  True, False, False, False, False, False, False], dtype=bool)"
      ]
     },
     "execution_count": 137,
     "metadata": {},
     "output_type": "execute_result"
    }
   ],
   "source": [
    "#check dublicated index\n",
    "\n",
    "\n",
    "car1.index.duplicated()"
   ]
  },
  {
   "cell_type": "code",
   "execution_count": 140,
   "metadata": {
    "collapsed": false
   },
   "outputs": [
    {
     "data": {
      "text/plain": [
       "2011-01-01 00:15:00    0\n",
       "2011-01-01 01:00:00    0\n",
       "2011-01-01 01:15:00    0\n",
       "2011-01-01 01:30:00    0\n",
       "2011-01-01 02:00:00    0\n",
       "2011-01-01 02:15:00    0\n",
       "2011-01-01 03:15:00    0\n",
       "2011-01-01 03:30:00    0\n",
       "2011-01-01 04:30:00    0\n",
       "dtype: int64"
      ]
     },
     "execution_count": 140,
     "metadata": {},
     "output_type": "execute_result"
    }
   ],
   "source": [
    "### Remove dublicated\n",
    "\n",
    "car1_corr =  car1[~car1.index.duplicated()]\n",
    "car1_corr"
   ]
  },
  {
   "cell_type": "code",
   "execution_count": 142,
   "metadata": {
    "collapsed": false
   },
   "outputs": [
    {
     "data": {
      "text/plain": [
       "2011-01-01 00:00:00    NaN\n",
       "2011-01-01 00:15:00    0.0\n",
       "2011-01-01 00:30:00    NaN\n",
       "2011-01-01 00:45:00    NaN\n",
       "2011-01-01 01:00:00    0.0\n",
       "2011-01-01 01:15:00    0.0\n",
       "2011-01-01 01:30:00    0.0\n",
       "2011-01-01 01:45:00    NaN\n",
       "2011-01-01 02:00:00    0.0\n",
       "2011-01-01 02:15:00    0.0\n",
       "2011-01-01 02:30:00    NaN\n",
       "2011-01-01 02:45:00    NaN\n",
       "2011-01-01 03:00:00    NaN\n",
       "2011-01-01 03:15:00    0.0\n",
       "2011-01-01 03:30:00    0.0\n",
       "2011-01-01 03:45:00    NaN\n",
       "2011-01-01 04:00:00    NaN\n",
       "2011-01-01 04:15:00    NaN\n",
       "2011-01-01 04:30:00    0.0\n",
       "2011-01-01 04:45:00    NaN\n",
       "2011-01-01 05:00:00    NaN\n",
       "2011-01-01 05:15:00    NaN\n",
       "2011-01-01 05:30:00    NaN\n",
       "2011-01-01 05:45:00    NaN\n",
       "Freq: 15T, dtype: float64"
      ]
     },
     "execution_count": 142,
     "metadata": {},
     "output_type": "execute_result"
    }
   ],
   "source": [
    "car1_corr.reindex(rng)"
   ]
  },
  {
   "cell_type": "code",
   "execution_count": 138,
   "metadata": {
    "collapsed": false
   },
   "outputs": [
    {
     "data": {
      "text/plain": [
       "2011-01-01 00:15:00    0\n",
       "2011-01-01 01:00:00    0\n",
       "2011-01-01 01:15:00    0\n",
       "2011-01-01 01:30:00    0\n",
       "2011-01-01 02:00:00    0\n",
       "2011-01-01 02:15:00    0\n",
       "2011-01-01 03:15:00    0\n",
       "2011-01-01 03:30:00    0\n",
       "2011-01-01 04:30:00    0\n",
       "dtype: int64"
      ]
     },
     "execution_count": 138,
     "metadata": {},
     "output_type": "execute_result"
    }
   ],
   "source": [
    "# give NaN a new value 1"
   ]
  },
  {
   "cell_type": "code",
   "execution_count": 143,
   "metadata": {
    "collapsed": false,
    "deletable": true,
    "editable": true
   },
   "outputs": [],
   "source": [
    "# measure length of 1"
   ]
  },
  {
   "cell_type": "markdown",
   "metadata": {
    "deletable": true,
    "editable": true
   },
   "source": [
    "## Working with DataFrame"
   ]
  },
  {
   "cell_type": "code",
   "execution_count": 49,
   "metadata": {
    "collapsed": false,
    "deletable": true,
    "editable": true
   },
   "outputs": [
    {
     "data": {
      "text/html": [
       "<div>\n",
       "<table border=\"1\" class=\"dataframe\">\n",
       "  <thead>\n",
       "    <tr style=\"text-align: right;\">\n",
       "      <th></th>\n",
       "      <th>time</th>\n",
       "      <th>val</th>\n",
       "    </tr>\n",
       "  </thead>\n",
       "  <tbody>\n",
       "    <tr>\n",
       "      <th>0</th>\n",
       "      <td>2011-01-01 02:00:00</td>\n",
       "      <td>0.0</td>\n",
       "    </tr>\n",
       "    <tr>\n",
       "      <th>1</th>\n",
       "      <td>2011-01-01 04:30:00</td>\n",
       "      <td>0.0</td>\n",
       "    </tr>\n",
       "    <tr>\n",
       "      <th>2</th>\n",
       "      <td>2011-01-01 01:15:00</td>\n",
       "      <td>0.0</td>\n",
       "    </tr>\n",
       "    <tr>\n",
       "      <th>3</th>\n",
       "      <td>2011-01-01 03:15:00</td>\n",
       "      <td>0.0</td>\n",
       "    </tr>\n",
       "    <tr>\n",
       "      <th>4</th>\n",
       "      <td>2011-01-01 02:15:00</td>\n",
       "      <td>0.0</td>\n",
       "    </tr>\n",
       "    <tr>\n",
       "      <th>5</th>\n",
       "      <td>2011-01-01 00:15:00</td>\n",
       "      <td>0.0</td>\n",
       "    </tr>\n",
       "    <tr>\n",
       "      <th>6</th>\n",
       "      <td>2011-01-01 03:30:00</td>\n",
       "      <td>0.0</td>\n",
       "    </tr>\n",
       "    <tr>\n",
       "      <th>7</th>\n",
       "      <td>2011-01-01 01:00:00</td>\n",
       "      <td>0.0</td>\n",
       "    </tr>\n",
       "    <tr>\n",
       "      <th>8</th>\n",
       "      <td>2011-01-01 01:30:00</td>\n",
       "      <td>0.0</td>\n",
       "    </tr>\n",
       "    <tr>\n",
       "      <th>9</th>\n",
       "      <td>2011-01-01 01:15:00</td>\n",
       "      <td>0.0</td>\n",
       "    </tr>\n",
       "  </tbody>\n",
       "</table>\n",
       "</div>"
      ],
      "text/plain": [
       "                 time  val\n",
       "0 2011-01-01 02:00:00  0.0\n",
       "1 2011-01-01 04:30:00  0.0\n",
       "2 2011-01-01 01:15:00  0.0\n",
       "3 2011-01-01 03:15:00  0.0\n",
       "4 2011-01-01 02:15:00  0.0\n",
       "5 2011-01-01 00:15:00  0.0\n",
       "6 2011-01-01 03:30:00  0.0\n",
       "7 2011-01-01 01:00:00  0.0\n",
       "8 2011-01-01 01:30:00  0.0\n",
       "9 2011-01-01 01:15:00  0.0"
      ]
     },
     "execution_count": 49,
     "metadata": {},
     "output_type": "execute_result"
    }
   ],
   "source": [
    "df=pd.DataFrame({\"time\":X,\"val\":Y})\n",
    "df"
   ]
  },
  {
   "cell_type": "markdown",
   "metadata": {
    "deletable": true,
    "editable": true
   },
   "source": [
    "## Dataset with time and a constant Value"
   ]
  },
  {
   "cell_type": "code",
   "execution_count": 51,
   "metadata": {
    "collapsed": false,
    "deletable": true,
    "editable": true
   },
   "outputs": [
    {
     "data": {
      "text/html": [
       "<div>\n",
       "<table border=\"1\" class=\"dataframe\">\n",
       "  <thead>\n",
       "    <tr style=\"text-align: right;\">\n",
       "      <th></th>\n",
       "      <th>time</th>\n",
       "      <th>val</th>\n",
       "      <th>date_int</th>\n",
       "    </tr>\n",
       "  </thead>\n",
       "  <tbody>\n",
       "    <tr>\n",
       "      <th>0</th>\n",
       "      <td>2011-01-01 02:00:00</td>\n",
       "      <td>0.0</td>\n",
       "      <td>1293847200000000000</td>\n",
       "    </tr>\n",
       "    <tr>\n",
       "      <th>1</th>\n",
       "      <td>2011-01-01 04:30:00</td>\n",
       "      <td>0.0</td>\n",
       "      <td>1293856200000000000</td>\n",
       "    </tr>\n",
       "    <tr>\n",
       "      <th>2</th>\n",
       "      <td>2011-01-01 01:15:00</td>\n",
       "      <td>0.0</td>\n",
       "      <td>1293844500000000000</td>\n",
       "    </tr>\n",
       "    <tr>\n",
       "      <th>3</th>\n",
       "      <td>2011-01-01 03:15:00</td>\n",
       "      <td>0.0</td>\n",
       "      <td>1293851700000000000</td>\n",
       "    </tr>\n",
       "    <tr>\n",
       "      <th>4</th>\n",
       "      <td>2011-01-01 02:15:00</td>\n",
       "      <td>0.0</td>\n",
       "      <td>1293848100000000000</td>\n",
       "    </tr>\n",
       "    <tr>\n",
       "      <th>5</th>\n",
       "      <td>2011-01-01 00:15:00</td>\n",
       "      <td>0.0</td>\n",
       "      <td>1293840900000000000</td>\n",
       "    </tr>\n",
       "    <tr>\n",
       "      <th>6</th>\n",
       "      <td>2011-01-01 03:30:00</td>\n",
       "      <td>0.0</td>\n",
       "      <td>1293852600000000000</td>\n",
       "    </tr>\n",
       "    <tr>\n",
       "      <th>7</th>\n",
       "      <td>2011-01-01 01:00:00</td>\n",
       "      <td>0.0</td>\n",
       "      <td>1293843600000000000</td>\n",
       "    </tr>\n",
       "    <tr>\n",
       "      <th>8</th>\n",
       "      <td>2011-01-01 01:30:00</td>\n",
       "      <td>0.0</td>\n",
       "      <td>1293845400000000000</td>\n",
       "    </tr>\n",
       "    <tr>\n",
       "      <th>9</th>\n",
       "      <td>2011-01-01 01:15:00</td>\n",
       "      <td>0.0</td>\n",
       "      <td>1293844500000000000</td>\n",
       "    </tr>\n",
       "  </tbody>\n",
       "</table>\n",
       "</div>"
      ],
      "text/plain": [
       "                 time  val             date_int\n",
       "0 2011-01-01 02:00:00  0.0  1293847200000000000\n",
       "1 2011-01-01 04:30:00  0.0  1293856200000000000\n",
       "2 2011-01-01 01:15:00  0.0  1293844500000000000\n",
       "3 2011-01-01 03:15:00  0.0  1293851700000000000\n",
       "4 2011-01-01 02:15:00  0.0  1293848100000000000\n",
       "5 2011-01-01 00:15:00  0.0  1293840900000000000\n",
       "6 2011-01-01 03:30:00  0.0  1293852600000000000\n",
       "7 2011-01-01 01:00:00  0.0  1293843600000000000\n",
       "8 2011-01-01 01:30:00  0.0  1293845400000000000\n",
       "9 2011-01-01 01:15:00  0.0  1293844500000000000"
      ]
     },
     "execution_count": 51,
     "metadata": {},
     "output_type": "execute_result"
    }
   ],
   "source": [
    "df['date_int'] = df.time.astype(np.int64)\n",
    "df"
   ]
  },
  {
   "cell_type": "code",
   "execution_count": 57,
   "metadata": {
    "collapsed": false,
    "deletable": true,
    "editable": true
   },
   "outputs": [
    {
     "data": {
      "text/plain": [
       "<matplotlib.axes._subplots.AxesSubplot at 0x11428d940>"
      ]
     },
     "execution_count": 57,
     "metadata": {},
     "output_type": "execute_result"
    },
    {
     "data": {
      "image/png": "[encoded data removed]",
      "text/plain": [
       "<matplotlib.figure.Figure at 0x1142c6d68>"
      ]
     },
     "metadata": {},
     "output_type": "display_data"
    }
   ],
   "source": [
    "df.plot(x='time',y='val',style='o')"
   ]
  },
  {
   "cell_type": "markdown",
   "metadata": {
    "deletable": true,
    "editable": true
   },
   "source": [
    "### Calculate Space between  the data"
   ]
  },
  {
   "cell_type": "code",
   "execution_count": 65,
   "metadata": {
    "collapsed": false,
    "deletable": true,
    "editable": true
   },
   "outputs": [
    {
     "name": "stderr",
     "output_type": "stream",
     "text": [
      "/Users/guggisberg/anaconda3/lib/python3.5/site-packages/ipykernel/__main__.py:3: FutureWarning: sort(columns=....) is deprecated, use sort_values(by=.....)\n",
      "  app.launch_new_instance()\n"
     ]
    },
    {
     "data": {
      "text/html": [
       "<div>\n",
       "<table border=\"1\" class=\"dataframe\">\n",
       "  <thead>\n",
       "    <tr style=\"text-align: right;\">\n",
       "      <th></th>\n",
       "      <th>time</th>\n",
       "      <th>val</th>\n",
       "      <th>date_int</th>\n",
       "    </tr>\n",
       "  </thead>\n",
       "  <tbody>\n",
       "    <tr>\n",
       "      <th>5</th>\n",
       "      <td>2011-01-01 00:15:00</td>\n",
       "      <td>0.0</td>\n",
       "      <td>1293840900000000000</td>\n",
       "    </tr>\n",
       "    <tr>\n",
       "      <th>7</th>\n",
       "      <td>2011-01-01 01:00:00</td>\n",
       "      <td>0.0</td>\n",
       "      <td>1293843600000000000</td>\n",
       "    </tr>\n",
       "    <tr>\n",
       "      <th>2</th>\n",
       "      <td>2011-01-01 01:15:00</td>\n",
       "      <td>0.0</td>\n",
       "      <td>1293844500000000000</td>\n",
       "    </tr>\n",
       "    <tr>\n",
       "      <th>9</th>\n",
       "      <td>2011-01-01 01:15:00</td>\n",
       "      <td>0.0</td>\n",
       "      <td>1293844500000000000</td>\n",
       "    </tr>\n",
       "    <tr>\n",
       "      <th>8</th>\n",
       "      <td>2011-01-01 01:30:00</td>\n",
       "      <td>0.0</td>\n",
       "      <td>1293845400000000000</td>\n",
       "    </tr>\n",
       "    <tr>\n",
       "      <th>0</th>\n",
       "      <td>2011-01-01 02:00:00</td>\n",
       "      <td>0.0</td>\n",
       "      <td>1293847200000000000</td>\n",
       "    </tr>\n",
       "    <tr>\n",
       "      <th>4</th>\n",
       "      <td>2011-01-01 02:15:00</td>\n",
       "      <td>0.0</td>\n",
       "      <td>1293848100000000000</td>\n",
       "    </tr>\n",
       "    <tr>\n",
       "      <th>3</th>\n",
       "      <td>2011-01-01 03:15:00</td>\n",
       "      <td>0.0</td>\n",
       "      <td>1293851700000000000</td>\n",
       "    </tr>\n",
       "    <tr>\n",
       "      <th>6</th>\n",
       "      <td>2011-01-01 03:30:00</td>\n",
       "      <td>0.0</td>\n",
       "      <td>1293852600000000000</td>\n",
       "    </tr>\n",
       "    <tr>\n",
       "      <th>1</th>\n",
       "      <td>2011-01-01 04:30:00</td>\n",
       "      <td>0.0</td>\n",
       "      <td>1293856200000000000</td>\n",
       "    </tr>\n",
       "  </tbody>\n",
       "</table>\n",
       "</div>"
      ],
      "text/plain": [
       "                 time  val             date_int\n",
       "5 2011-01-01 00:15:00  0.0  1293840900000000000\n",
       "7 2011-01-01 01:00:00  0.0  1293843600000000000\n",
       "2 2011-01-01 01:15:00  0.0  1293844500000000000\n",
       "9 2011-01-01 01:15:00  0.0  1293844500000000000\n",
       "8 2011-01-01 01:30:00  0.0  1293845400000000000\n",
       "0 2011-01-01 02:00:00  0.0  1293847200000000000\n",
       "4 2011-01-01 02:15:00  0.0  1293848100000000000\n",
       "3 2011-01-01 03:15:00  0.0  1293851700000000000\n",
       "6 2011-01-01 03:30:00  0.0  1293852600000000000\n",
       "1 2011-01-01 04:30:00  0.0  1293856200000000000"
      ]
     },
     "execution_count": 65,
     "metadata": {},
     "output_type": "execute_result"
    }
   ],
   "source": [
    "#df.sort(columns=['time'])\n",
    "\n",
    "result = df.sort(['time'], ascending=True)\n",
    "result"
   ]
  }
 ],
 "metadata": {
  "anaconda-cloud": {},
  "kernelspec": {
   "display_name": "Python [conda root]",
   "language": "python",
   "name": "conda-root-py"
  },
  "language_info": {
   "codemirror_mode": {
    "name": "ipython",
    "version": 3
   },
   "file_extension": ".py",
   "mimetype": "text/x-python",
   "name": "python",
   "nbconvert_exporter": "python",
   "pygments_lexer": "ipython3",
   "version": "3.5.3"
  }
 },
 "nbformat": 4,
 "nbformat_minor": 2
}
