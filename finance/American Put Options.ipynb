{
 "cells": [
  {
   "cell_type": "markdown",
   "metadata": {},
   "source": [
    "# Valuation of American Options\n",
    "# with Least-Squares Monte Carlo\n",
    "\n",
    "### Primal Algorithm\n",
    "### American Put Option\n",
    "\n",
    "original code from [07_amo/LSM_primal_valuation.py](https://github.com/yhilpisch/dawp/blob/master/dawp/book/07_amo/LSM_primal_valuation.py)\n",
    "(c) Dr. Yves J. Hilpisch\n",
    "Derivatives Analytics with Python\n"
   ]
  },
  {
   "cell_type": "code",
   "execution_count": 3,
   "metadata": {
    "collapsed": true
   },
   "outputs": [],
   "source": [
    "import math\n",
    "import numpy as np\n",
    "np.random.seed(150000)"
   ]
  },
  {
   "cell_type": "code",
   "execution_count": 1,
   "metadata": {
    "collapsed": true
   },
   "outputs": [],
   "source": [
    "# Model Parameters\n",
    "S0 = 36.  # initial stock level\n",
    "K = 40.  # strike price\n",
    "T = 1.0  # time-to-maturity\n",
    "r = 0.06  # short rate\n",
    "sigma = 0.2 # volatility"
   ]
  },
  {
   "cell_type": "code",
   "execution_count": 4,
   "metadata": {
    "collapsed": false
   },
   "outputs": [],
   "source": [
    "# Simulation Parameters\n",
    "I = 25000\n",
    "M = 50\n",
    "dt = T / M\n",
    "df = math.exp(-r * dt)"
   ]
  },
  {
   "cell_type": "code",
   "execution_count": 5,
   "metadata": {
    "collapsed": true
   },
   "outputs": [],
   "source": [
    "# Stock Price Paths\n",
    "S = S0 * np.exp(np.cumsum((r - 0.5 * sigma ** 2) * dt\n",
    "    + sigma * math.sqrt(dt) * np.random.standard_normal((M + 1, I)), axis=0))\n",
    "S[0] = S0\n",
    "\n",
    "# Inner Values\n",
    "h = np.maximum(K - S, 0)\n",
    "\n",
    "# Present Value Vector (Initialization)\n",
    "V = h[-1]"
   ]
  },
  {
   "cell_type": "code",
   "execution_count": 8,
   "metadata": {
    "collapsed": false
   },
   "outputs": [
    {
     "name": "stdout",
     "output_type": "stream",
     "text": [
      "American put option value 4.475\n"
     ]
    }
   ],
   "source": [
    "# American Option Valuation by Backwards Induction\n",
    "for t in range(M - 1, 0, -1):\n",
    "    rg = np.polyfit(S[t], V * df, 5)\n",
    "    C = np.polyval(rg, S[t])  # continuation values\n",
    "    V = np.where(h[t] > C, h[t], V * df)\n",
    "      # exercise decision\n",
    "V0 = df * np.sum(V) / I  # LSM estimator\n",
    "\n",
    "print (\"American put option value %5.3f\" % V0)"
   ]
  }
 ],
 "metadata": {
  "anaconda-cloud": {},
  "kernelspec": {
   "display_name": "Python [conda root]",
   "language": "python",
   "name": "conda-root-py"
  },
  "language_info": {
   "codemirror_mode": {
    "name": "ipython",
    "version": 3
   },
   "file_extension": ".py",
   "mimetype": "text/x-python",
   "name": "python",
   "nbconvert_exporter": "python",
   "pygments_lexer": "ipython3",
   "version": "3.5.3"
  }
 },
 "nbformat": 4,
 "nbformat_minor": 2
}
