{
 "cells": [
  {
   "cell_type": "markdown",
   "metadata": {},
   "source": [
    "# Tutorial\n",
    "\n",
    "## Monte Carlo Simulation\n",
    "\n",
    "## for American Options\n",
    "\n",
    "(c) 2017 Martin Guggisberg"
   ]
  },
  {
   "cell_type": "markdown",
   "metadata": {},
   "source": [
    "## ToDo\n",
    "\n",
    "1. [ X ] relevant literature\n",
    "1. [   ] one dimensional Wiener process\n",
    "1. [   ] multi dimensional Wiener process\n",
    "1. [   ] Regression -> estimating density probability function\n",
    "1. [   ] Regression: using different basis functions\n",
    "1. [   ] standard SDE Discretization \n",
    "1. [   ] using different SDE discretizations\n",
    "1. [   ] comparing results with experiments from literature\n",
    "1. [   ] using simulated anealing for regression\n",
    "1. [   ]"
   ]
  },
  {
   "cell_type": "markdown",
   "metadata": {},
   "source": [
    "## literature\n",
    "\n",
    "### articles\n",
    "    - XX\n",
    "\n",
    "### books\n",
    "    - xx"
   ]
  }
 ],
 "metadata": {
  "anaconda-cloud": {},
  "kernelspec": {
   "display_name": "Python [conda root]",
   "language": "python",
   "name": "conda-root-py"
  },
  "language_info": {
   "codemirror_mode": {
    "name": "ipython",
    "version": 3
   },
   "file_extension": ".py",
   "mimetype": "text/x-python",
   "name": "python",
   "nbconvert_exporter": "python",
   "pygments_lexer": "ipython3",
   "version": "3.5.3"
  }
 },
 "nbformat": 4,
 "nbformat_minor": 2
}
