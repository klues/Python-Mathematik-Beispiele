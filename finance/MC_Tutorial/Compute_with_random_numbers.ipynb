{
 "cells": [
  {
   "cell_type": "markdown",
   "metadata": {
    "deletable": true,
    "editable": true
   },
   "source": [
    "## Esitmate an integral\n",
    "\n",
    "$$\n",
    "\\alpha = \\int_0^1 f(x) dx\n",
    "$$\n",
    "\n",
    "$$\n",
    "\\hat{\\alpha}_n = \\frac{1}{n} \\sum_{i=1}^n f(U_i) \\mbox{ with } U_i \\mbox{ random } \\in [0..1]\n",
    "$$\n",
    "\n",
    "The error is normal distributed with mean 0 and standard deviation $\\sigma_f/\\sqrt{n}$\n",
    "\n",
    "$\\sigma_f$ can be estimated \n",
    "\n",
    "$$\n",
    "s_f = \\sqrt{\\frac{1}{n-1}\\sum_{i=1}^n \\left( f(U_i) - \\hat{\\alpha}_n \\right)^2}\n",
    "$$"
   ]
  },
  {
   "cell_type": "code",
   "execution_count": 10,
   "metadata": {
    "collapsed": false,
    "deletable": true,
    "editable": true
   },
   "outputs": [
    {
     "data": {
      "text/plain": [
       "[<matplotlib.lines.Line2D at 0x10e07b5c0>]"
      ]
     },
     "execution_count": 10,
     "metadata": {},
     "output_type": "execute_result"
    },
    {
     "data": {
      "image/png": "[encoded data removed]",
      "text/plain": [
       "<matplotlib.figure.Figure at 0x10dfd5550>"
      ]
     },
     "metadata": {},
     "output_type": "display_data"
    }
   ],
   "source": [
    "from math import sin\n",
    "import matplotlib.pyplot as plt\n",
    "import numpy as np\n",
    "%matplotlib inline\n",
    "\n",
    "def f(x):\n",
    "    return np.sin(x)-3*x**2+3.4*x**3-x**4\n",
    "\n",
    "X = np.arange(0,1,0.02)\n",
    "Y = f(X) \n",
    "plt.plot(X,Y)"
   ]
  },
  {
   "cell_type": "code",
   "execution_count": 36,
   "metadata": {
    "collapsed": false,
    "deletable": true,
    "editable": true
   },
   "outputs": [
    {
     "name": "stdout",
     "output_type": "stream",
     "text": [
      "n: 2000000\n",
      "int: 0.109705947738\n",
      "sf: 0.00182594659295\n"
     ]
    }
   ],
   "source": [
    "np.random.seed(123)\n",
    "n = 2000000\n",
    "X = np.random.random(n)\n",
    "Z = np.random.standard_normal(n)\n",
    "Y = f(X)\n",
    "res = sum(Y)/n\n",
    "print('n:',n)\n",
    "print('int:',res)\n",
    "\n",
    "\n",
    "E = Y-res\n",
    "E2 = E*E\n",
    "sf = sum(E2)/(n-1)\n",
    "\n",
    "\n",
    "\n",
    "print('sf:',sf)"
   ]
  },
  {
   "cell_type": "markdown",
   "metadata": {
    "deletable": true,
    "editable": true
   },
   "source": [
    "## Result \n",
    "\n",
    "$\n",
    "\\int_0^1 \\sin(x)-3*x^2+3.4*x^3-x^4 dx = 0.109698\n",
    "$\n",
    "\n",
    "http://www.wolframalpha.com/input/?i=int+sin(x)-3*x**2%2B3.4*x**3-x**4++from+0+to+1"
   ]
  },
  {
   "cell_type": "code",
   "execution_count": 38,
   "metadata": {
    "collapsed": false
   },
   "outputs": [
    {
     "data": {
      "text/plain": [
       "(array([  1.00000000e+00,   0.00000000e+00,   0.00000000e+00,\n",
       "          1.00000000e+00,   0.00000000e+00,   1.00000000e+00,\n",
       "          2.00000000e+00,   2.00000000e+00,   0.00000000e+00,\n",
       "          2.00000000e+00,   1.00000000e+00,   1.00000000e+00,\n",
       "          4.00000000e+00,   6.00000000e+00,   5.00000000e+00,\n",
       "          1.00000000e+01,   7.00000000e+00,   1.40000000e+01,\n",
       "          1.20000000e+01,   1.70000000e+01,   2.70000000e+01,\n",
       "          1.70000000e+01,   2.30000000e+01,   4.20000000e+01,\n",
       "          4.10000000e+01,   6.10000000e+01,   6.60000000e+01,\n",
       "          8.90000000e+01,   8.70000000e+01,   1.16000000e+02,\n",
       "          1.39000000e+02,   1.67000000e+02,   1.96000000e+02,\n",
       "          2.82000000e+02,   2.76000000e+02,   3.36000000e+02,\n",
       "          3.77000000e+02,   4.60000000e+02,   5.05000000e+02,\n",
       "          5.91000000e+02,   6.73000000e+02,   7.77000000e+02,\n",
       "          9.31000000e+02,   1.09500000e+03,   1.22700000e+03,\n",
       "          1.39500000e+03,   1.61800000e+03,   1.88500000e+03,\n",
       "          1.99000000e+03,   2.36300000e+03,   2.73600000e+03,\n",
       "          3.05500000e+03,   3.42300000e+03,   3.78900000e+03,\n",
       "          4.35200000e+03,   4.80000000e+03,   5.26300000e+03,\n",
       "          5.80100000e+03,   6.49200000e+03,   7.18100000e+03,\n",
       "          7.95100000e+03,   8.59400000e+03,   9.61100000e+03,\n",
       "          1.02660000e+04,   1.10910000e+04,   1.21950000e+04,\n",
       "          1.32690000e+04,   1.42440000e+04,   1.52660000e+04,\n",
       "          1.60040000e+04,   1.77510000e+04,   1.85240000e+04,\n",
       "          1.99630000e+04,   2.13950000e+04,   2.27020000e+04,\n",
       "          2.38530000e+04,   2.51350000e+04,   2.62900000e+04,\n",
       "          2.75550000e+04,   2.91120000e+04,   2.99520000e+04,\n",
       "          3.14870000e+04,   3.24340000e+04,   3.41960000e+04,\n",
       "          3.44670000e+04,   3.59950000e+04,   3.66500000e+04,\n",
       "          3.75680000e+04,   3.84350000e+04,   3.86550000e+04,\n",
       "          3.98500000e+04,   4.02660000e+04,   4.08890000e+04,\n",
       "          4.07430000e+04,   4.08130000e+04,   4.11710000e+04,\n",
       "          4.09360000e+04,   4.07490000e+04,   4.08620000e+04,\n",
       "          4.07040000e+04,   3.99270000e+04,   3.92970000e+04,\n",
       "          3.83780000e+04,   3.82590000e+04,   3.75710000e+04,\n",
       "          3.64940000e+04,   3.52940000e+04,   3.43790000e+04,\n",
       "          3.28200000e+04,   3.22020000e+04,   3.08630000e+04,\n",
       "          2.94370000e+04,   2.85230000e+04,   2.68770000e+04,\n",
       "          2.59570000e+04,   2.44820000e+04,   2.32680000e+04,\n",
       "          2.19100000e+04,   2.08710000e+04,   1.95260000e+04,\n",
       "          1.80680000e+04,   1.71400000e+04,   1.58400000e+04,\n",
       "          1.46000000e+04,   1.36680000e+04,   1.28060000e+04,\n",
       "          1.16780000e+04,   1.07670000e+04,   9.98600000e+03,\n",
       "          9.12800000e+03,   8.26400000e+03,   7.67600000e+03,\n",
       "          6.80400000e+03,   6.28800000e+03,   5.67800000e+03,\n",
       "          5.01000000e+03,   4.48500000e+03,   4.05600000e+03,\n",
       "          3.63400000e+03,   3.29300000e+03,   2.83900000e+03,\n",
       "          2.56600000e+03,   2.27400000e+03,   1.89600000e+03,\n",
       "          1.74000000e+03,   1.55100000e+03,   1.36300000e+03,\n",
       "          1.19900000e+03,   1.05300000e+03,   8.41000000e+02,\n",
       "          7.15000000e+02,   6.03000000e+02,   5.82000000e+02,\n",
       "          4.88000000e+02,   4.07000000e+02,   3.50000000e+02,\n",
       "          3.06000000e+02,   2.69000000e+02,   2.55000000e+02,\n",
       "          1.91000000e+02,   1.59000000e+02,   1.14000000e+02,\n",
       "          9.30000000e+01,   1.07000000e+02,   6.60000000e+01,\n",
       "          5.80000000e+01,   5.30000000e+01,   4.30000000e+01,\n",
       "          4.10000000e+01,   2.00000000e+01,   3.60000000e+01,\n",
       "          1.20000000e+01,   1.60000000e+01,   9.00000000e+00,\n",
       "          1.30000000e+01,   4.00000000e+00,   8.00000000e+00,\n",
       "          9.00000000e+00,   7.00000000e+00,   3.00000000e+00,\n",
       "          3.00000000e+00,   3.00000000e+00,   2.00000000e+00,\n",
       "          1.00000000e+00,   1.00000000e+00,   0.00000000e+00,\n",
       "          1.00000000e+00,   0.00000000e+00,   0.00000000e+00,\n",
       "          1.00000000e+00,   0.00000000e+00,   0.00000000e+00,\n",
       "          0.00000000e+00,   0.00000000e+00,   0.00000000e+00,\n",
       "          0.00000000e+00,   0.00000000e+00,   1.00000000e+00,\n",
       "          0.00000000e+00,   1.00000000e+00]),\n",
       " array([-4.9441699 , -4.89254335, -4.8409168 , -4.78929025, -4.7376637 ,\n",
       "        -4.68603715, -4.6344106 , -4.58278405, -4.5311575 , -4.47953095,\n",
       "        -4.4279044 , -4.37627785, -4.3246513 , -4.27302475, -4.2213982 ,\n",
       "        -4.16977165, -4.1181451 , -4.06651854, -4.01489199, -3.96326544,\n",
       "        -3.91163889, -3.86001234, -3.80838579, -3.75675924, -3.70513269,\n",
       "        -3.65350614, -3.60187959, -3.55025304, -3.49862649, -3.44699994,\n",
       "        -3.39537339, -3.34374684, -3.29212029, -3.24049374, -3.18886719,\n",
       "        -3.13724064, -3.08561409, -3.03398754, -2.98236099, -2.93073443,\n",
       "        -2.87910788, -2.82748133, -2.77585478, -2.72422823, -2.67260168,\n",
       "        -2.62097513, -2.56934858, -2.51772203, -2.46609548, -2.41446893,\n",
       "        -2.36284238, -2.31121583, -2.25958928, -2.20796273, -2.15633618,\n",
       "        -2.10470963, -2.05308308, -2.00145653, -1.94982998, -1.89820343,\n",
       "        -1.84657687, -1.79495032, -1.74332377, -1.69169722, -1.64007067,\n",
       "        -1.58844412, -1.53681757, -1.48519102, -1.43356447, -1.38193792,\n",
       "        -1.33031137, -1.27868482, -1.22705827, -1.17543172, -1.12380517,\n",
       "        -1.07217862, -1.02055207, -0.96892552, -0.91729897, -0.86567242,\n",
       "        -0.81404587, -0.76241932, -0.71079276, -0.65916621, -0.60753966,\n",
       "        -0.55591311, -0.50428656, -0.45266001, -0.40103346, -0.34940691,\n",
       "        -0.29778036, -0.24615381, -0.19452726, -0.14290071, -0.09127416,\n",
       "        -0.03964761,  0.01197894,  0.06360549,  0.11523204,  0.16685859,\n",
       "         0.21848514,  0.27011169,  0.32173824,  0.3733648 ,  0.42499135,\n",
       "         0.4766179 ,  0.52824445,  0.579871  ,  0.63149755,  0.6831241 ,\n",
       "         0.73475065,  0.7863772 ,  0.83800375,  0.8896303 ,  0.94125685,\n",
       "         0.9928834 ,  1.04450995,  1.0961365 ,  1.14776305,  1.1993896 ,\n",
       "         1.25101615,  1.3026427 ,  1.35426925,  1.4058958 ,  1.45752235,\n",
       "         1.50914891,  1.56077546,  1.61240201,  1.66402856,  1.71565511,\n",
       "         1.76728166,  1.81890821,  1.87053476,  1.92216131,  1.97378786,\n",
       "         2.02541441,  2.07704096,  2.12866751,  2.18029406,  2.23192061,\n",
       "         2.28354716,  2.33517371,  2.38680026,  2.43842681,  2.49005336,\n",
       "         2.54167991,  2.59330646,  2.64493302,  2.69655957,  2.74818612,\n",
       "         2.79981267,  2.85143922,  2.90306577,  2.95469232,  3.00631887,\n",
       "         3.05794542,  3.10957197,  3.16119852,  3.21282507,  3.26445162,\n",
       "         3.31607817,  3.36770472,  3.41933127,  3.47095782,  3.52258437,\n",
       "         3.57421092,  3.62583747,  3.67746402,  3.72909058,  3.78071713,\n",
       "         3.83234368,  3.88397023,  3.93559678,  3.98722333,  4.03884988,\n",
       "         4.09047643,  4.14210298,  4.19372953,  4.24535608,  4.29698263,\n",
       "         4.34860918,  4.40023573,  4.45186228,  4.50348883,  4.55511538,\n",
       "         4.60674193,  4.65836848,  4.70999503,  4.76162158,  4.81324813,\n",
       "         4.86487469,  4.91650124,  4.96812779,  5.01975434,  5.07138089,\n",
       "         5.12300744,  5.17463399,  5.22626054,  5.27788709,  5.32951364,\n",
       "         5.38114019]),\n",
       " <a list of 200 Patch objects>)"
      ]
     },
     "execution_count": 38,
     "metadata": {},
     "output_type": "execute_result"
    },
    {
     "data": {
      "image/png": "[encoded data removed]",
      "text/plain": [
       "<matplotlib.figure.Figure at 0x115639a58>"
      ]
     },
     "metadata": {},
     "output_type": "display_data"
    }
   ],
   "source": [
    "plt.hist(Z,200)"
   ]
  },
  {
   "cell_type": "markdown",
   "metadata": {
    "deletable": true,
    "editable": true
   },
   "source": [
    "## payoff\n",
    "\n",
    "$S(t)$ prize of stock at time t\n",
    "\n",
    "call option granting the holder the right to buy the stock at a fixed price K \n",
    "\n",
    "payoff at $T$ $\\max\\{0,S(T)-K\\}$\n",
    "\n",
    "present Payoff:\n",
    "\n",
    "Factor: $e^{ - r T}$ with $r$ the continuously compounded interest rate."
   ]
  },
  {
   "cell_type": "markdown",
   "metadata": {
    "collapsed": true,
    "deletable": true,
    "editable": true
   },
   "source": [
    "## Evolution of stock explained with Black-Scholes model\n",
    "\n",
    "$$\n",
    "\\frac{dS(t)}{S(T)} = r dt + \\sigma dW(t)\n",
    "$$\n",
    "\n",
    "W a standard Brownian motion\n",
    "\n",
    "A solution: \n",
    "\n",
    "$$\n",
    "S(T) = S(0) \\exp \\left( \\left[r - \\frac{1}{2}\\sigma^2 \\right]T + \\sigma W(T) \\right)\n",
    "$$\n",
    "\n",
    "with Z as a standard normal random variable (mean 0, variance 1)\n",
    "\n",
    "$$\n",
    "S(T) = S(0) \\exp \\left( \\left[r - \\frac{1}{2}\\sigma^2 \\right]T + \\sigma \\sqrt{T} Z \\right)\n",
    "$$\n",
    "\n",
    "\n",
    "The logarithm of the stock price is thus normally distributed, and the stock price itself has a lognormal distribution."
   ]
  },
  {
   "cell_type": "markdown",
   "metadata": {
    "deletable": true,
    "editable": true
   },
   "source": [
    "The expectation leads to Blackshoels formula BS(S,$\\sigma$,T,r,K) ="
   ]
  },
  {
   "cell_type": "markdown",
   "metadata": {
    "deletable": true,
    "editable": true
   },
   "source": [
    "## American Stock options\n",
    "\n",
    "### Variable Declarations\n",
    "\n",
    "$\\hat{h}_i$: payoff function at $t_i$\n",
    "\n",
    "$\\hat{V}_i(x)$ the value of the option at $t_i$ with $X_i$ = x\n",
    "\n",
    "We are nterested in $\\hat{V}_0(X_0)$.\n",
    "\n",
    "\n",
    "This value is determined recursively:\n",
    "\n",
    "$\\hat{V}_m(x) = \\hat{h}_m(x)$\n",
    "\n",
    "$\\hat{V}_{i-1}(x) = \\max \\{ \\hat{h}_{i-1}(x), E \\left[ D_{i-1,i}(X_i) \\hat{V}_i(X_i)| X_{i-1} = x\\right]  \\} $\n",
    "\n",
    "for $i=1, \\cdots, m$\n",
    "\n",
    " $D_{i-1,i}(X_i)$ discount factor from $t_{i-1}$ to $t_i$\n"
   ]
  },
  {
   "cell_type": "markdown",
   "metadata": {
    "deletable": true,
    "editable": true
   },
   "source": [
    "conditional expectations is the main difficulty in pricing American options by simulation\n",
    "\n",
    "$$\n",
    "E \\left[ D_{i-1,i}(X_i) \\hat{V}_i(X_i)| X_{i-1} = x\\right]  \n",
    "$$"
   ]
  },
  {
   "cell_type": "markdown",
   "metadata": {
    "deletable": true,
    "editable": true
   },
   "source": [
    "## Simplified dynamic programming recursion:\n",
    "\n",
    "$V_m(x) = h_m(x)$\n",
    "\n",
    "$V_{i-1}(x) = \\max \\{ h_{i-1}(x), E \\left[ V_i(X_i)| X_{i-1} = x\\right]  \\} $\n",
    "\n",
    "\n",
    "\n",
    "\n"
   ]
  },
  {
   "cell_type": "markdown",
   "metadata": {
    "collapsed": true,
    "deletable": true,
    "editable": true
   },
   "source": [
    "$\\hat{V}_i(X_i)$ gives the value of the option in time-$t_i$ dollars\n",
    "\n",
    "disount factor:\n",
    "\n",
    "$$\n",
    "h(x) = D_{0,i}(x) \\hat{h}_i(x)\n",
    "$$\n",
    "\n",
    "$$\n",
    "V_i(x) = D_{0,i}(x) \\hat{V}_i(x)\n",
    "$$"
   ]
  },
  {
   "cell_type": "markdown",
   "metadata": {
    "collapsed": true,
    "deletable": true,
    "editable": true
   },
   "source": [
    "## stopping rule\n",
    "\n",
    "$\\tau$: stopping time\n",
    "\n",
    "$X_0,X_1,\\cdots,X_m$: Markov chain\n",
    "\n",
    "$$\n",
    "V_0^{(\\tau)}(X_0) = E \\left[ h_{\\tau}(X_{\\tau})\\right]\n",
    "$$\n",
    "\n",
    "The stopping rule f can thus also be described as the first time the Markov chain Xi enters an exercise region. \n"
   ]
  },
  {
   "cell_type": "markdown",
   "metadata": {
    "collapsed": true,
    "deletable": true,
    "editable": true
   },
   "source": [
    "continuation value in state x at date ti\n",
    "\n",
    "$$\n",
    "C_i(x) = E \\left[ V_{i+1}(X_{i+1}| X_i = x \\right] \\mbox{ with } i=0,\\cdots,m-1\n",
    "$$\n",
    "\n",
    "\n",
    "\n",
    "$$\n",
    "C_i(x) = E \\left[ \\max \\{ h_{i+1}(X_{i+1}), C_{i+1}(X_{i+1}) \\}| X_i = x \\right] \\mbox{ with } i=0,\\cdots,m-1\n",
    "$$\n",
    "\n",
    "\n",
    "The value functions Vi determine the continuation values\n",
    "\n",
    "$$\n",
    "V_i(x) = \\max \\{ h_{i}(x), C_{i}(x) \\}\n",
    "$$"
   ]
  },
  {
   "cell_type": "markdown",
   "metadata": {
    "collapsed": true,
    "deletable": true,
    "editable": true
   },
   "source": [
    "Step 1: Simulate nl independent replications X(j), j = 1, ... ,nl, of the Markov chain (Xo, Xl, ... ,Xm );\n",
    "\n",
    "..."
   ]
  },
  {
   "cell_type": "markdown",
   "metadata": {
    "deletable": true,
    "editable": true
   },
   "source": [
    "### Regression-Based Methods \n",
    "\n",
    "regression to estimate continuation values from simulated paths \n",
    "\n",
    "$C_i(x):  x \\to V_{i+1}(X_{i+1}) \\mbox{with } x = X_i$\n",
    "\n",
    "$C_i$ by a linear combination of known functions of the current state and use regression \n",
    "\n",
    "\n",
    "$$\n",
    "E \\left[V_{i+1}(X_{i+1} | X_i = x \\right] \\sum_{r=1}^M \\beta_{ir} \\psi_r(x)$\n",
    "$$\n",
    "\n",
    "\n",
    "$$\n",
    "C_i(x) = \\beta_i^T \\psi(x)\n",
    "$$\n",
    "\n",
    "with \n",
    "\n",
    "$$\n",
    "\\beta_i^T = (\\beta_{i,1},\\cdots,\\beta_{i,M}) , \\psi(x) = (\\psi_1(x),\\cdots,\\psi_M(x) )^T \n",
    "$$\n",
    "\n",
    "but to sim- plify notation we suppress any dependence of on i.\n"
   ]
  },
  {
   "cell_type": "markdown",
   "metadata": {
    "collapsed": true,
    "deletable": true,
    "editable": true
   },
   "source": [
    "### stochastic mesh framework \n",
    "\n",
    "\n",
    "regression-based methods fit well within the stochastic mesh framework\n",
    "\n",
    "\n",
    "we will see that the use of regression at each step corresponds to an implicit choice of weights for the mesh."
   ]
  },
  {
   "cell_type": "markdown",
   "metadata": {
    "deletable": true,
    "editable": true
   },
   "source": [
    "## Regression based algorithm\n",
    "\n",
    "* Simulate $b$ independent paths $\\{X_{1,j},... ,X_{m,j}\\}$,  $j= 1,...,b$ of the Markov chain.\n",
    "* At terminal nodes, set $\\hat{V}_{m,j} = h_m(X_{m,j} )$, $j = 1, ... , b$.\n",
    "* Apply backward induction: for $i = m - 1, ... ,1$\n",
    "\n",
    "$$\n",
    "\\hat{V}_{i,j} = \\max [ h_i(X_{i,j}), \\hat{C}_i(X_{i,j}) ] , j=1,\\cdots,b \n",
    "$$\n",
    "\n",
    "with $\\hat{C}_i =  \\hat{\\beta}_i^T \\psi(x) $\n",
    "\n",
    "\n",
    "Set $\\hat{V}_0 = (\\hat{V}_{1,1}+\\cdots+\\hat{V}_{1,b})/b$"
   ]
  },
  {
   "cell_type": "code",
   "execution_count": null,
   "metadata": {
    "collapsed": true,
    "deletable": true,
    "editable": true
   },
   "outputs": [],
   "source": []
  },
  {
   "cell_type": "code",
   "execution_count": null,
   "metadata": {
    "collapsed": true,
    "deletable": true,
    "editable": true
   },
   "outputs": [],
   "source": []
  },
  {
   "cell_type": "code",
   "execution_count": null,
   "metadata": {
    "collapsed": true,
    "deletable": true,
    "editable": true
   },
   "outputs": [],
   "source": []
  },
  {
   "cell_type": "code",
   "execution_count": null,
   "metadata": {
    "collapsed": true,
    "deletable": true,
    "editable": true
   },
   "outputs": [],
   "source": []
  },
  {
   "cell_type": "code",
   "execution_count": null,
   "metadata": {
    "collapsed": true,
    "deletable": true,
    "editable": true
   },
   "outputs": [],
   "source": []
  },
  {
   "cell_type": "code",
   "execution_count": 30,
   "metadata": {
    "collapsed": false,
    "deletable": true,
    "editable": true
   },
   "outputs": [
    {
     "data": {
      "text/plain": [
       "array([1, 4, 9])"
      ]
     },
     "execution_count": 30,
     "metadata": {},
     "output_type": "execute_result"
    }
   ],
   "source": []
  },
  {
   "cell_type": "code",
   "execution_count": null,
   "metadata": {
    "collapsed": true,
    "deletable": true,
    "editable": true
   },
   "outputs": [],
   "source": []
  }
 ],
 "metadata": {
  "anaconda-cloud": {},
  "kernelspec": {
   "display_name": "Python [conda root]",
   "language": "python",
   "name": "conda-root-py"
  },
  "language_info": {
   "codemirror_mode": {
    "name": "ipython",
    "version": 3
   },
   "file_extension": ".py",
   "mimetype": "text/x-python",
   "name": "python",
   "nbconvert_exporter": "python",
   "pygments_lexer": "ipython3",
   "version": "3.5.3"
  }
 },
 "nbformat": 4,
 "nbformat_minor": 2
}
