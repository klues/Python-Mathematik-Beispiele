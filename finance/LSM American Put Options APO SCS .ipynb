{
 "cells": [
  {
   "cell_type": "markdown",
   "metadata": {},
   "source": [
    "# Valuation of American Options\n",
    "# with Least-Squares Monte Carlo\n",
    "### Primal and Dual Algorithm\n",
    "### Case 1: American Put Option (APO)\n",
    "### Case 2: Short Condor Spread (SCS)\n",
    "code from [07_amo/LSM_primal_dual_valuation.py](https://github.com/yhilpisch/dawp/blob/master/dawp/book/07_amo/LSM_primal_dual_table.py)\n",
    "\n",
    "(c) Dr. Yves J. Hilpisch\n",
    "Derivatives Analytics with Python\n"
   ]
  },
  {
   "cell_type": "code",
   "execution_count": 1,
   "metadata": {
    "collapsed": true
   },
   "outputs": [],
   "source": [
    "import math\n",
    "import numpy as np\n",
    "import pandas as pd\n",
    "from time import time\n",
    "from datetime import datetime\n",
    "import itertools as it\n",
    "import warnings\n",
    "warnings.simplefilter('ignore')\n",
    "\n",
    "t0 = time()\n",
    "np.random.seed(150000) # seed for Python RNG"
   ]
  },
  {
   "cell_type": "code",
   "execution_count": 3,
   "metadata": {
    "collapsed": true
   },
   "outputs": [],
   "source": [
    "## Simulation Parameters\n",
    "runs = 25\n",
    "write = True\n",
    "#otype = [1, 2]  # option type\n",
    "otype = [1]  # option type\n",
    "#M = [10, 25, 50]  # time steps\n",
    "M = [10]  # time steps\n",
    "I1 = np.array([4]) * 4096  # replications for regression\n",
    "I2 = np.array([1]) * 1024  # replications for valuation\n",
    "J = [50]  # replications for nested MCS\n",
    "reg = [18]  # no of basis functions\n",
    "AP = [False]  # antithetic paths\n",
    "MM = [True]  # moment matching of RN\n",
    "ITM = [False] # ITM paths for regression\n",
    "\n",
    "results = pd.DataFrame()"
   ]
  },
  {
   "cell_type": "code",
   "execution_count": 4,
   "metadata": {
    "collapsed": true
   },
   "outputs": [],
   "source": [
    "def generate_random_numbers(I):\n",
    "    ''' Function to generate I pseudo-random numbers. '''\n",
    "    if AP:\n",
    "            ran = np.random.standard_normal(I / 2)\n",
    "            ran = np.concatenate((ran, -ran))\n",
    "    else:\n",
    "            ran = np.random.standard_normal(I)\n",
    "    if MM:\n",
    "        ran = ran - np.mean(ran)\n",
    "        ran = ran / np.std(ran)\n",
    "    return ran"
   ]
  },
  {
   "cell_type": "code",
   "execution_count": 5,
   "metadata": {
    "collapsed": true
   },
   "outputs": [],
   "source": [
    "def generate_paths(I):\n",
    "    ''' Function to generate I stock price paths. '''\n",
    "    S = np.zeros((M + 1, I), dtype=np.float)  # stock matrix\n",
    "    S[0] = S0  # initial values\n",
    "    for t in range(1, M + 1, 1):  # stock price paths\n",
    "        ran = generate_random_numbers(I)\n",
    "        S[t] = S[t - 1] * np.exp((r - sigma ** 2 / 2) * dt\n",
    "                                + sigma * ran * math.sqrt(dt))\n",
    "    return S\n"
   ]
  },
  {
   "cell_type": "code",
   "execution_count": 6,
   "metadata": {
    "collapsed": true
   },
   "outputs": [],
   "source": [
    "def inner_values(S):\n",
    "    ''' Innver value functions for American put and Short Condor Spread. '''\n",
    "    if otype == 1:\n",
    "        return np.maximum(40. - S, 0)\n",
    "    else:\n",
    "        return np.minimum(40., np.maximum(90. - S, 0)\n",
    "                             + np.maximum(S - 110., 0))\n",
    "\n"
   ]
  },
  {
   "cell_type": "code",
   "execution_count": 7,
   "metadata": {
    "collapsed": true
   },
   "outputs": [],
   "source": [
    "def nested_monte_carlo(St, J):\n",
    "    ''' Function for nested Monte Carlo simulation.\n",
    "    Parameters\n",
    "    ==========\n",
    "    St : float \n",
    "        start value for S\n",
    "    J : int\n",
    "        number of paths to simulate\n",
    "    Returns\n",
    "    =======\n",
    "    paths : array\n",
    "        simulated nested paths\n",
    "    '''\n",
    "    ran = generate_random_numbers(J)\n",
    "    paths = St * np.exp((r - sigma ** 2 / 2) * dt\n",
    "                       + sigma * ran * math.sqrt(dt))\n",
    "    return paths\n"
   ]
  },
  {
   "cell_type": "code",
   "execution_count": 12,
   "metadata": {},
   "outputs": [
    {
     "data": {
      "text/plain": [
       "array([2, 6])"
      ]
     },
     "execution_count": 12,
     "metadata": {},
     "output_type": "execute_result"
    }
   ],
   "source": [
    "a = np.array([[1, 2,4, 6]])\n",
    "c = np.compress([False, True,False,True], a)\n",
    "\n",
    "a\n",
    "c"
   ]
  },
  {
   "cell_type": "code",
   "execution_count": 8,
   "metadata": {},
   "outputs": [
    {
     "name": "stdout",
     "output_type": "stream",
     "text": [
      "   1 |  0.8 | (1, 10, 16384, 1024, 50, 18, False, True, False)  |  4.446 |  4.741 |  4.593\n",
      "   2 |  0.8 | (1, 10, 16384, 1024, 50, 18, False, True, False)  |  4.390 |  4.821 |  4.606\n",
      "   3 |  0.8 | (1, 10, 16384, 1024, 50, 18, False, True, False)  |  4.443 |  4.792 |  4.617\n",
      "   4 |  0.9 | (1, 10, 16384, 1024, 50, 18, False, True, False)  |  4.516 |  5.175 |  4.846\n",
      "   5 |  0.9 | (1, 10, 16384, 1024, 50, 18, False, True, False)  |  4.415 |  4.940 |  4.678\n",
      "   6 |  0.9 | (1, 10, 16384, 1024, 50, 18, False, True, False)  |  4.414 |  4.787 |  4.600\n",
      "   7 |  0.9 | (1, 10, 16384, 1024, 50, 18, False, True, False)  |  4.406 |  4.733 |  4.570\n",
      "   8 |  1.0 | (1, 10, 16384, 1024, 50, 18, False, True, False)  |  4.379 |  6.259 |  5.319\n",
      "   9 |  1.0 | (1, 10, 16384, 1024, 50, 18, False, True, False)  |  4.496 |  4.753 |  4.625\n",
      "  10 |  1.0 | (1, 10, 16384, 1024, 50, 18, False, True, False)  |  4.433 |  4.756 |  4.594\n",
      "  11 |  1.0 | (1, 10, 16384, 1024, 50, 18, False, True, False)  |  4.547 |  4.752 |  4.650\n",
      "  12 |  1.0 | (1, 10, 16384, 1024, 50, 18, False, True, False)  |  4.392 |  4.744 |  4.568\n",
      "  13 |  1.1 | (1, 10, 16384, 1024, 50, 18, False, True, False)  |  4.517 |  4.736 |  4.626\n",
      "  14 |  1.1 | (1, 10, 16384, 1024, 50, 18, False, True, False)  |  4.393 |  4.722 |  4.558\n",
      "  15 |  1.1 | (1, 10, 16384, 1024, 50, 18, False, True, False)  |  4.399 |  4.760 |  4.579\n",
      "  16 |  1.1 | (1, 10, 16384, 1024, 50, 18, False, True, False)  |  4.507 |  4.759 |  4.633\n",
      "  17 |  1.2 | (1, 10, 16384, 1024, 50, 18, False, True, False)  |  4.514 |  4.788 |  4.651\n",
      "  18 |  1.2 | (1, 10, 16384, 1024, 50, 18, False, True, False)  |  4.480 |  4.746 |  4.613\n",
      "  19 |  1.2 | (1, 10, 16384, 1024, 50, 18, False, True, False)  |  4.430 |  4.742 |  4.586\n",
      "  20 |  1.2 | (1, 10, 16384, 1024, 50, 18, False, True, False)  |  4.360 |  5.097 |  4.728\n",
      "  21 |  1.2 | (1, 10, 16384, 1024, 50, 18, False, True, False)  |  4.486 |  4.728 |  4.607\n",
      "  22 |  1.3 | (1, 10, 16384, 1024, 50, 18, False, True, False)  |  4.418 |  4.807 |  4.612\n",
      "  23 |  1.3 | (1, 10, 16384, 1024, 50, 18, False, True, False)  |  4.417 |  4.812 |  4.615\n",
      "  24 |  1.3 | (1, 10, 16384, 1024, 50, 18, False, True, False)  |  4.526 |  4.738 |  4.632\n",
      "  25 |  1.3 | (1, 10, 16384, 1024, 50, 18, False, True, False)  |  4.521 |  4.786 |  4.653\n",
      "Total time in sec 1.334671719868978\n"
     ]
    }
   ],
   "source": [
    "#\n",
    "# Valuation\n",
    "#\n",
    "para = it.product(otype, M, I1, I2, J, reg, AP, MM, ITM)\n",
    "count = 0\n",
    "for pa in para:\n",
    "    otype, M, I1, I2, J, reg, AP, MM, ITM = pa\n",
    "    ## General Parameters and Option Values\n",
    "    if otype == 1:\n",
    "        ## Parameters -- American Put Option\n",
    "        S0 = 36.  # initial stock level\n",
    "        T = 1.0  # time-to-maturity\n",
    "        r = 0.06  # short rate\n",
    "        sigma = 0.2  # volatility\n",
    "        V0_true = 4.48637  # American Put Option (500 steps bin. model) not used in calculation\n",
    "    else:\n",
    "        ## Parameters -- Short Condor Spread\n",
    "        S0 = 100.  # initial stock level\n",
    "        T = 1.0  # time-to-maturity\n",
    "        r = 0.05  # short rate\n",
    "        sigma = 0.5  # volatility\n",
    "        V0_true = 26.97705  # Short Condor Spread (500 steps bin. model)\n",
    "    dt = T / M  # length of time interval\n",
    "    df = math.exp(-r * dt)  # discount factor per time interval\n",
    "    for j in range(runs): # number runs\n",
    "        count += 1\n",
    "        # regression estimation\n",
    "        S = generate_paths(I1)  # generate stock price paths\n",
    "        h = inner_values(S)  # inner values\n",
    "        V = inner_values(S)  # value matrix\n",
    "        rg = np.zeros((M + 1, reg + 1), dtype=np.float) \n",
    "            # regression parameter matrix\n",
    "\n",
    "        ### if the value ist greater than zero    \n",
    "        itm = np.greater(h, 0)  # ITM paths\n",
    "        ## backward process start\n",
    "        for t in range(M - 1, 0, -1): #Time backward\n",
    "            if ITM:\n",
    "                S_itm = np.compress(itm[t] == 1, S[t])\n",
    "                V_itm = np.compress(itm[t] == 1, V[t + 1])\n",
    "                if len(V_itm) == 0:\n",
    "                    rg[t] = 0.0\n",
    "                else:\n",
    "                    rg[t] = np.polyfit(S_itm, V_itm * df, reg)\n",
    "            else:\n",
    "                #Regression part\n",
    "                rg[t] = np.polyfit(S[t], V[t + 1] * df, reg)\n",
    "                  # regression at time t\n",
    "            C = np.polyval(rg[t], S[t])  # calculate continuation with regeression parameters\n",
    "            V[t] = np.where(h[t] > C, h[t], V[t + 1] * df)\n",
    "              # exercise decision compare Values with continuation\n",
    "\n",
    "        ## Simulation\n",
    "        Q = np.zeros((M + 1, I2), dtype=np.float)  # martingale matrix\n",
    "        U = np.zeros((M + 1, I2), dtype=np.float)  # upper bound matrix\n",
    "        S = generate_paths(I2)  # generate stock price paths\n",
    "        h = inner_values(S)  # inner values\n",
    "        V = inner_values(S)  # value matrix\n",
    "\n",
    "        ## Primal Valuation\n",
    "        for t in range(M - 1, 0, -1):\n",
    "            C = np.polyval(rg[t], S[t])  # continuation values\n",
    "            V[t] = np.where(h[t] > C, h[t], V[t + 1] * df)\n",
    "              # exercise decision\n",
    "        V0 = df * np.sum(V[1]) / I2  # LSM estimator\n",
    "\n",
    "        ## Dual Valuation\n",
    "        for t in range(1, M + 1):\n",
    "            for i in range(I2):\n",
    "                Vt = max(h[t, i], np.polyval(rg[t], S[t, i]))\n",
    "                # estimated value V(t,i)\n",
    "                St = nested_monte_carlo(S[t - 1, i], J)  # nested MCS\n",
    "                Ct = np.polyval(rg[t], St)  # cv from nested MCS\n",
    "                ht = inner_values(St)  # iv from nested MCS\n",
    "                VtJ = np.sum(np.where(ht > Ct, ht, Ct)) / len(St)\n",
    "                  # average of V(t,i,j)\n",
    "                Q[t, i] = Q[t - 1, i] / df + (Vt - VtJ)  # \"optimal\" martingale\n",
    "                U[t, i] = max(U[t - 1, i] / df, h[t, i] - Q[t, i])\n",
    "                  # high estimator values\n",
    "                if t == M:\n",
    "                    U[t, i] = np.maximum(U[t - 1, i] / df,\n",
    "                                         np.mean(ht) - Q[t, i])\n",
    "        U0 = np.sum(U[M]) / I2 * df ** M  # DUAL estimator\n",
    "        AV = (V0 + U0) / 2  # average of LSM and DUAL estimator\n",
    "\n",
    "        # output\n",
    "        print (\"%4d | %4.1f | %48s \" % (count, (time() - t0) / 60, pa), \\\n",
    "                \"| %6.3f | %6.3f | %6.3f\" % (V0, U0, AV))\n",
    "        # results storage\n",
    "        results = results.append(pd.DataFrame({'otype': otype, 'runs': runs,\n",
    "            'M': M, 'I1': I1, 'I2': I2, 'J': J, 'reg': reg, 'AP': AP,\n",
    "            'MM': MM, 'ITM': ITM, 'LSM': V0, 'LSM_se': (V0 - V0_true) ** 2,\n",
    "            'DUAL': U0, 'DUAL_se': (U0 - V0_true) ** 2, 'AV': AV,\n",
    "            'AV_se': (AV - V0_true) ** 2}, index=[0,]), ignore_index=True)\n",
    "\n",
    "t1 = time()\n",
    "print (\"Total time in sec %s\" % ((t1 - t0) / 60))\n",
    "\n",
    "if write:\n",
    "    h5 = pd.HDFStore('results_%s_%s.h5' % (datetime.now().date(),\n",
    "                                        str(datetime.now().time())[:8]), 'w')\n",
    "    h5['results'] = results\n",
    "    h5.close()"
   ]
  },
  {
   "cell_type": "markdown",
   "metadata": {},
   "source": [
    "### Regression Part\n",
    "\n",
    "df -> discountingfactor\n",
    "\n",
    "rg[t] = np.polyfit(S[t], V[t + 1] * df, reg) Simannealing\n",
    "\n",
    "Reg S(t) -> V(t+1)\n",
    " \n",
    " \n",
    " \n",
    "Continutiation \n",
    " \n",
    "C = np.polyval(rg[t], S[t])  # continuation values\n",
    "\n",
    "\n",
    "\n",
    "Excercsise Decisison\n",
    "\n",
    " V[t] = np.where(h[t] > C, h[t], V[t + 1] * df)\n",
    " \n",
    " \n",
    " h contains Values Stock - Stricke"
   ]
  },
  {
   "cell_type": "code",
   "execution_count": 31,
   "metadata": {},
   "outputs": [
    {
     "data": {
      "text/plain": [
       "1024"
      ]
     },
     "execution_count": 31,
     "metadata": {},
     "output_type": "execute_result"
    }
   ],
   "source": [
    "len(S[8])"
   ]
  },
  {
   "cell_type": "code",
   "execution_count": 32,
   "metadata": {},
   "outputs": [
    {
     "data": {
      "text/plain": [
       "array([ 2.71297193,  2.91503985,  3.23903644, ...,  4.62126469,\n",
       "        7.83117158,  4.69378089])"
      ]
     },
     "execution_count": 32,
     "metadata": {},
     "output_type": "execute_result"
    }
   ],
   "source": [
    "C"
   ]
  },
  {
   "cell_type": "code",
   "execution_count": 34,
   "metadata": {},
   "outputs": [
    {
     "data": {
      "text/plain": [
       "array([  0.        ,   0.        ,   5.44783944, ...,  11.78620236,\n",
       "        15.25952949,   0.        ])"
      ]
     },
     "execution_count": 34,
     "metadata": {},
     "output_type": "execute_result"
    }
   ],
   "source": [
    "h[10]"
   ]
  },
  {
   "cell_type": "code",
   "execution_count": null,
   "metadata": {
    "collapsed": true
   },
   "outputs": [],
   "source": []
  },
  {
   "cell_type": "code",
   "execution_count": 20,
   "metadata": {},
   "outputs": [
    {
     "name": "stdout",
     "output_type": "stream",
     "text": [
      "        AP         AV      AV_se       DUAL     DUAL_se     I1    I2    ITM  \\\n",
      "0    False   4.600138   0.012943   4.741538    0.065111  16384  1024  False   \n",
      "1    False   4.566411   0.006407   4.738758    0.063699  16384  1024  False   \n",
      "2    False   4.607059   0.014566   4.770459    0.080706  16384  1024  False   \n",
      "3    False   4.616919   0.017043   4.749970    0.069485  16384  1024  False   \n",
      "4    False   4.571657   0.007274   4.731837    0.060254  16384  1024  False   \n",
      "5    False   4.581369   0.009025   4.761975    0.075958  16384  1024  False   \n",
      "6    False   4.573873   0.007657   4.739087    0.063866  16384  1024  False   \n",
      "7    False   4.568460   0.006739   4.753701    0.071466  16384  1024  False   \n",
      "8    False   4.629502   0.020487   4.752824    0.070998  16384  1024  False   \n",
      "9    False   4.594989   0.011798   4.757475    0.073498  16384  1024  False   \n",
      "10   False   4.646512   0.025646   4.748169    0.068539  16384  1024  False   \n",
      "11   False   4.579281   0.008632   4.746633    0.067737  16384  1024  False   \n",
      "12   False   4.623611   0.018835   4.739522    0.064086  16384  1024  False   \n",
      "13   False   4.570736   0.007118   4.722797    0.055897  16384  1024  False   \n",
      "14   False   4.587040   0.010134   4.773884    0.082664  16384  1024  False   \n",
      "15   False   4.632678   0.021406   4.762613    0.076310  16384  1024  False   \n",
      "16   False   4.649822   0.026717   4.768816    0.079775  16384  1024  False   \n",
      "17   False   4.612768   0.015977   4.746871    0.067861  16384  1024  False   \n",
      "18   False   4.583489   0.009432   4.740563    0.064614  16384  1024  False   \n",
      "19   False   4.569959   0.006987   4.777754    0.084905  16384  1024  False   \n",
      "20   False   4.594362   0.011662   4.733496    0.061071  16384  1024  False   \n",
      "21   False   4.584153   0.009561   4.739882    0.064268  16384  1024  False   \n",
      "22   False   4.579141   0.008607   4.747125    0.067993  16384  1024  False   \n",
      "23   False   4.632077   0.021231   4.740284    0.064472  16384  1024  False   \n",
      "24   False   4.633095   0.021528   4.756332    0.072879  16384  1024  False   \n",
      "25   False   4.565554   0.006270   4.656862    0.029068  16384  1024  False   \n",
      "26   False   4.568636   0.006768   4.646493    0.025639  16384  1024  False   \n",
      "27   False   4.492412   0.000037   4.615490    0.016672  16384  1024  False   \n",
      "28   False   4.738608   0.063624   5.017945    0.282572  16384  1024  False   \n",
      "29   False   4.546927   0.003667   4.631951    0.021194  16384  1024  False   \n",
      "..     ...        ...        ...        ...         ...    ...   ...    ...   \n",
      "120  False  26.556271   0.177055  27.420857    0.196965  16384  1024  False   \n",
      "121  False  26.493994   0.233343  27.473855    0.246815  16384  1024  False   \n",
      "122  False  26.616511   0.129988  27.685697    0.502181  16384  1024  False   \n",
      "123  False  26.657945   0.101828  27.309529    0.110543  16384  1024  False   \n",
      "124  False  36.167253  84.459824  46.737301  390.467513  16384  1024  False   \n",
      "125  False  26.883773   0.008701  27.408316    0.185990  16384  1024  False   \n",
      "126  False  26.469701   0.257403  27.321936    0.118946  16384  1024  False   \n",
      "127  False  27.576835   0.359743  28.232887    1.577128  16384  1024  False   \n",
      "128  False  26.908560   0.004691  27.449385    0.223100  16384  1024  False   \n",
      "129  False  26.751573   0.050840  27.488021    0.261092  16384  1024  False   \n",
      "130  False  30.926965  15.601829  35.631936   74.907053  16384  1024  False   \n",
      "131  False  27.054914   0.006063  27.399485    0.178451  16384  1024  False   \n",
      "132  False  26.839986   0.018786  27.357616    0.144830  16384  1024  False   \n",
      "133  False  27.787274   0.656462  29.514770    6.440024  16384  1024  False   \n",
      "134  False  26.721788   0.065159  27.423400    0.199228  16384  1024  False   \n",
      "135  False  26.551792   0.180844  27.242403    0.070412  16384  1024  False   \n",
      "136  False  26.802474   0.030477  27.344576    0.135076  16384  1024  False   \n",
      "137  False  26.876146   0.010182  27.355599    0.143299  16384  1024  False   \n",
      "138  False  28.371063   1.943273  30.816470   14.741143  16384  1024  False   \n",
      "139  False  26.712659   0.069903  27.681868    0.496769  16384  1024  False   \n",
      "140  False  26.542722   0.188641  27.406242    0.184206  16384  1024  False   \n",
      "141  False  26.709235   0.071725  27.499519    0.272973  16384  1024  False   \n",
      "142  False  26.917182   0.003584  27.626840    0.422227  16384  1024  False   \n",
      "143  False  26.933531   0.001894  27.432131    0.207098  16384  1024  False   \n",
      "144  False  26.651711   0.105845  27.346218    0.136285  16384  1024  False   \n",
      "145  False  26.845604   0.017278  27.537021    0.313567  16384  1024  False   \n",
      "146  False  26.933825   0.001868  27.341281    0.132664  16384  1024  False   \n",
      "147  False  26.873731   0.010675  27.604252    0.393382  16384  1024  False   \n",
      "148  False  26.860082   0.013681  27.390876    0.171252  16384  1024  False   \n",
      "149  False  26.663733   0.098168  27.370372    0.154702  16384  1024  False   \n",
      "\n",
      "      J        LSM    LSM_se   M    MM  otype  reg  runs  \n",
      "0    50   4.458738  0.000764  10  True      1    9    25  \n",
      "1    50   4.394065  0.008520  10  True      1    9    25  \n",
      "2    50   4.443659  0.001824  10  True      1    9    25  \n",
      "3    50   4.483868  0.000006  10  True      1    9    25  \n",
      "4    50   4.411477  0.005609  10  True      1    9    25  \n",
      "5    50   4.400764  0.007328  10  True      1    9    25  \n",
      "6    50   4.408660  0.006039  10  True      1    9    25  \n",
      "7    50   4.383219  0.010640  10  True      1    9    25  \n",
      "8    50   4.506180  0.000392  10  True      1    9    25  \n",
      "9    50   4.432504  0.002902  10  True      1    9    25  \n",
      "10   50   4.544855  0.003420  10  True      1    9    25  \n",
      "11   50   4.411929  0.005541  10  True      1    9    25  \n",
      "12   50   4.507699  0.000455  10  True      1    9    25  \n",
      "13   50   4.418675  0.004583  10  True      1    9    25  \n",
      "14   50   4.400196  0.007426  10  True      1    9    25  \n",
      "15   50   4.502743  0.000268  10  True      1    9    25  \n",
      "16   50   4.530829  0.001977  10  True      1    9    25  \n",
      "17   50   4.478666  0.000059  10  True      1    9    25  \n",
      "18   50   4.426415  0.003595  10  True      1    9    25  \n",
      "19   50   4.362164  0.015427  10  True      1    9    25  \n",
      "20   50   4.455228  0.000970  10  True      1    9    25  \n",
      "21   50   4.428424  0.003358  10  True      1    9    25  \n",
      "22   50   4.411157  0.005657  10  True      1    9    25  \n",
      "23   50   4.523870  0.001406  10  True      1    9    25  \n",
      "24   50   4.509858  0.000552  10  True      1    9    25  \n",
      "25   50   4.474247  0.000147  25  True      1    9    25  \n",
      "26   50   4.490779  0.000019  25  True      1    9    25  \n",
      "27   50   4.369335  0.013697  25  True      1    9    25  \n",
      "28   50   4.459270  0.000734  25  True      1    9    25  \n",
      "29   50   4.461904  0.000599  25  True      1    9    25  \n",
      "..   ..        ...       ...  ..   ...    ...  ...   ...  \n",
      "120  50  25.691686  1.652161  25  True      2    9    25  \n",
      "121  50  25.514134  2.140122  25  True      2    9    25  \n",
      "122  50  25.547325  2.044115  25  True      2    9    25  \n",
      "123  50  26.006361  0.942237  25  True      2    9    25  \n",
      "124  50  25.597204  1.903974  25  True      2    9    25  \n",
      "125  50  26.359231  0.381700  50  True      2    9    25  \n",
      "126  50  25.617466  1.848470  50  True      2    9    25  \n",
      "127  50  26.920783  0.003166  50  True      2    9    25  \n",
      "128  50  26.367735  0.371265  50  True      2    9    25  \n",
      "129  50  26.015124  0.925302  50  True      2    9    25  \n",
      "130  50  26.221994  0.570110  50  True      2    9    25  \n",
      "131  50  26.710342  0.071133  50  True      2    9    25  \n",
      "132  50  26.322357  0.428623  50  True      2    9    25  \n",
      "133  50  26.059777  0.841390  50  True      2    9    25  \n",
      "134  50  26.020176  0.915608  50  True      2    9    25  \n",
      "135  50  25.861181  1.245164  50  True      2    9    25  \n",
      "136  50  26.260371  0.513629  50  True      2    9    25  \n",
      "137  50  26.396694  0.336813  50  True      2    9    25  \n",
      "138  50  25.925657  1.105428  50  True      2    9    25  \n",
      "139  50  25.743450  1.521770  50  True      2    9    25  \n",
      "140  50  25.679202  1.684409  50  True      2    9    25  \n",
      "141  50  25.918952  1.119571  50  True      2    9    25  \n",
      "142  50  26.207524  0.592170  50  True      2    9    25  \n",
      "143  50  26.434932  0.293892  50  True      2    9    25  \n",
      "144  50  25.957204  1.040085  50  True      2    9    25  \n",
      "145  50  26.154187  0.677103  50  True      2    9    25  \n",
      "146  50  26.526368  0.203114  50  True      2    9    25  \n",
      "147  50  26.143211  0.695288  50  True      2    9    25  \n",
      "148  50  26.329289  0.419594  50  True      2    9    25  \n",
      "149  50  25.957093  1.040311  50  True      2    9    25  \n",
      "\n",
      "[150 rows x 16 columns]\n"
     ]
    }
   ],
   "source": [
    "print(results)"
   ]
  },
  {
   "cell_type": "code",
   "execution_count": 21,
   "metadata": {
    "collapsed": true
   },
   "outputs": [],
   "source": [
    "# Store\n",
    "\n",
    "h5 = pd.HDFStore('results_%s_%s.h5' % (datetime.now().date(),\n",
    "                                        str(datetime.now().time())[:8]), 'w')\n",
    "h5['results'] = results\n",
    "h5.close()"
   ]
  },
  {
   "cell_type": "code",
   "execution_count": 22,
   "metadata": {
    "scrolled": true
   },
   "outputs": [
    {
     "name": "stdout",
     "output_type": "stream",
     "text": [
      "American Put Options.ipynb\r\n",
      "LSM American Put Options APO SCS .ipynb\r\n",
      "results_2017-02-07_11:50:46.h5\r\n",
      "results_2017-02-07_11:57:18.h5\r\n"
     ]
    }
   ],
   "source": [
    "ls"
   ]
  },
  {
   "cell_type": "markdown",
   "metadata": {},
   "source": [
    "# Data Visualization"
   ]
  },
  {
   "cell_type": "code",
   "execution_count": 1,
   "metadata": {},
   "outputs": [
    {
     "data": {
      "text/html": [
       "<div>\n",
       "<table border=\"1\" class=\"dataframe\">\n",
       "  <thead>\n",
       "    <tr style=\"text-align: right;\">\n",
       "      <th></th>\n",
       "      <th>AP</th>\n",
       "      <th>AV</th>\n",
       "      <th>AV_se</th>\n",
       "      <th>DUAL</th>\n",
       "      <th>DUAL_se</th>\n",
       "      <th>I1</th>\n",
       "      <th>I2</th>\n",
       "      <th>ITM</th>\n",
       "      <th>J</th>\n",
       "      <th>LSM</th>\n",
       "      <th>LSM_se</th>\n",
       "      <th>M</th>\n",
       "      <th>MM</th>\n",
       "      <th>otype</th>\n",
       "      <th>reg</th>\n",
       "      <th>runs</th>\n",
       "    </tr>\n",
       "  </thead>\n",
       "  <tbody>\n",
       "    <tr>\n",
       "      <th>0</th>\n",
       "      <td>False</td>\n",
       "      <td>4.600138</td>\n",
       "      <td>0.012943</td>\n",
       "      <td>4.741538</td>\n",
       "      <td>0.065111</td>\n",
       "      <td>16384</td>\n",
       "      <td>1024</td>\n",
       "      <td>False</td>\n",
       "      <td>50</td>\n",
       "      <td>4.458738</td>\n",
       "      <td>0.000764</td>\n",
       "      <td>10</td>\n",
       "      <td>True</td>\n",
       "      <td>1</td>\n",
       "      <td>9</td>\n",
       "      <td>25</td>\n",
       "    </tr>\n",
       "    <tr>\n",
       "      <th>1</th>\n",
       "      <td>False</td>\n",
       "      <td>4.566411</td>\n",
       "      <td>0.006407</td>\n",
       "      <td>4.738758</td>\n",
       "      <td>0.063699</td>\n",
       "      <td>16384</td>\n",
       "      <td>1024</td>\n",
       "      <td>False</td>\n",
       "      <td>50</td>\n",
       "      <td>4.394065</td>\n",
       "      <td>0.008520</td>\n",
       "      <td>10</td>\n",
       "      <td>True</td>\n",
       "      <td>1</td>\n",
       "      <td>9</td>\n",
       "      <td>25</td>\n",
       "    </tr>\n",
       "    <tr>\n",
       "      <th>2</th>\n",
       "      <td>False</td>\n",
       "      <td>4.607059</td>\n",
       "      <td>0.014566</td>\n",
       "      <td>4.770459</td>\n",
       "      <td>0.080706</td>\n",
       "      <td>16384</td>\n",
       "      <td>1024</td>\n",
       "      <td>False</td>\n",
       "      <td>50</td>\n",
       "      <td>4.443659</td>\n",
       "      <td>0.001824</td>\n",
       "      <td>10</td>\n",
       "      <td>True</td>\n",
       "      <td>1</td>\n",
       "      <td>9</td>\n",
       "      <td>25</td>\n",
       "    </tr>\n",
       "    <tr>\n",
       "      <th>3</th>\n",
       "      <td>False</td>\n",
       "      <td>4.616919</td>\n",
       "      <td>0.017043</td>\n",
       "      <td>4.749970</td>\n",
       "      <td>0.069485</td>\n",
       "      <td>16384</td>\n",
       "      <td>1024</td>\n",
       "      <td>False</td>\n",
       "      <td>50</td>\n",
       "      <td>4.483868</td>\n",
       "      <td>0.000006</td>\n",
       "      <td>10</td>\n",
       "      <td>True</td>\n",
       "      <td>1</td>\n",
       "      <td>9</td>\n",
       "      <td>25</td>\n",
       "    </tr>\n",
       "    <tr>\n",
       "      <th>4</th>\n",
       "      <td>False</td>\n",
       "      <td>4.571657</td>\n",
       "      <td>0.007274</td>\n",
       "      <td>4.731837</td>\n",
       "      <td>0.060254</td>\n",
       "      <td>16384</td>\n",
       "      <td>1024</td>\n",
       "      <td>False</td>\n",
       "      <td>50</td>\n",
       "      <td>4.411477</td>\n",
       "      <td>0.005609</td>\n",
       "      <td>10</td>\n",
       "      <td>True</td>\n",
       "      <td>1</td>\n",
       "      <td>9</td>\n",
       "      <td>25</td>\n",
       "    </tr>\n",
       "    <tr>\n",
       "      <th>5</th>\n",
       "      <td>False</td>\n",
       "      <td>4.581369</td>\n",
       "      <td>0.009025</td>\n",
       "      <td>4.761975</td>\n",
       "      <td>0.075958</td>\n",
       "      <td>16384</td>\n",
       "      <td>1024</td>\n",
       "      <td>False</td>\n",
       "      <td>50</td>\n",
       "      <td>4.400764</td>\n",
       "      <td>0.007328</td>\n",
       "      <td>10</td>\n",
       "      <td>True</td>\n",
       "      <td>1</td>\n",
       "      <td>9</td>\n",
       "      <td>25</td>\n",
       "    </tr>\n",
       "    <tr>\n",
       "      <th>6</th>\n",
       "      <td>False</td>\n",
       "      <td>4.573873</td>\n",
       "      <td>0.007657</td>\n",
       "      <td>4.739087</td>\n",
       "      <td>0.063866</td>\n",
       "      <td>16384</td>\n",
       "      <td>1024</td>\n",
       "      <td>False</td>\n",
       "      <td>50</td>\n",
       "      <td>4.408660</td>\n",
       "      <td>0.006039</td>\n",
       "      <td>10</td>\n",
       "      <td>True</td>\n",
       "      <td>1</td>\n",
       "      <td>9</td>\n",
       "      <td>25</td>\n",
       "    </tr>\n",
       "    <tr>\n",
       "      <th>7</th>\n",
       "      <td>False</td>\n",
       "      <td>4.568460</td>\n",
       "      <td>0.006739</td>\n",
       "      <td>4.753701</td>\n",
       "      <td>0.071466</td>\n",
       "      <td>16384</td>\n",
       "      <td>1024</td>\n",
       "      <td>False</td>\n",
       "      <td>50</td>\n",
       "      <td>4.383219</td>\n",
       "      <td>0.010640</td>\n",
       "      <td>10</td>\n",
       "      <td>True</td>\n",
       "      <td>1</td>\n",
       "      <td>9</td>\n",
       "      <td>25</td>\n",
       "    </tr>\n",
       "    <tr>\n",
       "      <th>8</th>\n",
       "      <td>False</td>\n",
       "      <td>4.629502</td>\n",
       "      <td>0.020487</td>\n",
       "      <td>4.752824</td>\n",
       "      <td>0.070998</td>\n",
       "      <td>16384</td>\n",
       "      <td>1024</td>\n",
       "      <td>False</td>\n",
       "      <td>50</td>\n",
       "      <td>4.506180</td>\n",
       "      <td>0.000392</td>\n",
       "      <td>10</td>\n",
       "      <td>True</td>\n",
       "      <td>1</td>\n",
       "      <td>9</td>\n",
       "      <td>25</td>\n",
       "    </tr>\n",
       "    <tr>\n",
       "      <th>9</th>\n",
       "      <td>False</td>\n",
       "      <td>4.594989</td>\n",
       "      <td>0.011798</td>\n",
       "      <td>4.757475</td>\n",
       "      <td>0.073498</td>\n",
       "      <td>16384</td>\n",
       "      <td>1024</td>\n",
       "      <td>False</td>\n",
       "      <td>50</td>\n",
       "      <td>4.432504</td>\n",
       "      <td>0.002902</td>\n",
       "      <td>10</td>\n",
       "      <td>True</td>\n",
       "      <td>1</td>\n",
       "      <td>9</td>\n",
       "      <td>25</td>\n",
       "    </tr>\n",
       "  </tbody>\n",
       "</table>\n",
       "</div>"
      ],
      "text/plain": [
       "      AP        AV     AV_se      DUAL   DUAL_se     I1    I2    ITM   J  \\\n",
       "0  False  4.600138  0.012943  4.741538  0.065111  16384  1024  False  50   \n",
       "1  False  4.566411  0.006407  4.738758  0.063699  16384  1024  False  50   \n",
       "2  False  4.607059  0.014566  4.770459  0.080706  16384  1024  False  50   \n",
       "3  False  4.616919  0.017043  4.749970  0.069485  16384  1024  False  50   \n",
       "4  False  4.571657  0.007274  4.731837  0.060254  16384  1024  False  50   \n",
       "5  False  4.581369  0.009025  4.761975  0.075958  16384  1024  False  50   \n",
       "6  False  4.573873  0.007657  4.739087  0.063866  16384  1024  False  50   \n",
       "7  False  4.568460  0.006739  4.753701  0.071466  16384  1024  False  50   \n",
       "8  False  4.629502  0.020487  4.752824  0.070998  16384  1024  False  50   \n",
       "9  False  4.594989  0.011798  4.757475  0.073498  16384  1024  False  50   \n",
       "\n",
       "        LSM    LSM_se   M    MM  otype  reg  runs  \n",
       "0  4.458738  0.000764  10  True      1    9    25  \n",
       "1  4.394065  0.008520  10  True      1    9    25  \n",
       "2  4.443659  0.001824  10  True      1    9    25  \n",
       "3  4.483868  0.000006  10  True      1    9    25  \n",
       "4  4.411477  0.005609  10  True      1    9    25  \n",
       "5  4.400764  0.007328  10  True      1    9    25  \n",
       "6  4.408660  0.006039  10  True      1    9    25  \n",
       "7  4.383219  0.010640  10  True      1    9    25  \n",
       "8  4.506180  0.000392  10  True      1    9    25  \n",
       "9  4.432504  0.002902  10  True      1    9    25  "
      ]
     },
     "execution_count": 1,
     "metadata": {},
     "output_type": "execute_result"
    }
   ],
   "source": [
    "import math\n",
    "import numpy as np\n",
    "import pandas as pd\n",
    "import matplotlib.pyplot as plt\n",
    "%matplotlib inline \n",
    "\n",
    "\n",
    "data = pd.read_hdf(\"results_2017-02-07_11:57:18.h5\")\n",
    "data[:10]"
   ]
  },
  {
   "cell_type": "code",
   "execution_count": 28,
   "metadata": {
    "collapsed": true
   },
   "outputs": [],
   "source": [
    "out=data[['AV','DUAL','LSM']]\n",
    "firstcalc=out[:75]\n",
    "lastcalc=out[75:]"
   ]
  },
  {
   "cell_type": "code",
   "execution_count": 29,
   "metadata": {},
   "outputs": [
    {
     "data": {
      "text/plain": [
       "<matplotlib.axes._subplots.AxesSubplot at 0x10f1da160>"
      ]
     },
     "execution_count": 29,
     "metadata": {},
     "output_type": "execute_result"
    },
    {
     "data": {
      "image/png": "[encoded data removed]",
      "text/plain": [
       "<matplotlib.figure.Figure at 0x10f2e7470>"
      ]
     },
     "metadata": {},
     "output_type": "display_data"
    }
   ],
   "source": [
    "firstcalc.plot.box()"
   ]
  },
  {
   "cell_type": "code",
   "execution_count": 34,
   "metadata": {},
   "outputs": [
    {
     "data": {
      "text/plain": [
       "<matplotlib.axes._subplots.AxesSubplot at 0x10f6e7198>"
      ]
     },
     "execution_count": 34,
     "metadata": {},
     "output_type": "execute_result"
    },
    {
     "data": {
      "image/png": "[encoded data removed]",
      "text/plain": [
       "<matplotlib.figure.Figure at 0x10f5e7518>"
      ]
     },
     "metadata": {},
     "output_type": "display_data"
    }
   ],
   "source": [
    "lastcalc.plot.box(ylim=[24,28])"
   ]
  },
  {
   "cell_type": "code",
   "execution_count": null,
   "metadata": {
    "collapsed": true
   },
   "outputs": [],
   "source": []
  }
 ],
 "metadata": {
  "anaconda-cloud": {},
  "kernelspec": {
   "display_name": "Python 3",
   "language": "python",
   "name": "python3"
  },
  "language_info": {
   "codemirror_mode": {
    "name": "ipython",
    "version": 3
   },
   "file_extension": ".py",
   "mimetype": "text/x-python",
   "name": "python",
   "nbconvert_exporter": "python",
   "pygments_lexer": "ipython3",
   "version": "3.6.1"
  }
 },
 "nbformat": 4,
 "nbformat_minor": 2
}
