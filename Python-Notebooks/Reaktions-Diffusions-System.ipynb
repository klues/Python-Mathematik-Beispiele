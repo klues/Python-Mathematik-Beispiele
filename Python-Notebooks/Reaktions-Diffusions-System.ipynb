{
 "cells": [
  {
   "cell_type": "markdown",
   "metadata": {},
   "source": [
    "## Reaktions-Diffusions-System\n",
    "\n",
    "Bei einem [Reaktions-Diffusion-System](https://de.wikipedia.org/wiki/Reaktionsdiffusionsgleichung) kommt es zu lokalen Wechselwirkungen und einer zusätzlichen Diffussion. Reaktions-Diffusions-Systeme lassen sich durch zwei Prozesse beschreiben:\n",
    "\n",
    "- Reaktion d.h. eine lokale Zustandsänderung \n",
    "- Diffusion d.h. eine örtliche Verbreitung\n",
    "\n",
    "Alain Turing (1952) nutzte als erster ein Raktions-Diffusions-System um die Morphogenese von farbigen Mustern auf dem Fell von Tieren wie Zebra, Giraffe oder Kudu zu erklären.\n",
    "https://de.wikipedia.org/wiki/Turing-Mechanismus\n",
    "\n",
    "Artikel zur natürlichen Musterbildung (in engl. Sprache)\n",
    "http://www.theshapeofmath.com/princeton/dynsys/pattern\n",
    "\n",
    "### Aufgaben - Tasks\n",
    "- Führen Sie alle folgenden Python Programme aus (CTRL + Enter oder Cell / Run All)\n",
    "- Führen Sie das letzte Programm (# SIMULATION) mehrmals aus. Was beobachten Sie?\n",
    "- Nach wievielen Ausführungen stabilisiert sich die Musterung?\n",
    "- Verändern Sie die folgenden Parameter\n",
    "    - a\n",
    "    - b\n",
    "    - tau\n",
    "    - k\n",
    "- Messen Sie Zeit, welches es braucht um ein 120x120 Bild zu erstellen. (Tipp: mit %time lässt sich die Zeit messen.)\n",
    "- Erstellen Sie einen Katalog verschiedener Muster"
   ]
  },
  {
   "cell_type": "code",
   "execution_count": 1,
   "metadata": {},
   "outputs": [],
   "source": [
    "# Bibliotheken importieren\n",
    "# Source from http://ipython-books.github.io/featured-05/\n",
    "#import numba\n",
    "#from numba import jit\n",
    "\n",
    "from numba import jit,float32,void\n",
    "import numpy as np\n",
    "import matplotlib.pyplot as plt\n",
    "%matplotlib inline"
   ]
  },
  {
   "cell_type": "markdown",
   "metadata": {},
   "source": [
    "## Differentialgleichungen für zwei Variablen $u(t)$ und $v(t)$\n",
    "\n",
    "\n",
    "\\begin{align*}\n",
    "\\frac{\\partial u}{\\partial t} &= a \\Delta u + u - u^3 - v + k\\\\\n",
    "\\tau\\frac{\\partial v}{\\partial t} &= b \\Delta v + u - v\\\\\n",
    "\\end{align*}\n",
    "\n",
    "- u ist die Konzentration der einen Substanz\n",
    "- v ist die Konzentration der anderen Substanz\n",
    "\n",
    "Vier Konstanten werden für die Parametrisierung dieser Simulation verwendet."
   ]
  },
  {
   "cell_type": "code",
   "execution_count": 2,
   "metadata": {
    "collapsed": true
   },
   "outputs": [],
   "source": [
    "a = 2.8e-4 #2.8e-4\n",
    "b = 6e-3  #5e-3\n",
    "tau = .1 #0.1\n",
    "k = -.035 #-0.005\n"
   ]
  },
  {
   "cell_type": "markdown",
   "metadata": {},
   "source": [
    "Diskeretisierung von Raum und Zeit mit der Bedingung\n",
    "\n",
    "$$dt \\leq \\frac{dx^2}{2}$$"
   ]
  },
  {
   "cell_type": "code",
   "execution_count": 4,
   "metadata": {},
   "outputs": [
    {
     "name": "stdout",
     "output_type": "stream",
     "text": [
      "7111\n"
     ]
    }
   ],
   "source": [
    "size = 80  # 100 size of the 2D grid\n",
    "dx = 2./size  # space step\n",
    "\n",
    "T = 2  # total time\n",
    "dt = .9 * dx**2/2  # time step\n",
    "n = int(T/dt)\n",
    "print (n)\n"
   ]
  },
  {
   "cell_type": "code",
   "execution_count": 6,
   "metadata": {},
   "outputs": [],
   "source": [
    "U = np.random.rand(size, size)\n",
    "V = np.random.rand(size, size)\n"
   ]
  },
  {
   "cell_type": "markdown",
   "metadata": {},
   "source": [
    "Diskreter Laplace Operator in 2D\n",
    "\n",
    "Fünf Punkte Finite Differenzen Methode\n",
    "\n",
    "\n",
    "$$\\Delta u(x,y) \\simeq \\frac{u(x+h,y)+u(x-h,y)+u(x,y+h)+u(x,y-h)-4u(x,y)}{dx^2}$$\n",
    "\n",
    "Ränder werden nicht berechnet"
   ]
  },
  {
   "cell_type": "code",
   "execution_count": 7,
   "metadata": {},
   "outputs": [],
   "source": [
    "# Berechnung des Laplace ohne Ränder\n",
    "@jit(float32[:,:](float32[:,:]),locals=dict(Ztop=float32[:,:], Zleft=float32[:,:],Zbottom=float32[:,:], Zright=float32[:,:], Zcenter=float32[:,:]),nogil=True)\n",
    "def laplacian(Z):\n",
    "    Ztop = Z[0:-2,1:-1]\n",
    "    Zleft = Z[1:-1,0:-2]\n",
    "    Zbottom = Z[2:,1:-1]\n",
    "    Zright = Z[1:-1,2:]\n",
    "    Zcenter = Z[1:-1,1:-1]\n",
    "    return (Ztop + Zleft + Zbottom + Zright - 4 * Zcenter) /dx/dx\n",
    "\n"
   ]
  },
  {
   "cell_type": "markdown",
   "metadata": {},
   "source": [
    "Das System wird wie folgt simuliert:\n",
    "\n",
    "- Zu jedem Zeitschritt werden die rechten Seiten der Gleichung (ortsabhägniger Laplace) an jedem Ort berechnet.\n",
    "- Als zweites werden die Variablen $u$ und $v$ angepasst, mit Hilfe einer diskreten Ableitung nach der Zeit."
   ]
  },
  {
   "cell_type": "code",
   "execution_count": 8,
   "metadata": {},
   "outputs": [],
   "source": [
    "# SIMULATION\n",
    "#\n",
    "# We simulate the PDE with the finite difference method.\n",
    "\n",
    "@jit(void(),locals=dict(deltaU=float32[:,:], deltaV=float32[:,:],Uc=float32[:,:], Vc=float32[:,:]),nogil=True)\n",
    "def sim():\n",
    "    for i in range(n):\n",
    "        # We compute the Laplacian of u and v.\n",
    "        deltaU = laplacian(U)\n",
    "        deltaV = laplacian(V)\n",
    "        # We take the values of u and v inside the grid.\n",
    "        Uc = U[1:-1,1:-1]\n",
    "        Vc = V[1:-1,1:-1]\n",
    "        # We update the variables.\n",
    "        U[1:-1,1:-1], V[1:-1,1:-1] = \\\n",
    "            Uc + dt * (a * deltaU + Uc - Uc**3 - Vc + k), \\\n",
    "            Vc + dt * (b * deltaV + Uc - Vc) / tau\n",
    "        # Neumann conditions: derivatives at the edges\n",
    "        # are null.\n",
    "        \n",
    "        for Z in (U, V):\n",
    "            Z[0,:] = Z[1,:]\n",
    "            Z[-1,:] = Z[-2,:]\n",
    "            Z[:,0] = Z[:,1]\n",
    "            Z[:,-1] = Z[:,-2]\n",
    "\n"
   ]
  },
  {
   "cell_type": "code",
   "execution_count": 9,
   "metadata": {},
   "outputs": [
    {
     "name": "stdout",
     "output_type": "stream",
     "text": [
      "CPU times: user 3.75 s, sys: 20.1 ms, total: 3.77 s\n",
      "Wall time: 3.78 s\n",
      "CPU times: user 2.96 s, sys: 2.67 ms, total: 2.96 s\n",
      "Wall time: 2.96 s\n",
      "CPU times: user 3.3 s, sys: 9 ms, total: 3.31 s\n",
      "Wall time: 3.35 s\n",
      "CPU times: user 2.98 s, sys: 2.19 ms, total: 2.98 s\n",
      "Wall time: 2.98 s\n",
      "CPU times: user 3.25 s, sys: 22.2 ms, total: 3.27 s\n",
      "Wall time: 3.3 s\n"
     ]
    },
    {
     "data": {
      "image/png": "[encoded data removed]",
      "text/plain": [
       "<matplotlib.figure.Figure at 0x119348cf8>"
      ]
     },
     "metadata": {},
     "output_type": "display_data"
    }
   ],
   "source": [
    "for i in range(5):\n",
    "    %time sim()\n",
    "    plt.imshow(U, cmap=plt.cm.copper, extent=[-1,1,-1,1]);\n",
    "    plt.xticks([]); plt.yticks([]);"
   ]
  },
  {
   "cell_type": "markdown",
   "metadata": {},
   "source": [
    "# 2. Muster"
   ]
  },
  {
   "cell_type": "code",
   "execution_count": 10,
   "metadata": {
    "collapsed": true
   },
   "outputs": [],
   "source": [
    "#Initalisierung\n",
    "\n",
    "a = 5.8e-4 #2.8e-4\n",
    "b = 5e-3\n",
    "tau = .01 #gepunktet\n",
    "k = -.015\n",
    "\n",
    "\n",
    "U = np.random.rand(size, size)\n",
    "V = np.random.rand(size, size)"
   ]
  },
  {
   "cell_type": "code",
   "execution_count": 11,
   "metadata": {},
   "outputs": [
    {
     "name": "stdout",
     "output_type": "stream",
     "text": [
      "CPU times: user 2.91 s, sys: 4.36 ms, total: 2.92 s\n",
      "Wall time: 2.92 s\n"
     ]
    },
    {
     "data": {
      "image/png": "[encoded data removed]",
      "text/plain": [
       "<matplotlib.figure.Figure at 0x11907cef0>"
      ]
     },
     "metadata": {},
     "output_type": "display_data"
    }
   ],
   "source": [
    "# 2. Berechnung\n",
    "%time sim()\n",
    "plt.imshow(U, cmap=plt.cm.copper, extent=[-1,1,-1,1]);\n",
    "plt.xticks([]); plt.yticks([]);"
   ]
  }
 ],
 "metadata": {
  "anaconda-cloud": {},
  "kernelspec": {
   "display_name": "Python 3",
   "language": "python",
   "name": "python3"
  },
  "language_info": {
   "codemirror_mode": {
    "name": "ipython",
    "version": 3
   },
   "file_extension": ".py",
   "mimetype": "text/x-python",
   "name": "python",
   "nbconvert_exporter": "python",
   "pygments_lexer": "ipython3",
   "version": "3.6.2"
  }
 },
 "nbformat": 4,
 "nbformat_minor": 1
}
