{
 "cells": [
  {
   "cell_type": "markdown",
   "metadata": {},
   "source": [
    "## Statiksimulation\n",
    "\n",
    "### mit Hilfe eines Federmodels\n",
    "\n",
    "Diese Simulation nutzt das pyhsikalische Prinzip, dass in einem Gleichgewicht die \n",
    "totale Energie des Systems minimal ist. In diesem Beisspiel werden als wirkenden Kräfte\n",
    "die Gravitation und die Federkräfte zwischen den Massenpunkten benutzt.\n",
    "\n",
    "### Aufgaben - Tasks\n",
    "- Führen Sie die folgenden Python Programme aus (CTRL + Enter oder Cell / Run All).\n",
    "- Welchen Parameter müssen Sie ändern, damit die Konstruktion doppelt so gross wird?\n",
    "- Untersuchen Sie die Wirkung der folgenden Parameter\n",
    "    - g\n",
    "    - m\n",
    "    - k\n",
    "- Erstellen Sie eine eigene Konstruktion. Welche Variable beinhaltet die Koordinaten der Massen? Wie müsste das Programm angepasst werden? (grosse Herausforderung)\n"
   ]
  },
  {
   "cell_type": "code",
   "execution_count": 79,
   "metadata": {
    "collapsed": false
   },
   "outputs": [],
   "source": [
    "# Verwendete Bibliotheken\n",
    "import numpy as np\n",
    "import scipy.optimize as opt\n",
    "import matplotlib.pyplot as plt\n",
    "%matplotlib inline"
   ]
  },
  {
   "cell_type": "code",
   "execution_count": 1,
   "metadata": {
    "collapsed": true
   },
   "outputs": [],
   "source": [
    "# Parameter\n",
    "g = 9.81  # gravity of Earth\n",
    "m = .1  # mass, in kg\n",
    "n = 20  # number of masses\n",
    "e = .1  # initial distance between the masses\n",
    "l = e  # relaxed length of the springs\n",
    "k = 30000  # spring stiffness"
   ]
  },
  {
   "cell_type": "code",
   "execution_count": 81,
   "metadata": {
    "collapsed": true
   },
   "outputs": [],
   "source": [
    "P0 = np.zeros((n, 2))\n",
    "P0[:,0] = np.repeat(e*np.arange(n//2), 2)\n",
    "P0[:,1] = np.tile((0,-e), n//2)"
   ]
  },
  {
   "cell_type": "code",
   "execution_count": 82,
   "metadata": {
    "collapsed": false
   },
   "outputs": [],
   "source": [
    "A = np.eye(n, n, 1) + np.eye(n, n, 2)\n"
   ]
  },
  {
   "cell_type": "code",
   "execution_count": 83,
   "metadata": {
    "collapsed": false
   },
   "outputs": [],
   "source": [
    "L = l * (np.eye(n, n, 1) + np.eye(n, n, 2))\n",
    "for i in range(n//2-1):\n",
    "    L[2*i+1,2*i+2] *= np.sqrt(2)"
   ]
  },
  {
   "cell_type": "code",
   "execution_count": 103,
   "metadata": {
    "collapsed": false
   },
   "outputs": [],
   "source": [
    "I, J = np.nonzero(A)\n"
   ]
  },
  {
   "cell_type": "code",
   "execution_count": 2,
   "metadata": {
    "collapsed": true
   },
   "outputs": [],
   "source": [
    "# Berechnung des Abstands für spez. Datenstruktur\n",
    "dist = lambda P: np.sqrt((P[:,0]-P[:,0][:, np.newaxis])**2 + \n",
    "                         (P[:,1]-P[:,1][:, np.newaxis])**2)"
   ]
  },
  {
   "cell_type": "code",
   "execution_count": 97,
   "metadata": {
    "collapsed": false
   },
   "outputs": [
    {
     "data": {
      "image/png": "[encoded data removed]",
      "text/plain": [
       "<matplotlib.figure.Figure at 0x10ea10310>"
      ]
     },
     "metadata": {},
     "output_type": "display_data"
    }
   ],
   "source": [
    "def show_bar(P):\n",
    "    plt.figure(figsize=(9,7));\n",
    "    # Wall.\n",
    "    plt.axvline(0, color='g', lw=13);\n",
    "    # Distance matrix.\n",
    "    D = dist(P)\n",
    "    # We plot the springs.\n",
    "    for i, j in zip(I, J):\n",
    "        # The color depends on the spring tension, which\n",
    "        # is proportional to the spring elongation.\n",
    "        c = D[i,j] - L[i,j]\n",
    "        plt.plot(P[[i,j],0], P[[i,j],1], \n",
    "                 lw=2, color=plt.cm.copper(c*150));\n",
    "    # We plot the masses.\n",
    "    plt.plot(P[[I,J],0], P[[I,J],1], 'ok',);\n",
    "    # We configure the axes.\n",
    "    plt.axis('equal');\n",
    "    plt.xlim(P[:,0].min()-e/2, P[:,0].max()+e/2);\n",
    "    plt.ylim(P[:,1].min()-e/2, P[:,1].max()+e/2);\n",
    "    plt.xticks([]); plt.yticks([]);\n",
    "\n",
    "show_bar(P0);\n",
    "plt.title(\"Initial configuration\");"
   ]
  },
  {
   "cell_type": "code",
   "execution_count": 88,
   "metadata": {
    "collapsed": true
   },
   "outputs": [],
   "source": [
    "def energy(P):\n",
    "    # The argument P is a vector (flattened matrix).\n",
    "    # We convert it to a matrix here.\n",
    "    P = P.reshape((-1, 2))\n",
    "    # We compute the distance matrix.\n",
    "    D = dist(P)\n",
    "    # The potential energy is the sum of the\n",
    "    # gravitational and elastic potential energies.\n",
    "    return (g * m * P[:,1].sum() + \n",
    "            .5 * (k * A * (D - L)**2).sum())"
   ]
  },
  {
   "cell_type": "code",
   "execution_count": 89,
   "metadata": {
    "collapsed": false
   },
   "outputs": [
    {
     "data": {
      "text/plain": [
       "-0.98100000000000009"
      ]
     },
     "execution_count": 89,
     "metadata": {},
     "output_type": "execute_result"
    }
   ],
   "source": [
    "energy(P0.ravel())"
   ]
  },
  {
   "cell_type": "code",
   "execution_count": 90,
   "metadata": {
    "collapsed": true
   },
   "outputs": [],
   "source": [
    "bounds = np.c_[P0[:2,:].ravel(), P0[:2,:].ravel()].tolist() + \\\n",
    "         [[None, None]] * (2*(n-2))\n",
    "P1 = opt.minimize(energy, P0.ravel(),\n",
    "                  method='L-BFGS-B',\n",
    "                  bounds=bounds).x.reshape((-1, 2))"
   ]
  },
  {
   "cell_type": "code",
   "execution_count": 98,
   "metadata": {
    "collapsed": false
   },
   "outputs": [
    {
     "data": {
      "image/png": "[encoded data removed]",
      "text/plain": [
       "<matplotlib.figure.Figure at 0x10db61110>"
      ]
     },
     "metadata": {},
     "output_type": "display_data"
    }
   ],
   "source": [
    "show_bar(P1);\n",
    "plt.title(\"Equilibrium configuration\");"
   ]
  },
  {
   "cell_type": "code",
   "execution_count": null,
   "metadata": {
    "collapsed": true
   },
   "outputs": [],
   "source": []
  }
 ],
 "metadata": {
  "kernelspec": {
   "display_name": "Python 2",
   "language": "python",
   "name": "python2"
  },
  "language_info": {
   "codemirror_mode": {
    "name": "ipython",
    "version": 2
   },
   "file_extension": ".py",
   "mimetype": "text/x-python",
   "name": "python",
   "nbconvert_exporter": "python",
   "pygments_lexer": "ipython2",
   "version": "2.7.6"
  }
 },
 "nbformat": 4,
 "nbformat_minor": 0
}
