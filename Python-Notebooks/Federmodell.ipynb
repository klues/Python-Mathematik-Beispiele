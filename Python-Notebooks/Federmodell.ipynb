{
 "cells": [
  {
   "cell_type": "markdown",
   "metadata": {},
   "source": [
    "## Statiksimulation\n",
    "\n",
    "### mit Hilfe eines Federmodels\n",
    "\n",
    "Diese Simulation nutzt das Prinzip, dass in einem Gleichgewicht die \n",
    "totale Energie des Systems minimal ist. In diesem Beispiel werden als wirkende Kräfte\n",
    "die Gravitation und die Federkräfte zwischen den Massenpunkten verwendet.\n",
    "\n",
    "### Aufgaben - Tasks\n",
    "- Führen Sie die folgenden Python Programm Blöcke aus (CTRL + Enter oder Cell / Run All).\n",
    "- Welchen Parameter müssen Sie ändern, damit die Konstruktion doppelt so gross wird?\n",
    "- Untersuchen Sie die Wirkung der folgenden Parameter:\n",
    "    - g\n",
    "    - m\n",
    "    - k\n",
    "- Erstellen Sie eine eigene Konstruktion. Welche Variable beinhaltet die Koordinaten der Massen? Wie müsste das Programm angepasst werden? (grosse Herausforderung)\n"
   ]
  },
  {
   "cell_type": "code",
   "execution_count": 1,
   "metadata": {
    "collapsed": true
   },
   "outputs": [],
   "source": [
    "# Verwendete Bibliotheken\n",
    "import numpy as np\n",
    "import scipy.optimize as opt\n",
    "import matplotlib.pyplot as plt\n",
    "%matplotlib inline"
   ]
  },
  {
   "cell_type": "code",
   "execution_count": 2,
   "metadata": {
    "collapsed": true
   },
   "outputs": [],
   "source": [
    "# Parameter\n",
    "g = 9.81  # gravity of Earth\n",
    "m = .1  # mass, in kg\n",
    "n = 20  # number of masses\n",
    "e = .1  # initial distance between the masses\n",
    "l = e  # relaxed length of the springs\n",
    "k = 30000  # spring stiffness"
   ]
  },
  {
   "cell_type": "code",
   "execution_count": 3,
   "metadata": {
    "collapsed": true
   },
   "outputs": [],
   "source": [
    "P0 = np.zeros((n, 2))\n",
    "P0[:,0] = np.repeat(e*np.arange(n//2), 2)\n",
    "P0[:,1] = np.tile((0,-e), n//2)"
   ]
  },
  {
   "cell_type": "code",
   "execution_count": 4,
   "metadata": {
    "collapsed": true
   },
   "outputs": [],
   "source": [
    "A = np.eye(n, n, 1) + np.eye(n, n, 2)\n"
   ]
  },
  {
   "cell_type": "code",
   "execution_count": 5,
   "metadata": {
    "collapsed": true
   },
   "outputs": [],
   "source": [
    "L = l * (np.eye(n, n, 1) + np.eye(n, n, 2))\n",
    "for i in range(n//2-1):\n",
    "    L[2*i+1,2*i+2] *= np.sqrt(2)"
   ]
  },
  {
   "cell_type": "code",
   "execution_count": 6,
   "metadata": {
    "collapsed": true
   },
   "outputs": [],
   "source": [
    "I, J = np.nonzero(A)\n"
   ]
  },
  {
   "cell_type": "code",
   "execution_count": 7,
   "metadata": {
    "collapsed": true
   },
   "outputs": [],
   "source": [
    "# Berechnung des Abstands für spez. Datenstruktur\n",
    "dist = lambda P: np.sqrt((P[:,0]-P[:,0][:, np.newaxis])**2 + \n",
    "                         (P[:,1]-P[:,1][:, np.newaxis])**2)"
   ]
  },
  {
   "cell_type": "code",
   "execution_count": 8,
   "metadata": {},
   "outputs": [
    {
     "data": {
      "image/png": "[encoded data removed]",
      "text/plain": [
       "<matplotlib.figure.Figure at 0x10bdd1828>"
      ]
     },
     "metadata": {},
     "output_type": "display_data"
    }
   ],
   "source": [
    "def show_bar(P):\n",
    "    plt.figure(figsize=(9,7));\n",
    "    # Wall.\n",
    "    plt.axvline(0, color='g', lw=13);\n",
    "    # Distance matrix.\n",
    "    D = dist(P)\n",
    "    # We plot the springs.\n",
    "    for i, j in zip(I, J):\n",
    "        # The color depends on the spring tension, which\n",
    "        # is proportional to the spring elongation.\n",
    "        c = D[i,j] - L[i,j]\n",
    "        plt.plot(P[[i,j],0], P[[i,j],1], \n",
    "                 lw=2, color=plt.cm.copper(c*150));\n",
    "    # We plot the masses.\n",
    "    plt.plot(P[[I,J],0], P[[I,J],1], 'ok',);\n",
    "    # We configure the axes.\n",
    "    plt.axis('equal');\n",
    "    plt.xlim(P[:,0].min()-e/2, P[:,0].max()+e/2);\n",
    "    plt.ylim(P[:,1].min()-e/2, P[:,1].max()+e/2);\n",
    "    plt.xticks([]); plt.yticks([]);\n",
    "\n",
    "show_bar(P0);\n",
    "plt.title(\"Initial configuration\");"
   ]
  },
  {
   "cell_type": "code",
   "execution_count": 9,
   "metadata": {
    "collapsed": true
   },
   "outputs": [],
   "source": [
    "def energy(P):\n",
    "    # The argument P is a vector (flattened matrix).\n",
    "    # We convert it to a matrix here.\n",
    "    P = P.reshape((-1, 2))\n",
    "    # We compute the distance matrix.\n",
    "    D = dist(P)\n",
    "    # The potential energy is the sum of the\n",
    "    # gravitational and elastic potential energies.\n",
    "    return (g * m * P[:,1].sum() + \n",
    "            .5 * (k * A * (D - L)**2).sum())"
   ]
  },
  {
   "cell_type": "code",
   "execution_count": 10,
   "metadata": {},
   "outputs": [
    {
     "data": {
      "text/plain": [
       "-0.98100000000000009"
      ]
     },
     "execution_count": 10,
     "metadata": {},
     "output_type": "execute_result"
    }
   ],
   "source": [
    "energy(P0.ravel())"
   ]
  },
  {
   "cell_type": "code",
   "execution_count": 11,
   "metadata": {
    "collapsed": true
   },
   "outputs": [],
   "source": [
    "bounds = np.c_[P0[:2,:].ravel(), P0[:2,:].ravel()].tolist() + \\\n",
    "         [[None, None]] * (2*(n-2))\n",
    "P1 = opt.minimize(energy, P0.ravel(),\n",
    "                  method='L-BFGS-B',\n",
    "                  bounds=bounds).x.reshape((-1, 2))"
   ]
  },
  {
   "cell_type": "code",
   "execution_count": 12,
   "metadata": {},
   "outputs": [
    {
     "data": {
      "image/png": "[encoded data removed]",
      "text/plain": [
       "<matplotlib.figure.Figure at 0x10bdd1470>"
      ]
     },
     "metadata": {},
     "output_type": "display_data"
    }
   ],
   "source": [
    "show_bar(P1);\n",
    "plt.title(\"Equilibrium configuration\");"
   ]
  },
  {
   "cell_type": "markdown",
   "metadata": {
    "collapsed": true
   },
   "source": [
    "### ESR Code berechnen"
   ]
  },
  {
   "cell_type": "code",
   "execution_count": 2,
   "metadata": {},
   "outputs": [
    {
     "name": "stdout",
     "output_type": "stream",
     "text": [
      "8\n"
     ]
    }
   ],
   "source": [
    "# ESR Prüfziffer berechnen\n",
    "def calc_ESR_ziffer(nr):\n",
    "    refn = nr.replace(\" \", \"\")\n",
    "    L = [int(i) for i in refn] # Liste aus Ziffern erzeugen\n",
    "    L.pop()         # Hinterste Ziffer (Prüfziffer) entfernen\n",
    "    l = len(L)      # Anzahl Ziffern\n",
    "    c = 0           # Uebertrag (engl. carry) am Anfang\n",
    "    \n",
    "    # Schweizer Code Tabelle\n",
    "    tabelle =  [0, 9, 4, 6, 8, 2, 7, 1, 3, 5]; \n",
    "    for i in range(l):          # Schleife über alle Ziffern von links nach rechts\n",
    "        indx = (c + L[i])%10    # Berechnung indx (Uebertrag + Ziffer ) modulo 10 \n",
    "        c = tabelle[indx]       # Uebertrag aus Tabelle\n",
    "    res = 10 - c                # Prüfziffer 10 - letzter Übertrag\n",
    "    return res\n",
    "\n",
    "#refnr = \"21 57030 00075 20033 45590 00126\"\n",
    "#refnr = \"11 27098 76540 00000 55555 22228\"\n",
    "# Beispiel Post Finance\n",
    "refnr = \"3139471430009018\"\n",
    "print(calc_ESR_ziffer(refnr))"
   ]
  },
  {
   "cell_type": "code",
   "execution_count": 4,
   "metadata": {},
   "outputs": [
    {
     "name": "stdout",
     "output_type": "stream",
     "text": [
      "[3, 1, 3, 9, 4, 7, 1, 4, 3, 0, 0, 0, 9, 0, 1, 8]\n"
     ]
    }
   ],
   "source": [
    "\n",
    "refn = \"3139471430009018\"\n",
    "L = [int(i) for i in refn] \n",
    "\n",
    "print(L)"
   ]
  }
 ],
 "metadata": {
  "anaconda-cloud": {},
  "kernelspec": {
   "display_name": "Python 3",
   "language": "python",
   "name": "python3"
  },
  "language_info": {
   "codemirror_mode": {
    "name": "ipython",
    "version": 3
   },
   "file_extension": ".py",
   "mimetype": "text/x-python",
   "name": "python",
   "nbconvert_exporter": "python",
   "pygments_lexer": "ipython3",
   "version": "3.6.2"
  }
 },
 "nbformat": 4,
 "nbformat_minor": 1
}
