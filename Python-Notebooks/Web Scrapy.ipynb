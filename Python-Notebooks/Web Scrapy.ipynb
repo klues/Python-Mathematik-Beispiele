{
 "cells": [
  {
   "cell_type": "code",
   "execution_count": null,
   "metadata": {
    "collapsed": true
   },
   "outputs": [],
   "source": [
    "import scrapy\n",
    "\n",
    "class BlogSpider(scrapy.Spider):\n",
    "    name = 'blogspider'\n",
    "    start_urls = ['https://blog.scrapinghub.com']\n",
    "\n",
    "    def parse(self, response):\n",
    "        for url in response.css('ul li a::attr(\"href\")').re('.*/category/.*'):\n",
    "            yield scrapy.Request(response.urljoin(url), self.parse_titles)\n",
    "\n",
    "    def parse_titles(self, response):\n",
    "        for post_title in response.css('div.entries > ul > li a::text').extract():\n",
    "            yield {'title': post_title}\n",
    "EOF\n",
    " scrapy runspider myspider.py"
   ]
  }
 ],
 "metadata": {
  "kernelspec": {
   "display_name": "Python 2",
   "language": "python",
   "name": "python2"
  },
  "language_info": {
   "codemirror_mode": {
    "name": "ipython",
    "version": 2
   },
   "file_extension": ".py",
   "mimetype": "text/x-python",
   "name": "python",
   "nbconvert_exporter": "python",
   "pygments_lexer": "ipython2",
   "version": "2.7.11"
  }
 },
 "nbformat": 4,
 "nbformat_minor": 0
}
