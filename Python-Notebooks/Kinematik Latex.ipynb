{
 "cells": [
  {
   "cell_type": "markdown",
   "metadata": {},
   "source": [
    "\n",
    "$\\vec{p_0} = (100,100)$\n",
    "\n",
    "$\\vec{v_0} = (2.5,5)$\n",
    "\n",
    "$\\vec{a} = (0.01,0.02)$\n",
    "\n",
    "$v_x(t) = a_x \\cdot t + {v_{0}}_x$\n",
    "\n",
    "$v_y(t) = a_y \\cdot t + {v_{0}}_y$\n",
    "\n",
    "$p_x(t) = \\frac{1}{2} a_x \\cdot t^2 +  {v_{0}}_x \\cdot t + {p_{0}}_x$\n",
    "\n",
    "$p_y(t) = \\frac{1}{2} a_y \\cdot t^2 +  {v_{0}}_y \\cdot t + {p_{0}}_y$"
   ]
  },
  {
   "cell_type": "markdown",
   "metadata": {},
   "source": [
    "\n",
    "$ \\bar{R} = \\sqrt{N} \\cdot l$"
   ]
  },
  {
   "cell_type": "markdown",
   "metadata": {},
   "source": [
    "$\\vec{v(t)} = \\int_0^t \\vec{a(t)} dt  + \\vec{v_0}$\n",
    "\n",
    "Diskretisierung:\n",
    "\n",
    "$\\vec{v_{i+1}} = \\vec{a_i} \\cdot t + \\vec{v_i}$\n",
    "\n",
    "$\\vec{s(t)} = \\int_0^t \\vec{v(t)} dt + \\vec{s_0}$\n",
    "\n",
    "Diskretisierung:\n",
    "\n",
    "$\\vec{s_{i+1}} = \\vec{v_{i+1}} \\cdot t + \\vec{s_i}$"
   ]
  }
 ],
 "metadata": {
  "kernelspec": {
   "display_name": "Python 3",
   "language": "python",
   "name": "python3"
  },
  "language_info": {
   "codemirror_mode": {
    "name": "ipython",
    "version": 3
   },
   "file_extension": ".py",
   "mimetype": "text/x-python",
   "name": "python",
   "nbconvert_exporter": "python",
   "pygments_lexer": "ipython3",
   "version": "3.6.6"
  }
 },
 "nbformat": 4,
 "nbformat_minor": 2
}
