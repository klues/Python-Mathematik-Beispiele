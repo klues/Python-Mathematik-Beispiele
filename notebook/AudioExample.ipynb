{
 "cells": [
  {
   "cell_type": "code",
   "execution_count": 3,
   "metadata": {
    "collapsed": false
   },
   "outputs": [
    {
     "name": "stderr",
     "output_type": "stream",
     "text": [
      "INFO: Cloning cache of AudioIO from git://github.com/ssfrr/AudioIO.jl.git\n",
      "fatal: unable to connect to github.com:\n",
      "github.com[0: 192.30.252.131]: errno=Operation timed out\n",
      "\n"
     ]
    },
    {
     "ename": "LoadError",
     "evalue": "unlink: no such file or directory (ENOENT)\nwhile loading In[3], in expression starting on line 1",
     "output_type": "error",
     "traceback": [
      "unlink: no such file or directory (ENOENT)\nwhile loading In[3], in expression starting on line 1",
      "",
      " in wait at /Applications/Julia-0.3.8.app/Contents/Resources/julia/lib/julia/sys.dylib (repeats 2 times)",
      " in wait at task.jl:48",
      " in sync_end at /Applications/Julia-0.3.8.app/Contents/Resources/julia/lib/julia/sys.dylib",
      " in add at pkg/entry.jl:319",
      " in add at pkg/entry.jl:71",
      " in anonymous at pkg/dir.jl:28",
      " in cd at /Applications/Julia-0.3.8.app/Contents/Resources/julia/lib/julia/sys.dylib",
      " in __cd#228__ at /Applications/Julia-0.3.8.app/Contents/Resources/julia/lib/julia/sys.dylib",
      " in add at pkg.jl:20"
     ]
    }
   ],
   "source": [
    "Pkg.add(\"AudioIO\")"
   ]
  }
 ],
 "metadata": {
  "kernelspec": {
   "display_name": "Julia 0.3.8",
   "language": "julia",
   "name": "julia-0.3"
  },
  "language_info": {
   "name": "julia",
   "version": "0.3.8"
  }
 },
 "nbformat": 4,
 "nbformat_minor": 0
}
