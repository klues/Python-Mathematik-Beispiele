{
 "cells": [
  {
   "cell_type": "code",
   "execution_count": 24,
   "metadata": {
    "collapsed": false
   },
   "outputs": [
    {
     "data": {
      "text/html": [
       "AudioNode(freq::<b>Real</b>) at <a href=\"https://github.com/ssfrr/AudioIO.jl/tree/26fd1fdf232fbe8a0115203f8c253c8cff7a0827/src/nodes.jl#L27\" target=\"_blank\">/Users/guggisberg/.julia/v0.3/AudioIO/src/nodes.jl:27</a>"
      ],
      "text/plain": [
       "AudioNode(freq::Real) at /Users/guggisberg/.julia/v0.3/AudioIO/src/nodes.jl:27"
      ]
     },
     "execution_count": 24,
     "metadata": {},
     "output_type": "execute_result"
    }
   ],
   "source": [
    "# Pkg.clone(\"AudioIO\")\n",
    "# Pkg.build(\"AudioIO\")\n",
    "#using AudioIO\n",
    "@which SinOsc(440)"
   ]
  },
  {
   "cell_type": "code",
   "execution_count": 23,
   "metadata": {
    "collapsed": false
   },
   "outputs": [
    {
     "data": {
      "text/plain": [
       "AudioNode{SinOscRenderer{T<:Union(Float32,AudioNode{T<:AudioRenderer})}}(true,Condition({}),SinOscRenderer{Float32}(660.0f0,0.0f0,Float32[]))"
      ]
     },
     "execution_count": 23,
     "metadata": {},
     "output_type": "execute_result"
    }
   ],
   "source": [
    "osc1 = SinOsc(440)\n",
    "osc2 = SinOsc(660)\n"
   ]
  },
  {
   "cell_type": "code",
   "execution_count": 18,
   "metadata": {
    "collapsed": false
   },
   "outputs": [
    {
     "data": {
      "text/plain": [
       "AudioNode{SinOscRenderer{T<:Union(Float32,AudioNode{T<:AudioRenderer})}}(true,Condition({}),SinOscRenderer{Float32}(440.0f0,1.3620231f0,Float32[0.0,0.0626483,0.125051,0.186961,0.248138,0.308339,0.36733,0.424877,0.480754,0.534744  …  0.670683,0.715834,0.758174,0.797534,0.833762,0.866714,0.896261,0.922286,0.944689,0.96338]))"
      ]
     },
     "execution_count": 18,
     "metadata": {},
     "output_type": "execute_result"
    }
   ],
   "source": [
    "play(osc1)\n",
    "\n"
   ]
  },
  {
   "cell_type": "code",
   "execution_count": 20,
   "metadata": {
    "collapsed": false
   },
   "outputs": [
    {
     "data": {
      "text/plain": [
       "AudioNode{SinOscRenderer{T<:Union(Float32,AudioNode{T<:AudioRenderer})}}(true,Condition({}),SinOscRenderer{Float32}(660.0f0,1.5575151f0,Float32[-0.466741,-0.381638,-0.293163,-0.202098,-0.109246,-0.0154301,0.0785224,0.171781,0.263522,0.352934  …  0.578733,0.65275,0.720999,0.782877,0.837838,0.885396,0.92513,0.956691,0.979798,0.994247]))"
      ]
     },
     "execution_count": 20,
     "metadata": {},
     "output_type": "execute_result"
    }
   ],
   "source": [
    "play(osc2)"
   ]
  },
  {
   "cell_type": "code",
   "execution_count": 21,
   "metadata": {
    "collapsed": true
   },
   "outputs": [],
   "source": [
    "stop(osc1)\n"
   ]
  },
  {
   "cell_type": "code",
   "execution_count": 22,
   "metadata": {
    "collapsed": true
   },
   "outputs": [],
   "source": [
    "stop(osc2)"
   ]
  },
  {
   "cell_type": "code",
   "execution_count": null,
   "metadata": {
    "collapsed": true
   },
   "outputs": [],
   "source": []
  }
 ],
 "metadata": {
  "kernelspec": {
   "display_name": "Julia 0.3.8",
   "language": "julia",
   "name": "julia-0.3"
  },
  "language_info": {
   "name": "julia",
   "version": "0.3.8"
  }
 },
 "nbformat": 4,
 "nbformat_minor": 0
}
