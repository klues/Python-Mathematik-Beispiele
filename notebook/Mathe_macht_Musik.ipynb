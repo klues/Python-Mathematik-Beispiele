{
 "cells": [
  {
   "cell_type": "markdown",
   "metadata": {
    "slideshow": {
     "slide_type": "slide"
    }
   },
   "source": [
    "### Ping-Pong Activity\n",
    "\n",
    "![ping-pong](images/pingpong.png)\n",
    "\n",
    "In this notebook we will use Julia to simulate the game activity.\n",
    "\n"
   ]
  },
  {
   "cell_type": "markdown",
   "metadata": {
    "slideshow": {
     "slide_type": "fragment"
    }
   },
   "source": [
    "##### Evaluate the Position  in the circle\n",
    "\n",
    "$$\n",
    "pos(n,ping,pong) \\mapsto ??\n",
    "$$"
   ]
  },
  {
   "cell_type": "markdown",
   "metadata": {
    "slideshow": {
     "slide_type": "slide"
    }
   },
   "source": [
    "#### Pseudo-Code\n",
    "\n",
    "    p = 0\n",
    "    step = 1\n",
    "    for i : 1 .. N do\n",
    "        if (i mod ping) xor (i mod pong)\n",
    "            step = (-1)* step\n",
    "        p = p + step\n",
    "    return p\n"
   ]
  },
  {
   "cell_type": "code",
   "execution_count": 46,
   "metadata": {
    "collapsed": false,
    "slideshow": {
     "slide_type": "slide"
    }
   },
   "outputs": [
    {
     "data": {
      "text/plain": [
       "pingpong (generic function with 3 methods)"
      ]
     },
     "execution_count": 46,
     "metadata": {},
     "output_type": "execute_result"
    }
   ],
   "source": [
    "function pingpong(n,ping=3,pong=4) \n",
    "    step = 1\n",
    "    pos = 0\n",
    "    for i in 1:n\n",
    "        if (i%ping==0) !== (i%pong==0)\n",
    "            step *= -1\n",
    "        end\n",
    "        pos += step\n",
    "    end\n",
    "    return pos\n",
    "end"
   ]
  },
  {
   "cell_type": "markdown",
   "metadata": {
    "collapsed": false,
    "slideshow": {
     "slide_type": "slide"
    }
   },
   "source": [
    "### Spiel von 1 bis 30\n"
   ]
  },
  {
   "cell_type": "code",
   "execution_count": 51,
   "metadata": {
    "collapsed": false,
    "slideshow": {
     "slide_type": "fragment"
    }
   },
   "outputs": [
    {
     "data": {
      "text/plain": [
       "30-element Array{Int64,1}:\n",
       "  1\n",
       "  2\n",
       "  1\n",
       "  2\n",
       "  3\n",
       "  2\n",
       "  1\n",
       "  2\n",
       "  1\n",
       "  0\n",
       " -1\n",
       " -2\n",
       " -3\n",
       "  ⋮\n",
       " -3\n",
       " -4\n",
       " -3\n",
       " -2\n",
       " -1\n",
       "  0\n",
       "  1\n",
       "  2\n",
       "  1\n",
       "  2\n",
       "  3\n",
       "  2"
      ]
     },
     "execution_count": 51,
     "metadata": {},
     "output_type": "execute_result"
    }
   ],
   "source": [
    "y = [pingpong(n) for n in 1:30]"
   ]
  },
  {
   "cell_type": "code",
   "execution_count": 53,
   "metadata": {
    "collapsed": false,
    "slideshow": {
     "slide_type": "slide"
    }
   },
   "outputs": [
    {
     "name": "stderr",
     "output_type": "stream",
     "text": [
      "INFO: Loading help data...\n"
     ]
    },
    {
     "data": {
      "image/png": "[encoded data removed]",
      "text/plain": [
       "Figure(PyObject <matplotlib.figure.Figure object at 0x119637ed0>)"
      ]
     },
     "metadata": {},
     "output_type": "display_data"
    },
    {
     "data": {
      "text/plain": [
       "1-element Array{Any,1}:\n",
       " PyObject <matplotlib.lines.Line2D object at 0x12218b490>"
      ]
     },
     "execution_count": 53,
     "metadata": {},
     "output_type": "execute_result"
    }
   ],
   "source": [
    "using PyPlot;\n",
    "plot(y)"
   ]
  },
  {
   "cell_type": "code",
   "execution_count": 52,
   "metadata": {
    "collapsed": false,
    "slideshow": {
     "slide_type": "slide"
    }
   },
   "outputs": [
    {
     "name": "stdout",
     "output_type": "stream",
     "text": [
      "\t.section\t__TEXT,__text,regular,pure_instructions\n",
      "Filename: In[13]\n",
      "Source line: 2\n",
      "\tpush\tRBP\n",
      "\tmov\tRBP, RSP\n",
      "Source line: 2\n",
      "\tmovabs\tRAX, 4588253200\n",
      "\tmov\tESI, 3\n",
      "\tmov\tEDX, 4\n",
      "\tcall\tRAX\n",
      "\tpop\tRBP\n",
      "\tret\n"
     ]
    }
   ],
   "source": [
    "@code_native pinpong(30)"
   ]
  },
  {
   "cell_type": "code",
   "execution_count": 7,
   "metadata": {
    "collapsed": false
   },
   "outputs": [
    {
     "name": "stdout",
     "output_type": "stream",
     "text": [
      "1\t2\t3\t4\t5\t6\t7\t8\t9\t10\t"
     ]
    }
   ],
   "source": [
    "for i in 1:10 \n",
    "    print(i)\n",
    "    print('\\t')\n",
    "end"
   ]
  },
  {
   "cell_type": "code",
   "execution_count": 8,
   "metadata": {
    "collapsed": false
   },
   "outputs": [
    {
     "name": "stdout",
     "output_type": "stream",
     "text": [
      "ping"
     ]
    }
   ],
   "source": [
    "ping = 3\n",
    "n = 9\n",
    "if n%ping==0\n",
    "    print (\"ping\")\n",
    "end"
   ]
  }
 ],
 "metadata": {
  "celltoolbar": "Slideshow",
  "kernelspec": {
   "display_name": "Julia 0.3.7",
   "language": "julia",
   "name": "julia 0.3"
  },
  "language_info": {
   "name": "julia",
   "version": "0.3.7"
  }
 },
 "nbformat": 4,
 "nbformat_minor": 0
}
