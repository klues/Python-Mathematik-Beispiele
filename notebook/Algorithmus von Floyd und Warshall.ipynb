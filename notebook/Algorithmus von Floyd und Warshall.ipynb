{
 "cells": [
  {
   "cell_type": "markdown",
   "metadata": {},
   "source": [
    "## Algorithmus von Floyd and Warshall\n",
    "\n",
    "#### Kürzeste Wege"
   ]
  },
  {
   "cell_type": "markdown",
   "metadata": {},
   "source": [
    "```pseudocode\n",
    "procedure [array] FloydWarshall(D, P)\n",
    "  for k in 1 to n do\n",
    "    for i in 1 to n do\n",
    "      for j in 1 to n do\n",
    "        if D[i][j] > D[i][k] + D[k][j] then\n",
    "          D[i][j] = D[i][k] + D[k][j]\n",
    "          P[i][j] = P[k][j]\n",
    "  return P\n",
    "```\n",
    "[Simulation](https://www.cs.usfca.edu/~galles/visualization/Floyd.html)\n",
    "\n",
    "[Beispiele](https://compprog.wordpress.com/2007/11/15/all-sources-shortest-path-the-floyd-warshall-algorithm/)"
   ]
  },
  {
   "cell_type": "code",
   "execution_count": 1,
   "metadata": {
    "collapsed": false
   },
   "outputs": [
    {
     "data": {
      "text/plain": [
       "5x5 Array{Int64,2}:\n",
       "  0  10   0   5   0\n",
       " 10   0   5   5  10\n",
       "  0   5   0   0   0\n",
       "  5   5   0   0  20\n",
       "  0  10  20  20   0"
      ]
     },
     "execution_count": 1,
     "metadata": {},
     "output_type": "execute_result"
    }
   ],
   "source": [
    "D = [\n",
    "    [0,10,0,5,0]\n",
    "    [10,0,5,5,10]\n",
    "    [0,5,0,0,20]\n",
    "    [5,5,0,0,20]\n",
    "    [0,10,0,20,0]\n",
    "]\n",
    "\n",
    "A = reshape(D, 5, 5)"
   ]
  },
  {
   "cell_type": "code",
   "execution_count": 3,
   "metadata": {
    "collapsed": false
   },
   "outputs": [
    {
     "name": "stdout",
     "output_type": "stream",
     "text": [
      "[0,10,0,5,0,10,0,5,5,10,0,5,0,0,20,5,5,0,0,20,0,10,0,20,0]"
     ]
    },
    {
     "ename": "LoadError",
     "evalue": "`to_dot` has no method matching to_dot(::GenericAdjacencyList{Int64,UnitRange{Int64},Array{Array{Int64,1},1}}, ::Pipe)\nwhile loading In[3], in expression starting on line 7",
     "output_type": "error",
     "traceback": [
      "`to_dot` has no method matching to_dot(::GenericAdjacencyList{Int64,UnitRange{Int64},Array{Array{Int64,1},1}}, ::Pipe)\nwhile loading In[3], in expression starting on line 7",
      "",
      " in plot at /Users/guggisbe/.julia/v0.3/Graphs/src/dot.jl:86"
     ]
    }
   ],
   "source": [
    "\n",
    "using Graphs\n",
    "\n",
    "\n",
    "print(D)\n",
    "g = simple_adjlist(A, is_directed=false)\n",
    "plot(g)\n"
   ]
  }
 ],
 "metadata": {
  "kernelspec": {
   "display_name": "Julia 0.3.7",
   "language": "julia",
   "name": "julia 0.3"
  },
  "language_info": {
   "name": "julia",
   "version": "0.3.8"
  }
 },
 "nbformat": 4,
 "nbformat_minor": 0
}
