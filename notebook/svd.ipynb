{
 "cells": [
  {
   "cell_type": "code",
   "execution_count": 2,
   "metadata": {
    "collapsed": false
   },
   "outputs": [
    {
     "data": {
      "text/plain": [
       "(\n",
       "8x8 Array{Float64,2}:\n",
       " -0.313773   0.63047     0.509089   …  -0.124343    0.0858669   0.428752 \n",
       " -0.239098  -0.421986    0.237885       0.546886    0.377526    0.0808479\n",
       " -0.233683   0.130696   -0.423489      -0.424318    0.657189   -0.242519 \n",
       " -0.412169   0.0493972  -0.444988       0.236437    0.127271    0.462627 \n",
       " -0.410774  -0.398549   -0.0854409     -0.507075   -0.465753    0.22819  \n",
       " -0.444841   0.320308   -0.287358   …   0.414901   -0.414599   -0.393212 \n",
       " -0.447415  -0.0940023   0.450951      -0.141698    0.0708032  -0.54908  \n",
       " -0.230409  -0.366933    0.116835      -0.0126462   0.0904118   0.169177 ,\n",
       "\n",
       "[4.19452,1.25402,1.07033,0.703226,0.405024,0.389118,0.209766,0.00301578],\n",
       "8x8 Array{Float64,2}:\n",
       " -0.227403   0.616998     0.356737   …   0.257333   -0.582176   -0.0474541\n",
       " -0.360254  -0.3932      -0.222614       0.707382   -0.0134694   0.180096 \n",
       " -0.352619   0.356669    -0.405272      -0.442152    0.192603    0.222521 \n",
       " -0.322331  -0.231076     0.69905       -0.152859    0.306367   -0.266438 \n",
       " -0.343927   0.00682571   0.294621      -0.0661605   0.238053    0.588407 \n",
       " -0.367914   0.404718    -0.181949   …   0.305988    0.460044   -0.30722  \n",
       " -0.411965  -0.248377    -0.0766045     -0.247782   -0.460746    0.249679 \n",
       " -0.408541  -0.241999    -0.210927      -0.234784   -0.222117   -0.58469  )"
      ]
     },
     "execution_count": 2,
     "metadata": {},
     "output_type": "execute_result"
    }
   ],
   "source": [
    "(u,Σ,V) = svd(M)"
   ]
  },
  {
   "cell_type": "code",
   "execution_count": 4,
   "metadata": {
    "collapsed": false
   },
   "outputs": [
    {
     "data": {
      "text/plain": [
       "8x8 Array{Float64,2}:\n",
       " 0.979053   0.0574943  0.625941  0.680437   …  0.63893    0.265102  0.22123 \n",
       " 0.0242542  0.747997   0.125055  0.734075      0.141846   0.439489  0.309876\n",
       " 0.0687576  0.34185    0.795251  0.0944498     0.438603   0.315003  0.439613\n",
       " 0.205472   0.62006    0.564967  0.0750416     0.972013   0.842372  0.799202\n",
       " 0.0689152  0.75276    0.625578  0.6888        0.307107   0.952499  0.830377\n",
       " 0.69344    0.779413   0.956258  0.300111   …  0.803604   0.589428  0.716873\n",
       " 0.447356   0.445383   0.255756  0.872008      0.706729   0.899158  0.733092\n",
       " 0.0137118  0.536246   0.161803  0.448824      0.0254878  0.274136  0.651029"
      ]
     },
     "execution_count": 4,
     "metadata": {},
     "output_type": "execute_result"
    }
   ],
   "source": [
    "M2 = u*diagm(Σ)*V'"
   ]
  },
  {
   "cell_type": "code",
   "execution_count": 6,
   "metadata": {
    "collapsed": false
   },
   "outputs": [
    {
     "data": {
      "text/plain": [
       "8x8 Array{Float64,2}:\n",
       " -1.11022e-15   1.11716e-15  -1.11022e-16  …   5.55112e-16   4.44089e-16\n",
       "  2.28983e-16   3.33067e-16  -5.55112e-17      5.55112e-17   2.77556e-16\n",
       "  2.22045e-16   0.0          -2.22045e-16     -5.55112e-17  -1.66533e-16\n",
       "  3.60822e-16   5.55112e-16  -1.11022e-16     -2.22045e-16  -1.11022e-16\n",
       "  3.60822e-16  -5.55112e-16   2.22045e-16     -2.22045e-16  -1.11022e-16\n",
       "  0.0           5.55112e-16  -3.33067e-16  …  -1.11022e-16  -2.22045e-16\n",
       " -1.11022e-16   4.996e-16     3.88578e-16      1.11022e-16   2.22045e-16\n",
       "  2.42861e-16   0.0           1.38778e-16     -5.55112e-17  -1.11022e-16"
      ]
     },
     "execution_count": 6,
     "metadata": {},
     "output_type": "execute_result"
    }
   ],
   "source": [
    "delta = M2-M"
   ]
  },
  {
   "cell_type": "code",
   "execution_count": 1,
   "metadata": {
    "collapsed": false
   },
   "outputs": [
    {
     "data": {
      "text/plain": [
       "8x8 Array{Float64,2}:\n",
       " 0.979053   0.0574943  0.625941  0.680437   …  0.63893    0.265102  0.22123 \n",
       " 0.0242542  0.747997   0.125055  0.734075      0.141846   0.439489  0.309876\n",
       " 0.0687576  0.34185    0.795251  0.0944498     0.438603   0.315003  0.439613\n",
       " 0.205472   0.62006    0.564967  0.0750416     0.972013   0.842372  0.799202\n",
       " 0.0689152  0.75276    0.625578  0.6888        0.307107   0.952499  0.830377\n",
       " 0.69344    0.779413   0.956258  0.300111   …  0.803604   0.589428  0.716873\n",
       " 0.447356   0.445383   0.255756  0.872008      0.706729   0.899158  0.733092\n",
       " 0.0137118  0.536246   0.161803  0.448824      0.0254878  0.274136  0.651029"
      ]
     },
     "execution_count": 1,
     "metadata": {},
     "output_type": "execute_result"
    }
   ],
   "source": [
    "M = rand(8,8)"
   ]
  },
  {
   "cell_type": "code",
   "execution_count": 12,
   "metadata": {
    "collapsed": false
   },
   "outputs": [
    {
     "data": {
      "text/plain": [
       "2x2 Array{Float64,2}:\n",
       " 2.0  1.0\n",
       " 1.0  1.0"
      ]
     },
     "execution_count": 12,
     "metadata": {},
     "output_type": "execute_result"
    }
   ],
   "source": [
    "w = [1.,1.]\n",
    "M = reshape([2.,1.,1.,1.],(2,2))\n"
   ]
  },
  {
   "cell_type": "code",
   "execution_count": 14,
   "metadata": {
    "collapsed": false
   },
   "outputs": [
    {
     "name": "stdout",
     "output_type": "stream",
     "text": [
      "[0.8320502943378436,0.554700196225229]\n",
      "[0.847998304005088,0.52999894000318]\n",
      "[0.8502651466878618,0.5263546146162954]\n",
      "[0.8505945695460382,0.5258220975375509]\n",
      "[0.8506426038271653,0.525744387087623]\n",
      "[0.8506496113409004,0.5257330489189119]\n",
      "[0.850650633710743,0.5257313946945829]\n",
      "[0.850650782872224,0.5257311533463396]\n",
      "[0.8506508046345851,0.525731118134102]\n",
      "[0.8506508078096706,0.5257311129967057]\n"
     ]
    }
   ],
   "source": [
    "w = [1.,1.]\n",
    "for i in 1:10\n",
    "    w_new = M*w\n",
    "    w_new = w_new/norm(w_new)\n",
    "    println(w_new)\n",
    "    w = w_new\n",
    "end"
   ]
  },
  {
   "cell_type": "code",
   "execution_count": 22,
   "metadata": {
    "collapsed": false
   },
   "outputs": [
    {
     "name": "stdout",
     "output_type": "stream",
     "text": [
      "[0.8320502943378436,0.554700196225229]\n",
      "[0.847998304005088,0.52999894000318]\n",
      "[0.8502651466878618,0.5263546146162954]\n",
      "[0.8505945695460382,0.5258220975375509]\n",
      "[0.8506426038271653,0.525744387087623]\n",
      "[0.8506496113409004,0.5257330489189119]\n",
      "[0.850650633710743,0.5257313946945829]\n",
      "[0.850650782872224,0.5257311533463396]\n",
      "[0.8506508046345851,0.525731118134102]\n",
      "[0.8506508078096706,0.5257311129967057]\n",
      "[0.8506508082729094,0.5257311122471696]\n",
      "[0.8506508083404949,0.5257311121378138]\n",
      "[0.8506508083503556,0.525731112121859]\n",
      "[0.8506508083517942,0.5257311121195312]\n",
      "[0.850650808352004,0.5257311121191915]\n"
     ]
    }
   ],
   "source": [
    "w = [1.,1.]\n",
    "maxerr = 1.0e-12\n",
    "err = 1.0\n",
    "while (err > maxerr)\n",
    "    w_new = M*w\n",
    "    w_new = w_new/norm(w_new)\n",
    "    println(w_new)\n",
    "    err = norm(w_new-w)\n",
    "    w = w_new\n",
    "end"
   ]
  },
  {
   "cell_type": "code",
   "execution_count": 23,
   "metadata": {
    "collapsed": false
   },
   "outputs": [
    {
     "data": {
      "text/plain": [
       "(\n",
       "100x100 Array{BigFloat,2}:\n",
       " 1e+00                                                                                 …  0e+00\n",
       " 6.482186325598420372813177870158790435734810000793847332541311929502772453692702e-03     0e+00\n",
       " 6.497881519197981608398499655690207239441785495763055245000016984954155223466667e-01     0e+00\n",
       " 9.414917063273450843044092431133848125324278795739051430162286038341805052056216e-01     0e+00\n",
       " 9.869027116859920817781623602998885459741672250023167394330155237529124769418096e-01     0e+00\n",
       " 3.606823052470973925981035821034936057896910641086228077420658683511966007680514e-03  …  0e+00\n",
       " 1.787048066051802174032798918505541898321634203365459108794475171862906595866659e-01     0e+00\n",
       " 7.446394398489431831368387733697494963469650878433095128650650085418707984434589e-02     0e+00\n",
       " 3.269692147984345600480662116458466279641153267638912865995958681636108790815817e-01     0e+00\n",
       " 8.531694771741609286721925367993022705707049535353510221922795329087742246681918e-01     0e+00\n",
       " 6.086914798316530440266884324109207450786271119456464559064975556465103547126201e-01  …  0e+00\n",
       " 1.291286060656733589030640418977133090475985102403238131619574116398072349970134e-01     0e+00\n",
       " 4.050539697022162633036674324739697233926753982968835859168428463473249511187898e-02     0e+00\n",
       " ⋮                                                                                     ⋱       \n",
       " 3.427744416209267534945307020037841393272397502740739435254849843850359159429984e-01     0e+00\n",
       " 1.455104549013732634940559169018238133011452668721676904371775749200562434042044e-01     0e+00\n",
       " 6.843721788655535817288265513543076042596478595443440377935797891409482238074981e-02  …  0e+00\n",
       " 3.454278000858950735721685614876409804366817701243481477382747427636196958828321e-01     0e+00\n",
       " 1.341691193086016165610811120932729229357099920038198632394602726143230738251464e-01     0e+00\n",
       " 8.765423837601331651708958680214397247317504235334951601598650960861915129267031e-01     0e+00\n",
       " 9.927337792713995477813080592962663718851961386246380754494703676669629449800855e-01     0e+00\n",
       " 3.73116487242389795371624757518503362598099474019100035026306508388147512448982e-01   …  0e+00\n",
       " 6.772685338322817540749272133719409654153366167792527696579004918397955030208964e-01     0e+00\n",
       " 8.114516361732661990302933504022528514527081039420958588146397384425110715650817e-01     0e+00\n",
       " 5.053856407066994121689370961095271861355658218250545504118205534173013667276814e-01     0e+00\n",
       " 8.522269576731832997302930807584732981880316985691156459190712020835526698567409e-01     1e+00,\n",
       "\n",
       "100x100 Array{BigFloat,2}:\n",
       " 9.912089577340221779877538210712373256683349609375e-01  …   9.70162025649058623599785278202034533023834228515625e-01                            \n",
       " 0e+00                                                       9.444397282626006226245091777353875477637345233474976770674124191661598653814884e-01\n",
       " 0e+00                                                       1.244475323758839308756798931954952293327796357708913701064080929488532699911291e-01\n",
       " 0e+00                                                      -3.485611086029355370740505418133648313527913511835938554785868739492263617193991e-01\n",
       " 0e+00                                                       2.095967729982831654744047224764308275150142822205330997066625104937378088369345e-01\n",
       " 0e+00                                                   …  -5.645997813874290403843008471311856800209653888319212210252561853438118738446379e-01\n",
       " 0e+00                                                       3.692075170952848922591096534317343889940974293433277369918883526991278550734054e-01\n",
       " 0e+00                                                       7.700632220260074215699695775919649543156136041137719863924857742474689215503302e-01\n",
       " 0e+00                                                       5.544111656212117350028356483768833951450854402653952509572523592259838661521695e-01\n",
       " 0e+00                                                       3.183662517278683974040870564448586191358208521569231158356265088238702219602319e-01\n",
       " 0e+00                                                   …  -3.422499119542996243150984446263743374878975128127703838676138972879394843105768e-02\n",
       " 0e+00                                                      -5.17427035566003461854748152451888370618216698633879011950085795044012914265519e-01 \n",
       " 0e+00                                                      -3.488018558144517803871642293842272163841929268132459969687891447130791465566016e-01\n",
       " ⋮                                                       ⋱                                                                                       \n",
       " 0e+00                                                       2.549507546775994814349919345802089856455054182666067144373959399838892706460567e+00\n",
       " 0e+00                                                       7.987218105051965217114016474050769984848035403751315011310343501320556890078706e-01\n",
       " 0e+00                                                   …  -2.69831780413451202788120854783915307719270451969042518768108045718365155378675e-01 \n",
       " 0e+00                                                      -6.163496308683282048575703538945625699072015910486255572513782172707135167974796e-01\n",
       " 0e+00                                                      -2.500050242160755939254908278461740300357640946166673968945843456129118576239656e+00\n",
       " 0e+00                                                      -1.526321479751702955526649700127292152676971451211847626437058176319664977976862e+00\n",
       " 0e+00                                                      -1.281618873447192399750052039251734510918182991234264017275971725091274334105468e-01\n",
       " 0e+00                                                   …   1.451774201228162891198790911686252690942837117027773767087499075579054629754959e+00\n",
       " 0e+00                                                       1.430245650462334011643451289923533772647258822104296103329947486097467645422461e+00\n",
       " 0e+00                                                       4.149942834445634617047343208085909165908174646559592472718730291093571359208528e-01\n",
       " 0e+00                                                       1.04472467624743903116544036160904823095692275930088652850802600178814224978871e+00 \n",
       " 0e+00                                                      -3.620734103558522210753065219612244065516343702878540847422525580252369858400454e-02,\n",
       "\n",
       "[30,23,62,21,100,17,60,54,22,53  …  29,75,19,40,59,82,94,5,4,37])"
      ]
     },
     "execution_count": 23,
     "metadata": {},
     "output_type": "execute_result"
    }
   ],
   "source": [
    "M = rand(100,100)\n",
    "M2 = map(big, M)\n",
    "lu(M2)"
   ]
  },
  {
   "cell_type": "code",
   "execution_count": 24,
   "metadata": {
    "collapsed": false
   },
   "outputs": [
    {
     "data": {
      "text/html": [
       "2 methods for generic function <b>lu</b>:<ul><li> lu(x::<b>Number</b>) at <a href=\"https://github.com/JuliaLang/julia/tree/cb9bcae93a32b42cec02585c387396ff11836aed/base/linalg/lu.jl#L69\" target=\"_blank\">linalg/lu.jl:69</a><li> lu(A::<b>AbstractArray{T,2}</b>) at <a href=\"https://github.com/JuliaLang/julia/tree/cb9bcae93a32b42cec02585c387396ff11836aed/base/linalg/lu.jl#L71\" target=\"_blank\">linalg/lu.jl:71</a></ul>"
      ],
      "text/plain": [
       "# 2 methods for generic function \"lu\":\n",
       "lu(x::Number) at linalg/lu.jl:69\n",
       "lu(A::AbstractArray{T,2}) at linalg/lu.jl:71"
      ]
     },
     "execution_count": 24,
     "metadata": {},
     "output_type": "execute_result"
    }
   ],
   "source": [
    "methods(lu)\n"
   ]
  },
  {
   "cell_type": "code",
   "execution_count": 25,
   "metadata": {
    "collapsed": false
   },
   "outputs": [
    {
     "name": "stdout",
     "output_type": "stream",
     "text": [
      "Unknown editor: no line number information passed.\n",
      "The method is defined at line 71.\n"
     ]
    }
   ],
   "source": [
    "@edit lu(M2)\n"
   ]
  },
  {
   "cell_type": "code",
   "execution_count": 30,
   "metadata": {
    "collapsed": false
   },
   "outputs": [
    {
     "data": {
      "text/plain": [
       "dup (generic function with 1 method)"
      ]
     },
     "execution_count": 30,
     "metadata": {},
     "output_type": "execute_result"
    }
   ],
   "source": [
    "dup(x) = x^2\n",
    "\n"
   ]
  },
  {
   "cell_type": "code",
   "execution_count": 31,
   "metadata": {
    "collapsed": false
   },
   "outputs": [
    {
     "data": {
      "text/plain": [
       "9"
      ]
     },
     "execution_count": 31,
     "metadata": {},
     "output_type": "execute_result"
    }
   ],
   "source": [
    "dup(3)\n"
   ]
  },
  {
   "cell_type": "code",
   "execution_count": 32,
   "metadata": {
    "collapsed": false
   },
   "outputs": [
    {
     "data": {
      "text/plain": [
       "\"hellohello\""
      ]
     },
     "execution_count": 32,
     "metadata": {},
     "output_type": "execute_result"
    }
   ],
   "source": [
    "dup(\"hello\")"
   ]
  },
  {
   "cell_type": "code",
   "execution_count": 33,
   "metadata": {
    "collapsed": false
   },
   "outputs": [
    {
     "ename": "LoadError",
     "evalue": "`+` has no method matching +(::ASCIIString, ::ASCIIString)\nwhile loading In[33], in expression starting on line 1",
     "output_type": "error",
     "traceback": [
      "`+` has no method matching +(::ASCIIString, ::ASCIIString)\nwhile loading In[33], in expression starting on line 1",
      ""
     ]
    }
   ],
   "source": [
    "\"gugus\" + \"Sam\""
   ]
  },
  {
   "cell_type": "code",
   "execution_count": 35,
   "metadata": {
    "collapsed": false
   },
   "outputs": [
    {
     "data": {
      "text/plain": [
       "+ (generic function with 118 methods)"
      ]
     },
     "execution_count": 35,
     "metadata": {},
     "output_type": "execute_result"
    }
   ],
   "source": [
    "+(s1::String, s2::String) = string(s1, \":\",s2)"
   ]
  },
  {
   "cell_type": "code",
   "execution_count": 36,
   "metadata": {
    "collapsed": false
   },
   "outputs": [
    {
     "data": {
      "text/plain": [
       "\"gugus:Sam\""
      ]
     },
     "execution_count": 36,
     "metadata": {},
     "output_type": "execute_result"
    }
   ],
   "source": [
    "\"gugus\" + \"Sam\""
   ]
  },
  {
   "cell_type": "code",
   "execution_count": 38,
   "metadata": {
    "collapsed": false
   },
   "outputs": [
    {
     "data": {
      "text/html": [
       "//(n::<b>Integer</b>,d::<b>Integer</b>) at <a href=\"https://github.com/JuliaLang/julia/tree/cb9bcae93a32b42cec02585c387396ff11836aed/base/rational.jl#L15\" target=\"_blank\">rational.jl:15</a>"
      ],
      "text/plain": [
       "//(n::Integer,d::Integer) at rational.jl:15"
      ]
     },
     "execution_count": 38,
     "metadata": {},
     "output_type": "execute_result"
    }
   ],
   "source": [
    "@which 3//4\n",
    "\n"
   ]
  },
  {
   "cell_type": "markdown",
   "metadata": {
    "slideshow": {
     "slide_type": "notes"
    }
   },
   "source": [
    "**Excercise**: Define a prticle with postion and velocity\n",
    " and define Math operation. Define fuction `move` that acts on a particle to move it over a time \\delta t"
   ]
  },
  {
   "cell_type": "code",
   "execution_count": 56,
   "metadata": {
    "collapsed": true
   },
   "outputs": [],
   "source": [
    "immutable Vector2D\n",
    "    x::Float64\n",
    "    y::Float64\n",
    "end"
   ]
  },
  {
   "cell_type": "code",
   "execution_count": 57,
   "metadata": {
    "collapsed": false
   },
   "outputs": [
    {
     "data": {
      "text/plain": [
       "+ (generic function with 119 methods)"
      ]
     },
     "execution_count": 57,
     "metadata": {},
     "output_type": "execute_result"
    }
   ],
   "source": [
    "+(v::Vector2D, w::Vector2D) = Vector2D(v.x+w.x, v.y+w.y)"
   ]
  },
  {
   "cell_type": "code",
   "execution_count": 58,
   "metadata": {
    "collapsed": false
   },
   "outputs": [
    {
     "data": {
      "text/plain": [
       "[6.0,8.0]"
      ]
     },
     "execution_count": 58,
     "metadata": {},
     "output_type": "execute_result"
    }
   ],
   "source": [
    "k = Vector2D(2,3)\n",
    "g = Vector2D(4,5)\n",
    "g+k"
   ]
  },
  {
   "cell_type": "code",
   "execution_count": 59,
   "metadata": {
    "collapsed": false
   },
   "outputs": [
    {
     "data": {
      "text/plain": [
       "* (generic function with 117 methods)"
      ]
     },
     "execution_count": 59,
     "metadata": {},
     "output_type": "execute_result"
    }
   ],
   "source": [
    "*(v::Vector2D, α::Number) = Vector2D(v.x*α,v.y*α)"
   ]
  },
  {
   "cell_type": "code",
   "execution_count": 60,
   "metadata": {
    "collapsed": false
   },
   "outputs": [
    {
     "data": {
      "text/plain": [
       "* (generic function with 117 methods)"
      ]
     },
     "execution_count": 60,
     "metadata": {},
     "output_type": "execute_result"
    }
   ],
   "source": [
    "*( α::Number, v::Vector2D) = Vector2D(v.x*α,v.y*α)"
   ]
  },
  {
   "cell_type": "code",
   "execution_count": 61,
   "metadata": {
    "collapsed": false
   },
   "outputs": [
    {
     "data": {
      "text/plain": [
       "[16.0,20.0]"
      ]
     },
     "execution_count": 61,
     "metadata": {},
     "output_type": "execute_result"
    }
   ],
   "source": [
    "4*g\n"
   ]
  },
  {
   "cell_type": "code",
   "execution_count": 62,
   "metadata": {
    "collapsed": false
   },
   "outputs": [
    {
     "data": {
      "text/plain": [
       "show (generic function with 86 methods)"
      ]
     },
     "execution_count": 62,
     "metadata": {},
     "output_type": "execute_result"
    }
   ],
   "source": [
    "import Base.show\n",
    "\n",
    "show(io::IO, v::Vector2D) = print(io, \"[$(v.x),$(v.y)]\")"
   ]
  },
  {
   "cell_type": "code",
   "execution_count": 63,
   "metadata": {
    "collapsed": false
   },
   "outputs": [
    {
     "data": {
      "text/plain": [
       "[4.0,5.0]"
      ]
     },
     "execution_count": 63,
     "metadata": {},
     "output_type": "execute_result"
    }
   ],
   "source": [
    "g"
   ]
  },
  {
   "cell_type": "code",
   "execution_count": 74,
   "metadata": {
    "collapsed": false
   },
   "outputs": [
    {
     "data": {
      "text/plain": [
       "move (generic function with 1 method)"
      ]
     },
     "execution_count": 74,
     "metadata": {},
     "output_type": "execute_result"
    }
   ],
   "source": [
    "type Particle\n",
    "    position::Vector2D\n",
    "    velocity::Vector2D\n",
    "end\n",
    "\n",
    "move(p::Particle, dt::Real) = p.position += p.velocity*dt\n"
   ]
  },
  {
   "cell_type": "code",
   "execution_count": 75,
   "metadata": {
    "collapsed": false
   },
   "outputs": [
    {
     "data": {
      "text/plain": [
       "show (generic function with 87 methods)"
      ]
     },
     "execution_count": 75,
     "metadata": {},
     "output_type": "execute_result"
    }
   ],
   "source": [
    "show(io::IO, p::Particle) = print(io, \"pos: $(p.position); vel: $(p.velocity)\")"
   ]
  },
  {
   "cell_type": "code",
   "execution_count": 76,
   "metadata": {
    "collapsed": false
   },
   "outputs": [
    {
     "data": {
      "text/plain": [
       "pos: [0.0,0.0]; vel: [1.0,1.0]"
      ]
     },
     "execution_count": 76,
     "metadata": {},
     "output_type": "execute_result"
    }
   ],
   "source": [
    "P = Particle(Vector2D(0.,0.),Vector2D(1.,1.))"
   ]
  },
  {
   "cell_type": "code",
   "execution_count": 77,
   "metadata": {
    "collapsed": false
   },
   "outputs": [
    {
     "data": {
      "text/plain": [
       "[0.1,0.1]"
      ]
     },
     "execution_count": 77,
     "metadata": {},
     "output_type": "execute_result"
    }
   ],
   "source": [
    "move(P,0.1)\n"
   ]
  },
  {
   "cell_type": "code",
   "execution_count": 78,
   "metadata": {
    "collapsed": false
   },
   "outputs": [
    {
     "data": {
      "text/plain": [
       "pos: [0.1,0.1]; vel: [1.0,1.0]"
      ]
     },
     "execution_count": 78,
     "metadata": {},
     "output_type": "execute_result"
    }
   ],
   "source": [
    "P"
   ]
  }
 ],
 "metadata": {
  "kernelspec": {
   "display_name": "Julia 0.3.7",
   "language": "julia",
   "name": "julia 0.3"
  },
  "language_info": {
   "name": "julia",
   "version": "0.3.7"
  }
 },
 "nbformat": 4,
 "nbformat_minor": 0
}
