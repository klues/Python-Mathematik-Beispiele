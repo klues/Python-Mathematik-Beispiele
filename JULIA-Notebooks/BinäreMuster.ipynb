{
 "cells": [
  {
   "cell_type": "code",
   "execution_count": 13,
   "metadata": {
    "collapsed": false
   },
   "outputs": [],
   "source": [
    "\n",
    "using PyPlot\n",
    "using PyCall"
   ]
  },
  {
   "cell_type": "code",
   "execution_count": 3,
   "metadata": {
    "collapsed": false
   },
   "outputs": [
    {
     "data": {
      "text/plain": [
       "1234566"
      ]
     },
     "execution_count": 3,
     "metadata": {},
     "output_type": "execute_result"
    }
   ],
   "source": [
    "a = 1234566"
   ]
  },
  {
   "cell_type": "code",
   "execution_count": 4,
   "metadata": {
    "collapsed": false
   },
   "outputs": [
    {
     "data": {
      "text/plain": [
       "\"0000000000000000000000000000000000000000000100101101011010000110\""
      ]
     },
     "execution_count": 4,
     "metadata": {},
     "output_type": "execute_result"
    }
   ],
   "source": [
    "bits(a)"
   ]
  },
  {
   "cell_type": "code",
   "execution_count": 7,
   "metadata": {
    "collapsed": false
   },
   "outputs": [
    {
     "ename": "LoadError",
     "evalue": "LoadError: MethodError: `bitunpack` has no method matching bitunpack(::Int64)\nwhile loading In[7], in expression starting on line 1",
     "output_type": "error",
     "traceback": [
      "LoadError: MethodError: `bitunpack` has no method matching bitunpack(::Int64)\nwhile loading In[7], in expression starting on line 1",
      ""
     ]
    }
   ],
   "source": [
    "bitunpack(a)"
   ]
  },
  {
   "cell_type": "code",
   "execution_count": 9,
   "metadata": {
    "collapsed": false
   },
   "outputs": [
    {
     "data": {
      "text/plain": [
       "\"0000000000000000000000000000000000000000000100101101011010000110\""
      ]
     },
     "execution_count": 9,
     "metadata": {},
     "output_type": "execute_result"
    }
   ],
   "source": [
    "b=bits(a)"
   ]
  },
  {
   "cell_type": "code",
   "execution_count": 15,
   "metadata": {
    "collapsed": false
   },
   "outputs": [
    {
     "data": {
      "text/plain": [
       "0-element Array{Int64,1}"
      ]
     },
     "execution_count": 15,
     "metadata": {},
     "output_type": "execute_result"
    }
   ],
   "source": [
    "a3 = Int64[]\n"
   ]
  },
  {
   "cell_type": "code",
   "execution_count": 21,
   "metadata": {
    "collapsed": false
   },
   "outputs": [
    {
     "data": {
      "text/plain": [
       "0-element Array{Array{Int64,2},1}"
      ]
     },
     "execution_count": 21,
     "metadata": {},
     "output_type": "execute_result"
    }
   ],
   "source": [
    "a6 = (Array{Int64, 2})[]\n",
    " "
   ]
  },
  {
   "cell_type": "markdown",
   "metadata": {},
   "source": [
    "###### "
   ]
  },
  {
   "cell_type": "code",
   "execution_count": 23,
   "metadata": {
    "collapsed": false
   },
   "outputs": [
    {
     "data": {
      "text/plain": [
       "1-element Array{Array{Int64,2},1}:\n",
       " 2x2 Array{Int64,2}:\n",
       " 5  6\n",
       " 2  4"
      ]
     },
     "execution_count": 23,
     "metadata": {},
     "output_type": "execute_result"
    }
   ],
   "source": [
    "push!(a6,[5 6; 2 4])"
   ]
  },
  {
   "cell_type": "code",
   "execution_count": 24,
   "metadata": {
    "collapsed": false
   },
   "outputs": [
    {
     "data": {
      "text/plain": [
       "1-element Array{Array{Int64,2},1}:\n",
       " 2x2 Array{Int64,2}:\n",
       " 5  6\n",
       " 2  4"
      ]
     },
     "execution_count": 24,
     "metadata": {},
     "output_type": "execute_result"
    }
   ],
   "source": [
    "a6"
   ]
  },
  {
   "cell_type": "code",
   "execution_count": 26,
   "metadata": {
    "collapsed": false
   },
   "outputs": [
    {
     "data": {
      "text/plain": [
       "\"0000000000000000000000000000000000000000000000000000000000000101\""
      ]
     },
     "execution_count": 26,
     "metadata": {},
     "output_type": "execute_result"
    }
   ],
   "source": [
    "bits(a6[1][1])"
   ]
  },
  {
   "cell_type": "code",
   "execution_count": 28,
   "metadata": {
    "collapsed": false
   },
   "outputs": [
    {
     "ename": "LoadError",
     "evalue": "LoadError: MethodError: `bits` has no method matching bits(::Array{Int64,2})\nwhile loading In[28], in expression starting on line 1",
     "output_type": "error",
     "traceback": [
      "LoadError: MethodError: `bits` has no method matching bits(::Array{Int64,2})\nwhile loading In[28], in expression starting on line 1",
      ""
     ]
    }
   ],
   "source": [
    "bits(a6[1])"
   ]
  },
  {
   "cell_type": "code",
   "execution_count": 6,
   "metadata": {
    "collapsed": false
   },
   "outputs": [
    {
     "data": {
      "text/plain": [
       "16x16 Array{Int8,2}:\n",
       "  35  116  105  116   32  121  100   99  …   97  110  110   97  105  113  101\n",
       "  32  104  116   97  116   32   97  107      99   32   32  100  110  117   32\n",
       "  73  101  116  100  111  100  116   97     107   97   97   32  101  105  112\n",
       " 116   32  101   97   32  101   97  103      97   32  110  115  115  114   97\n",
       "  32  121  110  116   97  116   32  101     103  112   32  116   32  101   99\n",
       " 105  101   32   97  117  101  102   32  …  101   97   97   97  119  109  107\n",
       " 115  116  112   32  116  114  111  105     115   99  116  116  104  101   97\n",
       "  32   45   97  103  111  109  114  110      44  107  116  101   97  110  103\n",
       " 117  116   99  101  109  105   32   32      32   97   97   44  116  116  101\n",
       " 115  111  107  110   97  110  116  116      97  103   99   32   32  115   32\n",
       " 101   45   97  101  116  101  104  104  …  110  101  104  100  116   32   97\n",
       " 100   98  103  114  105   32  105  101     100   32  101  101  104  111  114\n",
       "  32  101  101   97   99  109  115   32      32  105  100  116  101  102  101\n",
       "  98   45   32  116   97  101   32  114     119  115   32  101   32   32   32\n",
       " 121  119  109  111  108  116  112  101     104   32  104  114  114  116   99\n",
       "  32  114  101  114  108   97   97  103  …  101  105  101  109  101  104  111"
      ]
     },
     "execution_count": 6,
     "metadata": {},
     "output_type": "execute_result"
    }
   ],
   "source": [
    "height =16 \n",
    "width  =16\n",
    "cells = Array(Int8, height, width)"
   ]
  },
  {
   "cell_type": "code",
   "execution_count": 7,
   "metadata": {
    "collapsed": false
   },
   "outputs": [
    {
     "data": {
      "text/plain": [
       "16x16 Array{Int8,2}:\n",
       "  35  116  105  116   32  121  100   99  …   97  110  110   97  105  113  101\n",
       "  32  104  116   97  116   32   97  107      99   32   32  100  110  117   32\n",
       "  73  101  116  100  111  100  116   97     107   97   97   32  101  105  112\n",
       " 116   32  101   97   32  101   97  103      97   32  110  115  115  114   97\n",
       "  32  121  110  116   97  116   32  101     103  112   32  116   32  101   99\n",
       " 105  101   32   97  117  101  102   32  …  101   97   97   97  119  109  107\n",
       " 115  116  112   32  116  114  111  105     115   99  116  116  104  101   97\n",
       "  32   45   97  103  111  109  114  110      44  107  116  101   97  110  103\n",
       " 117  116   99  101  109  105   32   32      32   97   97   44  116  116  101\n",
       " 115  111  107  110   97  110  116  116      97  103   99   32   32  115   32\n",
       " 101   45   97  101  116  101  104  104  …  110  101  104  100  116   32   97\n",
       " 100   98  103  114  105   32  105  101     100   32  101  101  104  111  114\n",
       "  32  101  101   97   99  109  115   32      32  105  100  116  101  102  101\n",
       "  98   45   32  116   97  101   32  114     119  115   32  101   32   32   32\n",
       " 121  119  109  111  108  116  112  101     104   32  104  114  114  116   99\n",
       "  32  114  101  114  108   97   97  103  …  101  105  101  109  101  104  111"
      ]
     },
     "execution_count": 7,
     "metadata": {},
     "output_type": "execute_result"
    }
   ],
   "source": [
    "cells\n"
   ]
  },
  {
   "cell_type": "code",
   "execution_count": 14,
   "metadata": {
    "collapsed": false
   },
   "outputs": [
    {
     "ename": "LoadError",
     "evalue": "LoadError: UndefVarError: pltm not defined\nwhile loading In[14], in expression starting on line 2",
     "output_type": "error",
     "traceback": [
      "LoadError: UndefVarError: pltm not defined\nwhile loading In[14], in expression starting on line 2",
      "",
      " in imshow at /Users/guggisbe/.julia/v0.4/PyPlot/src/PyPlot.jl:368"
     ]
    }
   ],
   "source": [
    "#title(\"Cellular\")\n",
    "imgplot = imshow(cells)\n",
    "#pycall(imgplot[\"set_interpolation\"],Any,\"nearest\")\n",
    "#pycall(imgplot[\"set_cmap\"],Any,\"hot\")"
   ]
  },
  {
   "cell_type": "code",
   "execution_count": 21,
   "metadata": {
    "collapsed": false
   },
   "outputs": [
    {
     "name": "stdout",
     "output_type": "stream",
     "text": [
      "Symbol not found. Falling back on apropos search ...\n",
      "Base.divrem(x, y)\n",
      "Base.@printf([io::IOStream], \"%Fmt\", args...)\n",
      "Base.round([T], x[, digits[, base]][, r::RoundingMode])\n",
      "Base.round(z, RoundingModeReal, RoundingModeImaginary)\n",
      "Base.rem(x, y)\n",
      "Base.@sprintf(\"%Fmt\", args...)\n"
     ]
    }
   ],
   "source": [
    "help(\"%\")\n",
    "\n"
   ]
  }
 ],
 "metadata": {
  "kernelspec": {
   "display_name": "Julia 0.3.8",
   "language": "julia",
   "name": "julia-0.3"
  },
  "language_info": {
   "name": "julia",
   "version": "0.4.0"
  }
 },
 "nbformat": 4,
 "nbformat_minor": 0
}
