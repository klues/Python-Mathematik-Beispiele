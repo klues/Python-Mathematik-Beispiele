{
 "cells": [
  {
   "cell_type": "code",
   "execution_count": 13,
   "metadata": {
    "collapsed": false
   },
   "outputs": [],
   "source": [
    "\n",
    "using PyPlot\n",
    "using PyCall"
   ]
  },
  {
   "cell_type": "code",
   "execution_count": 1,
   "metadata": {
    "collapsed": false
   },
   "outputs": [
    {
     "data": {
      "text/plain": [
       "1234566"
      ]
     },
     "execution_count": 1,
     "metadata": {},
     "output_type": "execute_result"
    }
   ],
   "source": [
    "a = 1234566\n"
   ]
  },
  {
   "cell_type": "code",
   "execution_count": 2,
   "metadata": {
    "collapsed": false
   },
   "outputs": [
    {
     "data": {
      "text/plain": [
       "\"0000000000000000000000000000000000000000000100101101011010000110\""
      ]
     },
     "execution_count": 2,
     "metadata": {},
     "output_type": "execute_result"
    }
   ],
   "source": [
    "bits(a)"
   ]
  },
  {
   "cell_type": "code",
   "execution_count": 7,
   "metadata": {
    "collapsed": false
   },
   "outputs": [
    {
     "ename": "LoadError",
     "evalue": "LoadError: MethodError: `bitunpack` has no method matching bitunpack(::Int64)\nwhile loading In[7], in expression starting on line 1",
     "output_type": "error",
     "traceback": [
      "LoadError: MethodError: `bitunpack` has no method matching bitunpack(::Int64)\nwhile loading In[7], in expression starting on line 1",
      ""
     ]
    }
   ],
   "source": [
    "bitunpack(a)"
   ]
  },
  {
   "cell_type": "code",
   "execution_count": 9,
   "metadata": {
    "collapsed": false
   },
   "outputs": [
    {
     "data": {
      "text/plain": [
       "\"0000000000000000000000000000000000000000000100101101011010000110\""
      ]
     },
     "execution_count": 9,
     "metadata": {},
     "output_type": "execute_result"
    }
   ],
   "source": [
    "b=bits(a)"
   ]
  },
  {
   "cell_type": "code",
   "execution_count": 15,
   "metadata": {
    "collapsed": false
   },
   "outputs": [
    {
     "data": {
      "text/plain": [
       "0-element Array{Int64,1}"
      ]
     },
     "execution_count": 15,
     "metadata": {},
     "output_type": "execute_result"
    }
   ],
   "source": [
    "a3 = Int64[]\n"
   ]
  },
  {
   "cell_type": "code",
   "execution_count": 21,
   "metadata": {
    "collapsed": false
   },
   "outputs": [
    {
     "data": {
      "text/plain": [
       "0-element Array{Array{Int64,2},1}"
      ]
     },
     "execution_count": 21,
     "metadata": {},
     "output_type": "execute_result"
    }
   ],
   "source": [
    "a6 = (Array{Int64, 2})[]\n",
    " "
   ]
  },
  {
   "cell_type": "markdown",
   "metadata": {},
   "source": [
    "###### "
   ]
  },
  {
   "cell_type": "code",
   "execution_count": 23,
   "metadata": {
    "collapsed": false
   },
   "outputs": [
    {
     "data": {
      "text/plain": [
       "1-element Array{Array{Int64,2},1}:\n",
       " 2x2 Array{Int64,2}:\n",
       " 5  6\n",
       " 2  4"
      ]
     },
     "execution_count": 23,
     "metadata": {},
     "output_type": "execute_result"
    }
   ],
   "source": [
    "push!(a6,[5 6; 2 4])"
   ]
  },
  {
   "cell_type": "code",
   "execution_count": 24,
   "metadata": {
    "collapsed": false
   },
   "outputs": [
    {
     "data": {
      "text/plain": [
       "1-element Array{Array{Int64,2},1}:\n",
       " 2x2 Array{Int64,2}:\n",
       " 5  6\n",
       " 2  4"
      ]
     },
     "execution_count": 24,
     "metadata": {},
     "output_type": "execute_result"
    }
   ],
   "source": [
    "a6"
   ]
  },
  {
   "cell_type": "code",
   "execution_count": 26,
   "metadata": {
    "collapsed": false
   },
   "outputs": [
    {
     "data": {
      "text/plain": [
       "\"0000000000000000000000000000000000000000000000000000000000000101\""
      ]
     },
     "execution_count": 26,
     "metadata": {},
     "output_type": "execute_result"
    }
   ],
   "source": [
    "bits(a6[1][1])"
   ]
  },
  {
   "cell_type": "code",
   "execution_count": 28,
   "metadata": {
    "collapsed": false
   },
   "outputs": [
    {
     "ename": "LoadError",
     "evalue": "LoadError: MethodError: `bits` has no method matching bits(::Array{Int64,2})\nwhile loading In[28], in expression starting on line 1",
     "output_type": "error",
     "traceback": [
      "LoadError: MethodError: `bits` has no method matching bits(::Array{Int64,2})\nwhile loading In[28], in expression starting on line 1",
      ""
     ]
    }
   ],
   "source": [
    "bits(a6[1])"
   ]
  },
  {
   "cell_type": "code",
   "execution_count": 3,
   "metadata": {
    "collapsed": false
   },
   "outputs": [
    {
     "data": {
      "text/plain": [
       "16x16 Array{Int8,2}:\n",
       " -4    -4    -4  -4  -4    -4  -4  -4  …    -4    -4    -4   -4    -4    -4\n",
       " -1    -1    -1  -1  -1    -1  -1  -1       -1    -1    -1   -1    -1    -1\n",
       " -1    -1    -1  -1  -1    -1  -1  -1       -1    -1    -1   -1    -1    -1\n",
       " -1    -1    -1  -1  -1    -1  -1  -1       -1    -1    -1   -1    -1    -1\n",
       " -1    -1    -1  -1  -1    -1  -1  -1       -1    -1    -1   -1    -1    -1\n",
       " -1    -1    -1  -1  -1    -1  -1  -1  …    -1    -1    -1   -1    -1    -1\n",
       " -1    -1    -1  -1  -1    -1  -1  -1       -1    -1    -1   -1    -1    -1\n",
       " -1    -1    -1  -1  -1    -1  -1  -1       -1    -1    -1   -1    -1    -1\n",
       "  0    80    80   0   0   -80   0   0       48   120   -32    1   -16    48\n",
       "  0    54   -96   0   0    15   0   0       54   -98   -23    0    53   116\n",
       "  0    99    94   0   0    99   0   0  …    99    96    96    0    99    95\n",
       "  0  -100  -100   0   0  -100   0   0     -100  -100  -100    0  -100  -100\n",
       "  0  -100  -100   0   1  -100   3   0     -100  -100  -100   -1  -100  -100\n",
       "  0   127   127   0   0   127   0   0      127   127   127  127   127   127\n",
       "  0     0     0   0   0     0   0   0        0     0     0    0     0     0\n",
       "  0     0     0   0   0     0   0   0  …     0     0     0    0     0     0"
      ]
     },
     "execution_count": 3,
     "metadata": {},
     "output_type": "execute_result"
    }
   ],
   "source": [
    "height =16 \n",
    "width  =16\n",
    "cells = Array(Int8, height, width)"
   ]
  },
  {
   "cell_type": "code",
   "execution_count": 4,
   "metadata": {
    "collapsed": false
   },
   "outputs": [
    {
     "data": {
      "text/plain": [
       "16x16 Array{Int8,2}:\n",
       " -4    -4    -4  -4  -4    -4  -4  -4  …    -4    -4    -4   -4    -4    -4\n",
       " -1    -1    -1  -1  -1    -1  -1  -1       -1    -1    -1   -1    -1    -1\n",
       " -1    -1    -1  -1  -1    -1  -1  -1       -1    -1    -1   -1    -1    -1\n",
       " -1    -1    -1  -1  -1    -1  -1  -1       -1    -1    -1   -1    -1    -1\n",
       " -1    -1    -1  -1  -1    -1  -1  -1       -1    -1    -1   -1    -1    -1\n",
       " -1    -1    -1  -1  -1    -1  -1  -1  …    -1    -1    -1   -1    -1    -1\n",
       " -1    -1    -1  -1  -1    -1  -1  -1       -1    -1    -1   -1    -1    -1\n",
       " -1    -1    -1  -1  -1    -1  -1  -1       -1    -1    -1   -1    -1    -1\n",
       "  0    80    80   0   0   -80   0   0       48   120   -32    1   -16    48\n",
       "  0    54   -96   0   0    15   0   0       54   -98   -23    0    53   116\n",
       "  0    99    94   0   0    99   0   0  …    99    96    96    0    99    95\n",
       "  0  -100  -100   0   0  -100   0   0     -100  -100  -100    0  -100  -100\n",
       "  0  -100  -100   0   1  -100   3   0     -100  -100  -100   -1  -100  -100\n",
       "  0   127   127   0   0   127   0   0      127   127   127  127   127   127\n",
       "  0     0     0   0   0     0   0   0        0     0     0    0     0     0\n",
       "  0     0     0   0   0     0   0   0  …     0     0     0    0     0     0"
      ]
     },
     "execution_count": 4,
     "metadata": {},
     "output_type": "execute_result"
    }
   ],
   "source": [
    "cells\n"
   ]
  },
  {
   "cell_type": "code",
   "execution_count": 6,
   "metadata": {
    "collapsed": false
   },
   "outputs": [
    {
     "name": "stderr",
     "output_type": "stream",
     "text": [
      "INFO: Loading help data...\n"
     ]
    },
    {
     "data": {
      "image/png": "[encoded data removed]",
      "text/plain": [
       "Figure(PyObject <matplotlib.figure.Figure object at 0x11445b350>)"
      ]
     },
     "metadata": {},
     "output_type": "display_data"
    },
    {
     "data": {
      "text/plain": [
       "PyObject None"
      ]
     },
     "execution_count": 6,
     "metadata": {},
     "output_type": "execute_result"
    }
   ],
   "source": [
    "using PyPlot\n",
    "using PyCall\n",
    "\n",
    "title(\"Cellular\")\n",
    "imgplot = imshow(cells)\n",
    "pycall(imgplot[\"set_interpolation\"],Any,\"nearest\")\n",
    "pycall(imgplot[\"set_cmap\"],Any,\"hot\")"
   ]
  },
  {
   "cell_type": "code",
   "execution_count": 54,
   "metadata": {
    "collapsed": false
   },
   "outputs": [
    {
     "data": {
      "text/plain": [
       "toBin (generic function with 1 method)"
      ]
     },
     "execution_count": 54,
     "metadata": {},
     "output_type": "execute_result"
    }
   ],
   "source": [
    "function toBin(number::BigInt)\n",
    "    #bitsb = bits(number)\n",
    "    bitsb = bin(number)\n",
    "    barray = [parseint(Int8,c) for c in bitsb]\n",
    "    return barray\n",
    "    #return bitpack(barray)\n",
    "end"
   ]
  },
  {
   "cell_type": "code",
   "execution_count": 68,
   "metadata": {
    "collapsed": false
   },
   "outputs": [
    {
     "name": "stdout",
     "output_type": "stream",
     "text": [
      "Array{Int8,2}Int8[123 108 92 40 32 112 92 99 32 51 110 108\n",
      "     34 115 110 49 49 32 110 101 32 92 73 108\n",
      "     99 32 122 41 58 61 32 108 32 110 110 115\n",
      "     111 61 32 92 56 32 32 108 32 101 116 41\n",
      "     100 32 61 110 92 116 32 115 122 110 65 34\n",
      "     101 65 32 102 110 111 32 44 32 100 114 44\n",
      "     34 114 66 111 32 66 112 116 61 92 114 34\n",
      "     58 114 105 114 32 105 117 109 32 110 97 101\n",
      "     34 97 103 32 32 110 115 112 122 92 121 120\n",
      "     99 121 73 105 32 40 104 41 32 110 40 101\n",
      "     101 91 110 32 116 122 33 92 42 103 99 99\n",
      "     108 93 116 61 109 41 40 110 32 101 101 117]1"
     ]
    },
    {
     "ename": "LoadError",
     "evalue": "`push!` has no method matching push!(::Int8, ::Int8)\nwhile loading In[68], in expression starting on line 26",
     "output_type": "error",
     "traceback": [
      "`push!` has no method matching push!(::Int8, ::Int8)\nwhile loading In[68], in expression starting on line 26",
      "",
      " in genIntArray at In[68]:18"
     ]
    }
   ],
   "source": [
    "function genIntArray(A)\n",
    "    maxsize=0\n",
    "    for row in A\n",
    "        tmp = length(row)\n",
    "        if tmp > maxsize\n",
    "            maxsize = tmp\n",
    "        end\n",
    "    end\n",
    "    \n",
    "    outcells = Array(Int8, maxsize, maxsize)\n",
    "    \n",
    "    print(typeof(outcells))\n",
    "    print(outcells)\n",
    "    i = 1\n",
    "    for row in A\n",
    "        for c in row\n",
    "            print(c)\n",
    "            \n",
    "            # write correct in 2D Array\n",
    "            push!(outcells[i],c)\n",
    "        end\n",
    "        i = i+1\n",
    "    end\n",
    "    \n",
    "    \n",
    "end\n",
    "\n",
    "genIntArray(cells)\n",
    "\n",
    "#cells"
   ]
  },
  {
   "cell_type": "code",
   "execution_count": 60,
   "metadata": {
    "collapsed": false
   },
   "outputs": [
    {
     "name": "stdout",
     "output_type": "stream",
     "text": [
      "Array[Int8[1],Int8[1,1],Int8[1,0,0,1],Int8[1,1,0,1,1],Int8[1,0,1,0,0,0,1],Int8[1,1,1,1,0,0,1,1],Int8[1,0,1,1,0,1,1,0,0,1],Int8[1,0,0,0,1,0,0,0,1,0,1,1]]"
     ]
    },
    {
     "ename": "LoadError",
     "evalue": "`push!` has no method matching push!(::Int8, ::Int8)\nwhile loading In[60], in expression starting on line 11",
     "output_type": "error",
     "traceback": [
      "`push!` has no method matching push!(::Int8, ::Int8)\nwhile loading In[60], in expression starting on line 11",
      "",
      " in genIntArray at In[51]:14"
     ]
    }
   ],
   "source": [
    "cells = Array[]\n",
    "z = BigInt(1)\n",
    "for i = 1:8\n",
    "    tmp = toBin(z)\n",
    "    push!(cells,tmp)\n",
    "    z = z * 3\n",
    "end\n",
    "\n",
    "print(cells)\n",
    "\n",
    "genIntArray(cells)"
   ]
  },
  {
   "cell_type": "code",
   "execution_count": 49,
   "metadata": {
    "collapsed": false
   },
   "outputs": [
    {
     "ename": "LoadError",
     "evalue": "type cannot be constructed\nwhile loading In[49], in expression starting on line 3",
     "output_type": "error",
     "traceback": [
      "type cannot be constructed\nwhile loading In[49], in expression starting on line 3",
      "",
      " in anonymous at no file:5"
     ]
    }
   ],
   "source": [
    "cells = BitArray[]\n",
    "z = BigInt(1)\n",
    "for i = 1:8\n",
    "    tmp = toBin(z)\n",
    "    push!(cells,Int(tmp))\n",
    "    z = z*3\n",
    "end\n",
    "\n",
    "\n",
    "#genIntArray(cells)\n"
   ]
  },
  {
   "cell_type": "code",
   "execution_count": 5,
   "metadata": {
    "collapsed": false
   },
   "outputs": [
    {
     "name": "stderr",
     "output_type": "stream",
     "text": [
      "INFO: Loading help data...\n"
     ]
    },
    {
     "ename": "LoadError",
     "evalue": "PyError (:PyObject_Call) <type 'exceptions.TypeError'>\nTypeError(u'Invalid dimensions for image data',)\n  File \"/Users/guggisberg/Library/Enthought/Canopy_64bit/User/lib/python2.7/site-packages/matplotlib/pyplot.py\", line 2961, in imshow\n    imlim=imlim, resample=resample, url=url, **kwargs)\n  File \"/Users/guggisberg/Library/Enthought/Canopy_64bit/User/lib/python2.7/site-packages/matplotlib/axes/_axes.py\", line 4644, in imshow\n    im.set_data(X)\n  File \"/Users/guggisberg/Library/Enthought/Canopy_64bit/User/lib/python2.7/site-packages/matplotlib/image.py\", line 438, in set_data\n    raise TypeError(\"Invalid dimensions for image data\")\n\nwhile loading In[5], in expression starting on line 5",
     "output_type": "error",
     "traceback": [
      "PyError (:PyObject_Call) <type 'exceptions.TypeError'>\nTypeError(u'Invalid dimensions for image data',)\n  File \"/Users/guggisberg/Library/Enthought/Canopy_64bit/User/lib/python2.7/site-packages/matplotlib/pyplot.py\", line 2961, in imshow\n    imlim=imlim, resample=resample, url=url, **kwargs)\n  File \"/Users/guggisberg/Library/Enthought/Canopy_64bit/User/lib/python2.7/site-packages/matplotlib/axes/_axes.py\", line 4644, in imshow\n    im.set_data(X)\n  File \"/Users/guggisberg/Library/Enthought/Canopy_64bit/User/lib/python2.7/site-packages/matplotlib/image.py\", line 438, in set_data\n    raise TypeError(\"Invalid dimensions for image data\")\n\nwhile loading In[5], in expression starting on line 5",
      "",
      " in getindex at /Users/guggisberg/.julia/v0.3/PyCall/src/PyCall.jl:246",
      " in pysequence_query at /Users/guggisberg/.julia/v0.3/PyCall/src/conversions.jl:776",
      " in pytype_query at /Users/guggisberg/.julia/v0.3/PyCall/src/conversions.jl:792",
      " in convert at /Users/guggisberg/.julia/v0.3/PyCall/src/conversions.jl:842",
      " in pycall at /Users/guggisberg/.julia/v0.3/PyCall/src/PyCall.jl:403",
      " in fn at /Users/guggisberg/.julia/v0.3/PyCall/src/conversions.jl:188",
      " in close_queued_figs at /Users/guggisberg/.julia/v0.3/PyPlot/src/PyPlot.jl:296"
     ]
    }
   ],
   "source": [
    "using PyPlot\n",
    "using PyCall\n",
    "\n",
    "title(\"Cellular\")\n",
    "imgplot = imshow(cells)\n",
    "pycall(imgplot[\"set_interpolation\"],Any,\"nearest\")\n",
    "pycall(imgplot[\"set_cmap\"],Any,\"hot\")"
   ]
  },
  {
   "cell_type": "code",
   "execution_count": 43,
   "metadata": {
    "collapsed": false
   },
   "outputs": [
    {
     "data": {
      "text/plain": [
       "136-element BitArray{1}:\n",
       "  true\n",
       " false\n",
       "  true\n",
       "  true\n",
       "  true\n",
       "  true\n",
       "  true\n",
       "  true\n",
       "  true\n",
       "  true\n",
       " false\n",
       " false\n",
       " false\n",
       "     ⋮\n",
       " false\n",
       "  true\n",
       " false\n",
       "  true\n",
       " false\n",
       "  true\n",
       "  true\n",
       " false\n",
       " false\n",
       " false\n",
       "  true\n",
       "  true"
      ]
     },
     "execution_count": 43,
     "metadata": {},
     "output_type": "execute_result"
    }
   ],
   "source": [
    "a = BigInt(65254234534532535354379870707070708708707)\n",
    "toBin(a)"
   ]
  }
 ],
 "metadata": {
  "kernelspec": {
   "display_name": "Julia 0.3.10",
   "language": "julia",
   "name": "julia-0.3"
  },
  "language_info": {
   "name": "julia",
   "version": "0.3.10"
  }
 },
 "nbformat": 4,
 "nbformat_minor": 0
}
