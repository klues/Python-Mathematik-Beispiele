{
 "cells": [
  {
   "cell_type": "code",
   "execution_count": 1,
   "metadata": {
    "collapsed": false
   },
   "outputs": [
    {
     "name": "stderr",
     "output_type": "stream",
     "text": [
      "INFO: Loading help data...\n"
     ]
    }
   ],
   "source": [
    "\n",
    "using PyPlot\n",
    "using PyCall"
   ]
  },
  {
   "cell_type": "code",
   "execution_count": 2,
   "metadata": {
    "collapsed": false
   },
   "outputs": [
    {
     "data": {
      "text/plain": [
       "1234566"
      ]
     },
     "execution_count": 2,
     "metadata": {},
     "output_type": "execute_result"
    }
   ],
   "source": [
    "a = 1234566\n"
   ]
  },
  {
   "cell_type": "code",
   "execution_count": 3,
   "metadata": {
    "collapsed": false
   },
   "outputs": [
    {
     "data": {
      "text/plain": [
       "\"0000000000000000000000000000000000000000000100101101011010000110\""
      ]
     },
     "execution_count": 3,
     "metadata": {},
     "output_type": "execute_result"
    }
   ],
   "source": [
    "bits(a)"
   ]
  },
  {
   "cell_type": "code",
   "execution_count": 7,
   "metadata": {
    "collapsed": false
   },
   "outputs": [
    {
     "data": {
      "text/plain": [
       "\"0000000000000000000000000000000000000000000100101101011010000110\""
      ]
     },
     "execution_count": 7,
     "metadata": {},
     "output_type": "execute_result"
    }
   ],
   "source": [
    "b=bits(a)"
   ]
  },
  {
   "cell_type": "code",
   "execution_count": 8,
   "metadata": {
    "collapsed": false
   },
   "outputs": [
    {
     "data": {
      "text/plain": [
       "0-element Array{Int64,1}"
      ]
     },
     "execution_count": 8,
     "metadata": {},
     "output_type": "execute_result"
    }
   ],
   "source": [
    "a3 = Int64[]\n"
   ]
  },
  {
   "cell_type": "code",
   "execution_count": 9,
   "metadata": {
    "collapsed": false
   },
   "outputs": [
    {
     "data": {
      "text/plain": [
       "0-element Array{Array{Int64,2},1}"
      ]
     },
     "execution_count": 9,
     "metadata": {},
     "output_type": "execute_result"
    }
   ],
   "source": [
    "a6 = (Array{Int64, 2})[]\n",
    " "
   ]
  },
  {
   "cell_type": "markdown",
   "metadata": {},
   "source": [
    "###### "
   ]
  },
  {
   "cell_type": "code",
   "execution_count": 10,
   "metadata": {
    "collapsed": false
   },
   "outputs": [
    {
     "data": {
      "text/plain": [
       "1-element Array{Array{Int64,2},1}:\n",
       " 2x2 Array{Int64,2}:\n",
       " 5  6\n",
       " 2  4"
      ]
     },
     "execution_count": 10,
     "metadata": {},
     "output_type": "execute_result"
    }
   ],
   "source": [
    "push!(a6,[5 6; 2 4])"
   ]
  },
  {
   "cell_type": "code",
   "execution_count": 11,
   "metadata": {
    "collapsed": false
   },
   "outputs": [
    {
     "data": {
      "text/plain": [
       "1-element Array{Array{Int64,2},1}:\n",
       " 2x2 Array{Int64,2}:\n",
       " 5  6\n",
       " 2  4"
      ]
     },
     "execution_count": 11,
     "metadata": {},
     "output_type": "execute_result"
    }
   ],
   "source": [
    "a6"
   ]
  },
  {
   "cell_type": "code",
   "execution_count": 12,
   "metadata": {
    "collapsed": false
   },
   "outputs": [
    {
     "data": {
      "text/plain": [
       "\"0000000000000000000000000000000000000000000000000000000000000101\""
      ]
     },
     "execution_count": 12,
     "metadata": {},
     "output_type": "execute_result"
    }
   ],
   "source": [
    "bits(a6[1][1])"
   ]
  },
  {
   "cell_type": "code",
   "execution_count": 14,
   "metadata": {
    "collapsed": false
   },
   "outputs": [
    {
     "data": {
      "text/plain": [
       "16x16 Array{Int8,2}:\n",
       " 0  0  0  0  0  0  0  0  0  0  0  0  0  0  0  0\n",
       " 0  0  0  0  0  0  0  0  0  0  0  0  0  0  0  0\n",
       " 0  0  0  0  0  0  0  0  0  0  0  0  0  0  0  0\n",
       " 0  0  0  0  0  0  0  0  0  0  0  0  0  0  0  0\n",
       " 0  0  0  0  0  0  0  0  0  0  0  0  0  0  0  0\n",
       " 0  0  0  0  0  0  0  0  0  0  0  0  0  0  0  0\n",
       " 0  0  0  0  0  0  0  0  0  0  0  0  0  0  0  0\n",
       " 0  0  0  0  0  0  0  0  0  0  0  0  0  0  0  0\n",
       " 0  0  0  0  0  0  0  0  0  0  0  0  0  0  0  0\n",
       " 0  0  0  0  0  0  0  0  0  0  0  0  0  0  0  0\n",
       " 0  0  0  0  0  0  0  0  0  0  0  0  0  0  0  0\n",
       " 0  0  0  0  0  0  0  0  0  0  0  0  0  0  0  0\n",
       " 0  0  0  0  0  0  0  0  0  0  0  0  0  0  0  0\n",
       " 0  0  0  0  0  0  0  0  0  0  0  0  0  0  0  0\n",
       " 0  0  0  0  0  0  0  0  0  0  0  0  0  0  0  0\n",
       " 0  0  0  0  0  0  0  0  0  0  0  0  0  0  0  0"
      ]
     },
     "execution_count": 14,
     "metadata": {},
     "output_type": "execute_result"
    }
   ],
   "source": [
    "height =16 \n",
    "width  =16\n",
    "cells = Array(Int8, height, width)"
   ]
  },
  {
   "cell_type": "code",
   "execution_count": 55,
   "metadata": {
    "collapsed": false
   },
   "outputs": [
    {
     "data": {
      "text/plain": [
       "16x16 Array{Float64,2}:\n",
       " 0.618551   0.903629   0.451521   …  0.578676   0.599997    0.615693 \n",
       " 0.203381   0.59582    0.790011      0.211748   0.148918    0.221482 \n",
       " 0.691242   0.95472    0.508336      0.432529   0.821917    0.644286 \n",
       " 0.678607   0.90592    0.26691       0.644968   0.249163    0.882424 \n",
       " 0.286527   0.527008   0.509608      0.168343   0.00790354  0.966568 \n",
       " 0.250513   0.134746   0.355904   …  0.495908   0.300628    0.370759 \n",
       " 0.53635    0.284449   0.747017      0.904059   0.362201    0.0463615\n",
       " 0.685206   0.938815   0.425123      0.954933   0.858304    0.0467365\n",
       " 0.384488   0.507975   0.811833      0.568654   0.69325     0.274499 \n",
       " 0.326759   0.172066   0.939259      0.0985392  0.544134    0.448045 \n",
       " 0.960331   0.872932   0.705371   …  0.0368672  0.136521    0.561807 \n",
       " 0.968837   0.44109    0.0868568     0.663032   0.0279301   0.436247 \n",
       " 0.51124    0.884425   0.386449      0.653255   0.380257    0.773944 \n",
       " 0.337151   0.483784   0.126489      0.166567   0.90394     0.403889 \n",
       " 0.0837491  0.0294278  0.854379      0.589061   0.621118    0.240823 \n",
       " 0.0533485  0.297285   0.578998   …  0.853715   0.312387    0.195139 "
      ]
     },
     "execution_count": 55,
     "metadata": {},
     "output_type": "execute_result"
    }
   ],
   "source": [
    "cells =rand(16,16)\n"
   ]
  },
  {
   "cell_type": "code",
   "execution_count": 16,
   "metadata": {
    "collapsed": false
   },
   "outputs": [
    {
     "data": {
      "image/png": "[encoded data removed]",
      "text/plain": [
       "Figure(PyObject <matplotlib.figure.Figure object at 0x115b39ed0>)"
      ]
     },
     "metadata": {},
     "output_type": "display_data"
    },
    {
     "data": {
      "text/plain": [
       "PyObject None"
      ]
     },
     "execution_count": 16,
     "metadata": {},
     "output_type": "execute_result"
    }
   ],
   "source": [
    "using PyPlot\n",
    "using PyCall\n",
    "\n",
    "title(\"Cellular\")\n",
    "imgplot = imshow(cells)\n",
    "pycall(imgplot[\"set_interpolation\"],Any,\"nearest\")\n",
    "pycall(imgplot[\"set_cmap\"],Any,\"hot\")"
   ]
  },
  {
   "cell_type": "code",
   "execution_count": 26,
   "metadata": {
    "collapsed": false
   },
   "outputs": [
    {
     "data": {
      "text/plain": [
       "toBin (generic function with 1 method)"
      ]
     },
     "execution_count": 26,
     "metadata": {},
     "output_type": "execute_result"
    }
   ],
   "source": [
    "function toBin(number::BigInt)\n",
    "    #bitsb = bits(number)\n",
    "    bitsb = bin(number)\n",
    "    barray = [parseint(Int8,c) for c in bitsb]\n",
    "    return barray\n",
    "    #return bitpack(barray)\n",
    "end"
   ]
  },
  {
   "cell_type": "code",
   "execution_count": 18,
   "metadata": {
    "collapsed": false
   },
   "outputs": [
    {
     "name": "stdout",
     "output_type": "stream",
     "text": [
      "Array{Int8,2}Int8[-80]0"
     ]
    },
    {
     "ename": "LoadError",
     "evalue": "`push!` has no method matching push!(::Int8, ::Int8)\nwhile loading In[18], in expression starting on line 28",
     "output_type": "error",
     "traceback": [
      "`push!` has no method matching push!(::Int8, ::Int8)\nwhile loading In[18], in expression starting on line 28",
      "",
      " in genIntArray at In[18]:20"
     ]
    }
   ],
   "source": [
    "function genIntArray(A)\n",
    "    maxsize=0\n",
    "    for row in A\n",
    "        tmp = length(row)\n",
    "        if tmp > maxsize\n",
    "            maxsize = tmp\n",
    "        end\n",
    "    end\n",
    "    \n",
    "    outcells = Array(Int8, maxsize, maxsize)\n",
    "    \n",
    "    print(typeof(outcells))\n",
    "    print(outcells)\n",
    "    i = 1\n",
    "    for row in A\n",
    "        for c in row\n",
    "            print(c)\n",
    "            \n",
    "            # write correct in 2D Array\n",
    "            push!(outcells[i],c)\n",
    "        end\n",
    "        i = i+1\n",
    "    end\n",
    "    \n",
    "    \n",
    "end\n",
    "\n",
    "genIntArray(cells)\n",
    "\n",
    "#cells"
   ]
  },
  {
   "cell_type": "code",
   "execution_count": 19,
   "metadata": {
    "collapsed": false
   },
   "outputs": [
    {
     "name": "stdout",
     "output_type": "stream",
     "text": [
      "Array[Int8[1],Int8[1,1],Int8[1,0,0,1],Int8[1,1,0,1,1],Int8[1,0,1,0,0,0,1],Int8[1,1,1,1,0,0,1,1],Int8[1,0,1,1,0,1,1,0,0,1],Int8[1,0,0,0,1,0,0,0,1,0,1,1]]Array{Int8,2}Int8[123 49 66 49 103 99 34 58 34 46 34 66\n",
      "     34 52 51 65 95 117 44 34 118 48 58 66\n",
      "     109 51 55 52 116 116 34 117 101 34 34 51\n",
      "     115 52 57 67 121 101 117 115 114 44 55 52\n",
      "     103 67 69 54 112 95 115 101 115 34 67 67\n",
      "     95 51 67 56 101 114 101 114 105 115 51 54\n",
      "     105 68 56 66 34 101 114 110 111 101 70 56\n",
      "     100 52 67 34 58 113 110 97 110 115 57 57\n",
      "     34 51 57 44 34 117 97 109 34 115 65 67\n",
      "     58 53 54 34 101 101 109 101 58 105 51 48\n",
      "     34 57 67 109 120 115 101 34 34 111 57 57\n",
      "     49 52 51 115 101 116 34 44 53 110 70 55]1"
     ]
    },
    {
     "ename": "LoadError",
     "evalue": "`push!` has no method matching push!(::Int8, ::Int8)\nwhile loading In[19], in expression starting on line 11",
     "output_type": "error",
     "traceback": [
      "`push!` has no method matching push!(::Int8, ::Int8)\nwhile loading In[19], in expression starting on line 11",
      "",
      " in genIntArray at In[18]:20"
     ]
    }
   ],
   "source": [
    "cells = Array[]\n",
    "z = BigInt(1)\n",
    "for i = 1:8\n",
    "    tmp = toBin(z)\n",
    "    push!(cells,tmp)\n",
    "    z = z * 3\n",
    "end\n",
    "\n",
    "print(cells)\n",
    "\n",
    "genIntArray(cells)"
   ]
  },
  {
   "cell_type": "code",
   "execution_count": 38,
   "metadata": {
    "collapsed": false
   },
   "outputs": [],
   "source": [
    "z = BigInt(1)\n",
    "\n",
    "cells = BitArray[]\n",
    "\n",
    "for i = 1:8\n",
    "    t = toBin(z)\n",
    "    push!(cells,t)\n",
    "    z = z*3\n",
    "end\n",
    "\n",
    "\n",
    "\n",
    "#genIntArray(cells)\n",
    "\n"
   ]
  },
  {
   "cell_type": "code",
   "execution_count": 52,
   "metadata": {
    "collapsed": false
   },
   "outputs": [
    {
     "data": {
      "text/plain": [
       "8-element Array{Array{T,N},1}:\n",
       " [0.5]                                            \n",
       " [0.5,0.5]                                        \n",
       " [0.5,0.0,0.0,0.5]                                \n",
       " [0.5,0.5,0.0,0.5,0.5]                            \n",
       " [0.5,0.0,0.5,0.0,0.0,0.0,0.5]                    \n",
       " [0.5,0.5,0.5,0.5,0.0,0.0,0.5,0.5]                \n",
       " [0.5,0.0,0.5,0.5,0.0,0.5,0.5,0.0,0.0,0.5]        \n",
       " [0.5,0.0,0.0,0.0,0.5,0.0,0.0,0.0,0.5,0.0,0.5,0.5]"
      ]
     },
     "execution_count": 52,
     "metadata": {},
     "output_type": "execute_result"
    }
   ],
   "source": [
    "A = Array[]\n",
    "\n",
    "for i = 1:length(cells)\n",
    "    push!(A,0.5*int(cells[i]))\n",
    "    \n",
    "end\n",
    "\n",
    "\n",
    "A\n",
    "\n",
    "\n"
   ]
  },
  {
   "cell_type": "code",
   "execution_count": null,
   "metadata": {
    "collapsed": false
   },
   "outputs": [],
   "source": [
    "a = BigInt(65254234534532535354379870707070708708707)\n",
    "toBin(a)"
   ]
  }
 ],
 "metadata": {
  "kernelspec": {
   "display_name": "Julia 0.3.10",
   "language": "julia",
   "name": "julia-0.3"
  },
  "language_info": {
   "file_extension": ".jl",
   "mimetype": "application/julia",
   "name": "julia",
   "version": "0.3.10"
  }
 },
 "nbformat": 4,
 "nbformat_minor": 0
}
